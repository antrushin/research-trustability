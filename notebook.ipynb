{
 "cells": [
  {
   "cell_type": "markdown",
   "metadata": {
    "id": "fLaejRSzoOaM"
   },
   "source": [
    "# Исследование надёжности заёмщиков\n",
    "\n",
    "Заказчик — кредитный отдел банка. Нужно разобраться, влияет ли семейное положение и количество детей клиента на факт погашения кредита в срок. Входные данные от банка — статистика о платёжеспособности клиентов.\n",
    "\n",
    "Результаты исследования будут учтены при построении модели **кредитного скоринга** — специальной системы, которая оценивает способность потенциального заёмщика вернуть кредит банку."
   ]
  },
  {
   "cell_type": "markdown",
   "metadata": {
    "id": "v9B5KU5SJczR"
   },
   "source": [
    "*Описание данных:*\n",
    "\n",
    "* children — количество детей в семье\n",
    "* days_employed — общий трудовой стаж в днях\n",
    "* dob_years — возраст клиента в годах\n",
    "* education — уровень образования клиента\n",
    "* education_id — идентификатор уровня образования\n",
    "* family_status — семейное положение\n",
    "* family_status_id — идентификатор семейного положения\n",
    "* gender — пол клиента\n",
    "* income_type — тип занятости\n",
    "* debt — имел ли задолженность по возврату кредитов\n",
    "* total_income — ежемесячный доход\n",
    "* purpose — цель получения кредита"
   ]
  },
  {
   "cell_type": "markdown",
   "metadata": {
    "id": "WbyEFihOoOaQ"
   },
   "source": [
    "## Шаг 1. Откройте файл с данными и изучите общую информацию"
   ]
  },
  {
   "cell_type": "code",
   "execution_count": 19,
   "metadata": {
    "colab": {
     "base_uri": "https://localhost:8080/"
    },
    "id": "PiSIkQFYoOaQ",
    "outputId": "5d9b8537-301a-4ae2-eb78-4b5ebe08632b"
   },
   "outputs": [],
   "source": [
    "import pandas as pd\n",
    "import numpy as np\n",
    "from collections import Counter\n",
    "from pymystem3 import Mystem\n",
    "\n",
    "pd.set_option('display.float_format', '{:,.2f}'.format)\n",
    "\n",
    "#Для первого запуска pymystem3 при работе в Google colab\n",
    "#!wget http://download.cdn.yandex.net/mystem/mystem-3.0-linux3.1-64bit.tar.gz\n",
    "#!tar -xvf mystem-3.0-linux3.1-64bit.tar.gz\n",
    "#!cp mystem /root/.local/bin/mystem\n",
    "#Если не в Google colab, то все закомментировать\n",
    "\n",
    "df = pd.read_csv('https://code.s3.yandex.net/datasets/data.csv')"
   ]
  },
  {
   "cell_type": "markdown",
   "metadata": {
    "id": "pVjK_PoLrVF3"
   },
   "source": [
    "Просмотрим первые 15 строк"
   ]
  },
  {
   "cell_type": "code",
   "execution_count": 20,
   "metadata": {
    "colab": {
     "base_uri": "https://localhost:8080/",
     "height": 806
    },
    "id": "cVF55o6Uz5pg",
    "outputId": "ad2c6a74-e646-429f-eab3-ff3f8d1e9b32"
   },
   "outputs": [
    {
     "data": {
      "text/html": [
       "<div>\n",
       "<style scoped>\n",
       "    .dataframe tbody tr th:only-of-type {\n",
       "        vertical-align: middle;\n",
       "    }\n",
       "\n",
       "    .dataframe tbody tr th {\n",
       "        vertical-align: top;\n",
       "    }\n",
       "\n",
       "    .dataframe thead th {\n",
       "        text-align: right;\n",
       "    }\n",
       "</style>\n",
       "<table border=\"1\" class=\"dataframe\">\n",
       "  <thead>\n",
       "    <tr style=\"text-align: right;\">\n",
       "      <th></th>\n",
       "      <th>children</th>\n",
       "      <th>days_employed</th>\n",
       "      <th>dob_years</th>\n",
       "      <th>education</th>\n",
       "      <th>education_id</th>\n",
       "      <th>family_status</th>\n",
       "      <th>family_status_id</th>\n",
       "      <th>gender</th>\n",
       "      <th>income_type</th>\n",
       "      <th>debt</th>\n",
       "      <th>total_income</th>\n",
       "      <th>purpose</th>\n",
       "    </tr>\n",
       "  </thead>\n",
       "  <tbody>\n",
       "    <tr>\n",
       "      <td>0</td>\n",
       "      <td>1</td>\n",
       "      <td>-8,437.67</td>\n",
       "      <td>42</td>\n",
       "      <td>высшее</td>\n",
       "      <td>0</td>\n",
       "      <td>женат / замужем</td>\n",
       "      <td>0</td>\n",
       "      <td>F</td>\n",
       "      <td>сотрудник</td>\n",
       "      <td>0</td>\n",
       "      <td>253,875.64</td>\n",
       "      <td>покупка жилья</td>\n",
       "    </tr>\n",
       "    <tr>\n",
       "      <td>1</td>\n",
       "      <td>1</td>\n",
       "      <td>-4,024.80</td>\n",
       "      <td>36</td>\n",
       "      <td>среднее</td>\n",
       "      <td>1</td>\n",
       "      <td>женат / замужем</td>\n",
       "      <td>0</td>\n",
       "      <td>F</td>\n",
       "      <td>сотрудник</td>\n",
       "      <td>0</td>\n",
       "      <td>112,080.01</td>\n",
       "      <td>приобретение автомобиля</td>\n",
       "    </tr>\n",
       "    <tr>\n",
       "      <td>2</td>\n",
       "      <td>0</td>\n",
       "      <td>-5,623.42</td>\n",
       "      <td>33</td>\n",
       "      <td>Среднее</td>\n",
       "      <td>1</td>\n",
       "      <td>женат / замужем</td>\n",
       "      <td>0</td>\n",
       "      <td>M</td>\n",
       "      <td>сотрудник</td>\n",
       "      <td>0</td>\n",
       "      <td>145,885.95</td>\n",
       "      <td>покупка жилья</td>\n",
       "    </tr>\n",
       "    <tr>\n",
       "      <td>3</td>\n",
       "      <td>3</td>\n",
       "      <td>-4,124.75</td>\n",
       "      <td>32</td>\n",
       "      <td>среднее</td>\n",
       "      <td>1</td>\n",
       "      <td>женат / замужем</td>\n",
       "      <td>0</td>\n",
       "      <td>M</td>\n",
       "      <td>сотрудник</td>\n",
       "      <td>0</td>\n",
       "      <td>267,628.55</td>\n",
       "      <td>дополнительное образование</td>\n",
       "    </tr>\n",
       "    <tr>\n",
       "      <td>4</td>\n",
       "      <td>0</td>\n",
       "      <td>340,266.07</td>\n",
       "      <td>53</td>\n",
       "      <td>среднее</td>\n",
       "      <td>1</td>\n",
       "      <td>гражданский брак</td>\n",
       "      <td>1</td>\n",
       "      <td>F</td>\n",
       "      <td>пенсионер</td>\n",
       "      <td>0</td>\n",
       "      <td>158,616.08</td>\n",
       "      <td>сыграть свадьбу</td>\n",
       "    </tr>\n",
       "    <tr>\n",
       "      <td>5</td>\n",
       "      <td>0</td>\n",
       "      <td>-926.19</td>\n",
       "      <td>27</td>\n",
       "      <td>высшее</td>\n",
       "      <td>0</td>\n",
       "      <td>гражданский брак</td>\n",
       "      <td>1</td>\n",
       "      <td>M</td>\n",
       "      <td>компаньон</td>\n",
       "      <td>0</td>\n",
       "      <td>255,763.57</td>\n",
       "      <td>покупка жилья</td>\n",
       "    </tr>\n",
       "    <tr>\n",
       "      <td>6</td>\n",
       "      <td>0</td>\n",
       "      <td>-2,879.20</td>\n",
       "      <td>43</td>\n",
       "      <td>высшее</td>\n",
       "      <td>0</td>\n",
       "      <td>женат / замужем</td>\n",
       "      <td>0</td>\n",
       "      <td>F</td>\n",
       "      <td>компаньон</td>\n",
       "      <td>0</td>\n",
       "      <td>240,525.97</td>\n",
       "      <td>операции с жильем</td>\n",
       "    </tr>\n",
       "    <tr>\n",
       "      <td>7</td>\n",
       "      <td>0</td>\n",
       "      <td>-152.78</td>\n",
       "      <td>50</td>\n",
       "      <td>СРЕДНЕЕ</td>\n",
       "      <td>1</td>\n",
       "      <td>женат / замужем</td>\n",
       "      <td>0</td>\n",
       "      <td>M</td>\n",
       "      <td>сотрудник</td>\n",
       "      <td>0</td>\n",
       "      <td>135,823.93</td>\n",
       "      <td>образование</td>\n",
       "    </tr>\n",
       "    <tr>\n",
       "      <td>8</td>\n",
       "      <td>2</td>\n",
       "      <td>-6,929.87</td>\n",
       "      <td>35</td>\n",
       "      <td>ВЫСШЕЕ</td>\n",
       "      <td>0</td>\n",
       "      <td>гражданский брак</td>\n",
       "      <td>1</td>\n",
       "      <td>F</td>\n",
       "      <td>сотрудник</td>\n",
       "      <td>0</td>\n",
       "      <td>95,856.83</td>\n",
       "      <td>на проведение свадьбы</td>\n",
       "    </tr>\n",
       "    <tr>\n",
       "      <td>9</td>\n",
       "      <td>0</td>\n",
       "      <td>-2,188.76</td>\n",
       "      <td>41</td>\n",
       "      <td>среднее</td>\n",
       "      <td>1</td>\n",
       "      <td>женат / замужем</td>\n",
       "      <td>0</td>\n",
       "      <td>M</td>\n",
       "      <td>сотрудник</td>\n",
       "      <td>0</td>\n",
       "      <td>144,425.94</td>\n",
       "      <td>покупка жилья для семьи</td>\n",
       "    </tr>\n",
       "    <tr>\n",
       "      <td>10</td>\n",
       "      <td>2</td>\n",
       "      <td>-4,171.48</td>\n",
       "      <td>36</td>\n",
       "      <td>высшее</td>\n",
       "      <td>0</td>\n",
       "      <td>женат / замужем</td>\n",
       "      <td>0</td>\n",
       "      <td>M</td>\n",
       "      <td>компаньон</td>\n",
       "      <td>0</td>\n",
       "      <td>113,943.49</td>\n",
       "      <td>покупка недвижимости</td>\n",
       "    </tr>\n",
       "    <tr>\n",
       "      <td>11</td>\n",
       "      <td>0</td>\n",
       "      <td>-792.70</td>\n",
       "      <td>40</td>\n",
       "      <td>среднее</td>\n",
       "      <td>1</td>\n",
       "      <td>женат / замужем</td>\n",
       "      <td>0</td>\n",
       "      <td>F</td>\n",
       "      <td>сотрудник</td>\n",
       "      <td>0</td>\n",
       "      <td>77,069.23</td>\n",
       "      <td>покупка коммерческой недвижимости</td>\n",
       "    </tr>\n",
       "    <tr>\n",
       "      <td>12</td>\n",
       "      <td>0</td>\n",
       "      <td>nan</td>\n",
       "      <td>65</td>\n",
       "      <td>среднее</td>\n",
       "      <td>1</td>\n",
       "      <td>гражданский брак</td>\n",
       "      <td>1</td>\n",
       "      <td>M</td>\n",
       "      <td>пенсионер</td>\n",
       "      <td>0</td>\n",
       "      <td>nan</td>\n",
       "      <td>сыграть свадьбу</td>\n",
       "    </tr>\n",
       "    <tr>\n",
       "      <td>13</td>\n",
       "      <td>0</td>\n",
       "      <td>-1,846.64</td>\n",
       "      <td>54</td>\n",
       "      <td>неоконченное высшее</td>\n",
       "      <td>2</td>\n",
       "      <td>женат / замужем</td>\n",
       "      <td>0</td>\n",
       "      <td>F</td>\n",
       "      <td>сотрудник</td>\n",
       "      <td>0</td>\n",
       "      <td>130,458.23</td>\n",
       "      <td>приобретение автомобиля</td>\n",
       "    </tr>\n",
       "    <tr>\n",
       "      <td>14</td>\n",
       "      <td>0</td>\n",
       "      <td>-1,844.96</td>\n",
       "      <td>56</td>\n",
       "      <td>высшее</td>\n",
       "      <td>0</td>\n",
       "      <td>гражданский брак</td>\n",
       "      <td>1</td>\n",
       "      <td>F</td>\n",
       "      <td>компаньон</td>\n",
       "      <td>1</td>\n",
       "      <td>165,127.91</td>\n",
       "      <td>покупка жилой недвижимости</td>\n",
       "    </tr>\n",
       "  </tbody>\n",
       "</table>\n",
       "</div>"
      ],
      "text/plain": [
       "    children  days_employed  dob_years            education  education_id  \\\n",
       "0          1      -8,437.67         42               высшее             0   \n",
       "1          1      -4,024.80         36              среднее             1   \n",
       "2          0      -5,623.42         33              Среднее             1   \n",
       "3          3      -4,124.75         32              среднее             1   \n",
       "4          0     340,266.07         53              среднее             1   \n",
       "5          0        -926.19         27               высшее             0   \n",
       "6          0      -2,879.20         43               высшее             0   \n",
       "7          0        -152.78         50              СРЕДНЕЕ             1   \n",
       "8          2      -6,929.87         35               ВЫСШЕЕ             0   \n",
       "9          0      -2,188.76         41              среднее             1   \n",
       "10         2      -4,171.48         36               высшее             0   \n",
       "11         0        -792.70         40              среднее             1   \n",
       "12         0            nan         65              среднее             1   \n",
       "13         0      -1,846.64         54  неоконченное высшее             2   \n",
       "14         0      -1,844.96         56               высшее             0   \n",
       "\n",
       "       family_status  family_status_id gender income_type  debt  total_income  \\\n",
       "0    женат / замужем                 0      F   сотрудник     0    253,875.64   \n",
       "1    женат / замужем                 0      F   сотрудник     0    112,080.01   \n",
       "2    женат / замужем                 0      M   сотрудник     0    145,885.95   \n",
       "3    женат / замужем                 0      M   сотрудник     0    267,628.55   \n",
       "4   гражданский брак                 1      F   пенсионер     0    158,616.08   \n",
       "5   гражданский брак                 1      M   компаньон     0    255,763.57   \n",
       "6    женат / замужем                 0      F   компаньон     0    240,525.97   \n",
       "7    женат / замужем                 0      M   сотрудник     0    135,823.93   \n",
       "8   гражданский брак                 1      F   сотрудник     0     95,856.83   \n",
       "9    женат / замужем                 0      M   сотрудник     0    144,425.94   \n",
       "10   женат / замужем                 0      M   компаньон     0    113,943.49   \n",
       "11   женат / замужем                 0      F   сотрудник     0     77,069.23   \n",
       "12  гражданский брак                 1      M   пенсионер     0           nan   \n",
       "13   женат / замужем                 0      F   сотрудник     0    130,458.23   \n",
       "14  гражданский брак                 1      F   компаньон     1    165,127.91   \n",
       "\n",
       "                              purpose  \n",
       "0                       покупка жилья  \n",
       "1             приобретение автомобиля  \n",
       "2                       покупка жилья  \n",
       "3          дополнительное образование  \n",
       "4                     сыграть свадьбу  \n",
       "5                       покупка жилья  \n",
       "6                   операции с жильем  \n",
       "7                         образование  \n",
       "8               на проведение свадьбы  \n",
       "9             покупка жилья для семьи  \n",
       "10               покупка недвижимости  \n",
       "11  покупка коммерческой недвижимости  \n",
       "12                    сыграть свадьбу  \n",
       "13            приобретение автомобиля  \n",
       "14         покупка жилой недвижимости  "
      ]
     },
     "execution_count": 20,
     "metadata": {},
     "output_type": "execute_result"
    }
   ],
   "source": [
    "df.head(15)"
   ]
  },
  {
   "cell_type": "markdown",
   "metadata": {
    "id": "VycYY0_yrT5E"
   },
   "source": [
    "Просмотрим информацию в целом"
   ]
  },
  {
   "cell_type": "code",
   "execution_count": 21,
   "metadata": {
    "colab": {
     "base_uri": "https://localhost:8080/"
    },
    "id": "_tryN2Iq9eAm",
    "outputId": "148b9d6e-1fd0-4a97-dab6-c9b7c0652c14"
   },
   "outputs": [
    {
     "name": "stdout",
     "output_type": "stream",
     "text": [
      "<class 'pandas.core.frame.DataFrame'>\n",
      "RangeIndex: 21525 entries, 0 to 21524\n",
      "Data columns (total 12 columns):\n",
      "children            21525 non-null int64\n",
      "days_employed       19351 non-null float64\n",
      "dob_years           21525 non-null int64\n",
      "education           21525 non-null object\n",
      "education_id        21525 non-null int64\n",
      "family_status       21525 non-null object\n",
      "family_status_id    21525 non-null int64\n",
      "gender              21525 non-null object\n",
      "income_type         21525 non-null object\n",
      "debt                21525 non-null int64\n",
      "total_income        19351 non-null float64\n",
      "purpose             21525 non-null object\n",
      "dtypes: float64(2), int64(5), object(5)\n",
      "memory usage: 2.0+ MB\n"
     ]
    }
   ],
   "source": [
    "df.info()"
   ]
  },
  {
   "cell_type": "markdown",
   "metadata": {
    "id": "GHbs3W4QI4Om"
   },
   "source": [
    "Видим, что есть пропуски в столбцах. Прикинем в долях, сколько пропуски составляют от общего количества. (Если домножим значение на 100, то получим проценты)"
   ]
  },
  {
   "cell_type": "code",
   "execution_count": 22,
   "metadata": {
    "colab": {
     "base_uri": "https://localhost:8080/"
    },
    "id": "55pCKXi393ld",
    "outputId": "7587550b-9275-4b02-d678-080d37c0d209"
   },
   "outputs": [
    {
     "data": {
      "text/plain": [
       "children           0.00\n",
       "days_employed      0.10\n",
       "dob_years          0.00\n",
       "education          0.00\n",
       "education_id       0.00\n",
       "family_status      0.00\n",
       "family_status_id   0.00\n",
       "gender             0.00\n",
       "income_type        0.00\n",
       "debt               0.00\n",
       "total_income       0.10\n",
       "purpose            0.00\n",
       "dtype: float64"
      ]
     },
     "execution_count": 22,
     "metadata": {},
     "output_type": "execute_result"
    }
   ],
   "source": [
    "df.isna().mean()"
   ]
  },
  {
   "cell_type": "markdown",
   "metadata": {
    "id": "KJTGq71wtTgc"
   },
   "source": [
    "Также посмотрим уникальные значения по столбцам. Для этого создадим список из интересующих нас столбцов и через цикл вызовем метод value_counts к каждому столбцу"
   ]
  },
  {
   "cell_type": "code",
   "execution_count": 23,
   "metadata": {
    "colab": {
     "base_uri": "https://localhost:8080/"
    },
    "id": "h5ie4SQ2xx2i",
    "outputId": "b5aae406-2bff-4b91-c521-355dc4030950"
   },
   "outputs": [
    {
     "data": {
      "text/plain": [
       "Index(['children', 'days_employed', 'dob_years', 'education', 'education_id',\n",
       "       'family_status', 'family_status_id', 'gender', 'income_type', 'debt',\n",
       "       'total_income', 'purpose'],\n",
       "      dtype='object')"
      ]
     },
     "execution_count": 23,
     "metadata": {},
     "output_type": "execute_result"
    }
   ],
   "source": [
    "df.columns"
   ]
  },
  {
   "cell_type": "code",
   "execution_count": 24,
   "metadata": {
    "id": "_klc4zY0x1hM"
   },
   "outputs": [],
   "source": [
    "columns_to_value_counts = ['children', 'education', 'education_id',\n",
    "       'family_status', 'family_status_id', 'gender', 'income_type', 'debt', 'purpose']"
   ]
  },
  {
   "cell_type": "code",
   "execution_count": 25,
   "metadata": {
    "colab": {
     "base_uri": "https://localhost:8080/",
     "height": 1000
    },
    "id": "apg7NnDwtbgF",
    "outputId": "082c66c5-ac37-46e3-a00b-b4105a153a8e"
   },
   "outputs": [
    {
     "data": {
      "text/plain": [
       "'---- children ---'"
      ]
     },
     "metadata": {},
     "output_type": "display_data"
    },
    {
     "data": {
      "text/plain": [
       " 0     14149\n",
       " 1      4818\n",
       " 2      2055\n",
       " 3       330\n",
       " 20       76\n",
       "-1        47\n",
       " 4        41\n",
       " 5         9\n",
       "Name: children, dtype: int64"
      ]
     },
     "metadata": {},
     "output_type": "display_data"
    },
    {
     "data": {
      "text/plain": [
       "'---- education ---'"
      ]
     },
     "metadata": {},
     "output_type": "display_data"
    },
    {
     "data": {
      "text/plain": [
       "среднее                13750\n",
       "высшее                  4718\n",
       "СРЕДНЕЕ                  772\n",
       "Среднее                  711\n",
       "неоконченное высшее      668\n",
       "ВЫСШЕЕ                   274\n",
       "Высшее                   268\n",
       "начальное                250\n",
       "Неоконченное высшее       47\n",
       "НЕОКОНЧЕННОЕ ВЫСШЕЕ       29\n",
       "НАЧАЛЬНОЕ                 17\n",
       "Начальное                 15\n",
       "ученая степень             4\n",
       "УЧЕНАЯ СТЕПЕНЬ             1\n",
       "Ученая степень             1\n",
       "Name: education, dtype: int64"
      ]
     },
     "metadata": {},
     "output_type": "display_data"
    },
    {
     "data": {
      "text/plain": [
       "'---- education_id ---'"
      ]
     },
     "metadata": {},
     "output_type": "display_data"
    },
    {
     "data": {
      "text/plain": [
       "1    15233\n",
       "0     5260\n",
       "2      744\n",
       "3      282\n",
       "4        6\n",
       "Name: education_id, dtype: int64"
      ]
     },
     "metadata": {},
     "output_type": "display_data"
    },
    {
     "data": {
      "text/plain": [
       "'---- family_status ---'"
      ]
     },
     "metadata": {},
     "output_type": "display_data"
    },
    {
     "data": {
      "text/plain": [
       "женат / замужем          12380\n",
       "гражданский брак          4177\n",
       "Не женат / не замужем     2813\n",
       "в разводе                 1195\n",
       "вдовец / вдова             960\n",
       "Name: family_status, dtype: int64"
      ]
     },
     "metadata": {},
     "output_type": "display_data"
    },
    {
     "data": {
      "text/plain": [
       "'---- family_status_id ---'"
      ]
     },
     "metadata": {},
     "output_type": "display_data"
    },
    {
     "data": {
      "text/plain": [
       "0    12380\n",
       "1     4177\n",
       "4     2813\n",
       "3     1195\n",
       "2      960\n",
       "Name: family_status_id, dtype: int64"
      ]
     },
     "metadata": {},
     "output_type": "display_data"
    },
    {
     "data": {
      "text/plain": [
       "'---- gender ---'"
      ]
     },
     "metadata": {},
     "output_type": "display_data"
    },
    {
     "data": {
      "text/plain": [
       "F      14236\n",
       "M       7288\n",
       "XNA        1\n",
       "Name: gender, dtype: int64"
      ]
     },
     "metadata": {},
     "output_type": "display_data"
    },
    {
     "data": {
      "text/plain": [
       "'---- income_type ---'"
      ]
     },
     "metadata": {},
     "output_type": "display_data"
    },
    {
     "data": {
      "text/plain": [
       "сотрудник          11119\n",
       "компаньон           5085\n",
       "пенсионер           3856\n",
       "госслужащий         1459\n",
       "предприниматель        2\n",
       "безработный            2\n",
       "в декрете              1\n",
       "студент                1\n",
       "Name: income_type, dtype: int64"
      ]
     },
     "metadata": {},
     "output_type": "display_data"
    },
    {
     "data": {
      "text/plain": [
       "'---- debt ---'"
      ]
     },
     "metadata": {},
     "output_type": "display_data"
    },
    {
     "data": {
      "text/plain": [
       "0    19784\n",
       "1     1741\n",
       "Name: debt, dtype: int64"
      ]
     },
     "metadata": {},
     "output_type": "display_data"
    },
    {
     "data": {
      "text/plain": [
       "'---- purpose ---'"
      ]
     },
     "metadata": {},
     "output_type": "display_data"
    },
    {
     "data": {
      "text/plain": [
       "свадьба                                   797\n",
       "на проведение свадьбы                     777\n",
       "сыграть свадьбу                           774\n",
       "операции с недвижимостью                  676\n",
       "покупка коммерческой недвижимости         664\n",
       "операции с жильем                         653\n",
       "покупка жилья для сдачи                   653\n",
       "операции с коммерческой недвижимостью     651\n",
       "покупка жилья                             647\n",
       "жилье                                     647\n",
       "покупка жилья для семьи                   641\n",
       "строительство собственной недвижимости    635\n",
       "недвижимость                              634\n",
       "операции со своей недвижимостью           630\n",
       "строительство жилой недвижимости          626\n",
       "покупка недвижимости                      624\n",
       "покупка своего жилья                      620\n",
       "строительство недвижимости                620\n",
       "ремонт жилью                              612\n",
       "покупка жилой недвижимости                607\n",
       "на покупку своего автомобиля              505\n",
       "заняться высшим образованием              496\n",
       "автомобиль                                495\n",
       "сделка с подержанным автомобилем          489\n",
       "свой автомобиль                           480\n",
       "на покупку подержанного автомобиля        479\n",
       "автомобили                                478\n",
       "на покупку автомобиля                     472\n",
       "приобретение автомобиля                   462\n",
       "дополнительное образование                462\n",
       "сделка с автомобилем                      455\n",
       "высшее образование                        453\n",
       "получение дополнительного образования     447\n",
       "образование                               447\n",
       "получение образования                     443\n",
       "профильное образование                    436\n",
       "получение высшего образования             426\n",
       "заняться образованием                     412\n",
       "Name: purpose, dtype: int64"
      ]
     },
     "metadata": {},
     "output_type": "display_data"
    }
   ],
   "source": [
    "for c in columns_to_value_counts:\n",
    "    display(\"---- %s ---\" % c)\n",
    "    display(df[c].value_counts())"
   ]
  },
  {
   "cell_type": "markdown",
   "metadata": {
    "id": "s51zfUpDDbjz"
   },
   "source": [
    "Также посмотрим значения с помощью метода describe()"
   ]
  },
  {
   "cell_type": "code",
   "execution_count": 26,
   "metadata": {
    "colab": {
     "base_uri": "https://localhost:8080/",
     "height": 297
    },
    "id": "aNpnXVXuDiVE",
    "outputId": "d4607d37-168f-47e3-c584-78499d4cfb67"
   },
   "outputs": [
    {
     "data": {
      "text/html": [
       "<div>\n",
       "<style scoped>\n",
       "    .dataframe tbody tr th:only-of-type {\n",
       "        vertical-align: middle;\n",
       "    }\n",
       "\n",
       "    .dataframe tbody tr th {\n",
       "        vertical-align: top;\n",
       "    }\n",
       "\n",
       "    .dataframe thead th {\n",
       "        text-align: right;\n",
       "    }\n",
       "</style>\n",
       "<table border=\"1\" class=\"dataframe\">\n",
       "  <thead>\n",
       "    <tr style=\"text-align: right;\">\n",
       "      <th></th>\n",
       "      <th>children</th>\n",
       "      <th>days_employed</th>\n",
       "      <th>dob_years</th>\n",
       "      <th>education_id</th>\n",
       "      <th>family_status_id</th>\n",
       "      <th>debt</th>\n",
       "      <th>total_income</th>\n",
       "    </tr>\n",
       "  </thead>\n",
       "  <tbody>\n",
       "    <tr>\n",
       "      <td>count</td>\n",
       "      <td>21,525.00</td>\n",
       "      <td>19,351.00</td>\n",
       "      <td>21,525.00</td>\n",
       "      <td>21,525.00</td>\n",
       "      <td>21,525.00</td>\n",
       "      <td>21,525.00</td>\n",
       "      <td>19,351.00</td>\n",
       "    </tr>\n",
       "    <tr>\n",
       "      <td>mean</td>\n",
       "      <td>0.54</td>\n",
       "      <td>63,046.50</td>\n",
       "      <td>43.29</td>\n",
       "      <td>0.82</td>\n",
       "      <td>0.97</td>\n",
       "      <td>0.08</td>\n",
       "      <td>167,422.30</td>\n",
       "    </tr>\n",
       "    <tr>\n",
       "      <td>std</td>\n",
       "      <td>1.38</td>\n",
       "      <td>140,827.31</td>\n",
       "      <td>12.57</td>\n",
       "      <td>0.55</td>\n",
       "      <td>1.42</td>\n",
       "      <td>0.27</td>\n",
       "      <td>102,971.57</td>\n",
       "    </tr>\n",
       "    <tr>\n",
       "      <td>min</td>\n",
       "      <td>-1.00</td>\n",
       "      <td>-18,388.95</td>\n",
       "      <td>0.00</td>\n",
       "      <td>0.00</td>\n",
       "      <td>0.00</td>\n",
       "      <td>0.00</td>\n",
       "      <td>20,667.26</td>\n",
       "    </tr>\n",
       "    <tr>\n",
       "      <td>25%</td>\n",
       "      <td>0.00</td>\n",
       "      <td>-2,747.42</td>\n",
       "      <td>33.00</td>\n",
       "      <td>1.00</td>\n",
       "      <td>0.00</td>\n",
       "      <td>0.00</td>\n",
       "      <td>103,053.15</td>\n",
       "    </tr>\n",
       "    <tr>\n",
       "      <td>50%</td>\n",
       "      <td>0.00</td>\n",
       "      <td>-1,203.37</td>\n",
       "      <td>42.00</td>\n",
       "      <td>1.00</td>\n",
       "      <td>0.00</td>\n",
       "      <td>0.00</td>\n",
       "      <td>145,017.94</td>\n",
       "    </tr>\n",
       "    <tr>\n",
       "      <td>75%</td>\n",
       "      <td>1.00</td>\n",
       "      <td>-291.10</td>\n",
       "      <td>53.00</td>\n",
       "      <td>1.00</td>\n",
       "      <td>1.00</td>\n",
       "      <td>0.00</td>\n",
       "      <td>203,435.07</td>\n",
       "    </tr>\n",
       "    <tr>\n",
       "      <td>max</td>\n",
       "      <td>20.00</td>\n",
       "      <td>401,755.40</td>\n",
       "      <td>75.00</td>\n",
       "      <td>4.00</td>\n",
       "      <td>4.00</td>\n",
       "      <td>1.00</td>\n",
       "      <td>2,265,604.03</td>\n",
       "    </tr>\n",
       "  </tbody>\n",
       "</table>\n",
       "</div>"
      ],
      "text/plain": [
       "       children  days_employed  dob_years  education_id  family_status_id  \\\n",
       "count 21,525.00      19,351.00  21,525.00     21,525.00         21,525.00   \n",
       "mean       0.54      63,046.50      43.29          0.82              0.97   \n",
       "std        1.38     140,827.31      12.57          0.55              1.42   \n",
       "min       -1.00     -18,388.95       0.00          0.00              0.00   \n",
       "25%        0.00      -2,747.42      33.00          1.00              0.00   \n",
       "50%        0.00      -1,203.37      42.00          1.00              0.00   \n",
       "75%        1.00        -291.10      53.00          1.00              1.00   \n",
       "max       20.00     401,755.40      75.00          4.00              4.00   \n",
       "\n",
       "           debt  total_income  \n",
       "count 21,525.00     19,351.00  \n",
       "mean       0.08    167,422.30  \n",
       "std        0.27    102,971.57  \n",
       "min        0.00     20,667.26  \n",
       "25%        0.00    103,053.15  \n",
       "50%        0.00    145,017.94  \n",
       "75%        0.00    203,435.07  \n",
       "max        1.00  2,265,604.03  "
      ]
     },
     "execution_count": 26,
     "metadata": {},
     "output_type": "execute_result"
    }
   ],
   "source": [
    "df.describe()"
   ]
  },
  {
   "cell_type": "markdown",
   "metadata": {
    "id": "QvYWL5E2EXMG"
   },
   "source": [
    "Интересно, что в столбце `days_employed` максимальное значение 401755.400475. В годах это 1100 лет. Так как продолжительность жизни меньше, то это значение неправильно заполнено. Попробуем найти эту строку"
   ]
  },
  {
   "cell_type": "markdown",
   "metadata": {
    "id": "5ICDwaYloOaR"
   },
   "source": [
    "**Вывод**\n",
    "\n",
    "Всего представлено 21525 строк, 12 столбцов.\n",
    "Какие проблемы выявлены:\n",
    "* В столбцах `days_employed` и `total_income` есть отсутствующие значения (~10% от всех данных);\n",
    "* Значения в столбце `education` одинаковые, но написаны разным регистром;\n",
    "* В столбце `purpose` есть одинаковые значения по смыслу;\n",
    "* В столбце `days_employed` есть отрицательные значения, также тип должен быть целочисленным;\n",
    "* В столбце`children` есть отрицательное значение и артефакт со значением 20;\n",
    "* В столбце `gender` есть артефакт со значением XNA;\n",
    "* В столбце `dob_years` есть нули\n",
    "\n"
   ]
  },
  {
   "cell_type": "markdown",
   "metadata": {
    "id": "MfXarEmgoOaR"
   },
   "source": [
    "## Шаг 2. Предобработка данных"
   ]
  },
  {
   "cell_type": "markdown",
   "metadata": {
    "id": "khhuCrqyoOaT"
   },
   "source": [
    "### Обработка дубликатов"
   ]
  },
  {
   "cell_type": "markdown",
   "metadata": {
    "id": "0xd-xHBUrj7-"
   },
   "source": [
    "В первую очередь приведем все значения в столбце `education` к нижнему регистру"
   ]
  },
  {
   "cell_type": "code",
   "execution_count": 27,
   "metadata": {
    "id": "ojw9wM9AtI7R"
   },
   "outputs": [],
   "source": [
    "df['education'] = df['education'].str.lower()"
   ]
  },
  {
   "cell_type": "markdown",
   "metadata": {
    "id": "_mFEBlK4tngS"
   },
   "source": [
    "Проверка"
   ]
  },
  {
   "cell_type": "code",
   "execution_count": 28,
   "metadata": {
    "colab": {
     "base_uri": "https://localhost:8080/"
    },
    "id": "IsUu-pvzudP8",
    "outputId": "223abd58-109a-4965-bde5-e37bcdd3c46a"
   },
   "outputs": [
    {
     "data": {
      "text/plain": [
       "среднее                15233\n",
       "высшее                  5260\n",
       "неоконченное высшее      744\n",
       "начальное                282\n",
       "ученая степень             6\n",
       "Name: education, dtype: int64"
      ]
     },
     "execution_count": 28,
     "metadata": {},
     "output_type": "execute_result"
    }
   ],
   "source": [
    "df['education'].value_counts()"
   ]
  },
  {
   "cell_type": "markdown",
   "metadata": {
    "id": "gkm-YWwjujk5"
   },
   "source": [
    "Посмотрим, есть ли явные дубликаты"
   ]
  },
  {
   "cell_type": "code",
   "execution_count": 29,
   "metadata": {
    "colab": {
     "base_uri": "https://localhost:8080/"
    },
    "id": "layJv4yEup41",
    "outputId": "33cb6c83-3b27-4c45-9984-14a3b04cc0d8"
   },
   "outputs": [
    {
     "data": {
      "text/plain": [
       "71"
      ]
     },
     "execution_count": 29,
     "metadata": {},
     "output_type": "execute_result"
    }
   ],
   "source": [
    "df.duplicated().sum()"
   ]
  },
  {
   "cell_type": "markdown",
   "metadata": {
    "id": "LIJAnSw-uvPM"
   },
   "source": [
    "Удалим такие дубликаты"
   ]
  },
  {
   "cell_type": "code",
   "execution_count": 30,
   "metadata": {
    "id": "Ba1wJYBuu_2k"
   },
   "outputs": [],
   "source": [
    "df = df.drop_duplicates().reset_index(drop=True)"
   ]
  },
  {
   "cell_type": "markdown",
   "metadata": {
    "id": "z0j3NDkIvNGl"
   },
   "source": [
    "Проверка"
   ]
  },
  {
   "cell_type": "code",
   "execution_count": 31,
   "metadata": {
    "colab": {
     "base_uri": "https://localhost:8080/"
    },
    "id": "RCmBbrZ9vPP5",
    "outputId": "f8cbf514-9119-4115-a80e-7f542e3deeee"
   },
   "outputs": [
    {
     "data": {
      "text/plain": [
       "0"
      ]
     },
     "execution_count": 31,
     "metadata": {},
     "output_type": "execute_result"
    }
   ],
   "source": [
    "df.duplicated().sum()"
   ]
  },
  {
   "cell_type": "markdown",
   "metadata": {
    "id": "QDnMKL9DoOaU"
   },
   "source": [
    "**Вывод**"
   ]
  },
  {
   "cell_type": "markdown",
   "metadata": {
    "id": "xUbtHCF9oOaU"
   },
   "source": [
    "Что проделано:\n",
    "* значения в столбце `education` приведены к нижнему регистру;\n",
    "* удалены явные дубликаты."
   ]
  },
  {
   "cell_type": "markdown",
   "metadata": {
    "id": "Qxs-g27zxBjV"
   },
   "source": [
    "## Обработка артефактов, нулей и прочее\n",
    "\n",
    "**1. Удалим строку со значением 'XNA' в столбце `gender`. Так как такая запись всего одна, то просто удалим ее.**"
   ]
  },
  {
   "cell_type": "markdown",
   "metadata": {
    "id": "Sx_pjcADxVsy"
   },
   "source": [
    "Узнаем текущее количество строк для последующей проверки. Так как строка, которую нужно удалить - всего одна, то длина датафрейма уменьшится на один."
   ]
  },
  {
   "cell_type": "code",
   "execution_count": 32,
   "metadata": {
    "colab": {
     "base_uri": "https://localhost:8080/"
    },
    "id": "urMAs4ssxttB",
    "outputId": "82507800-5355-439d-cdc1-28227ff386ad"
   },
   "outputs": [
    {
     "data": {
      "text/plain": [
       "21454"
      ]
     },
     "execution_count": 32,
     "metadata": {},
     "output_type": "execute_result"
    }
   ],
   "source": [
    "len(df)"
   ]
  },
  {
   "cell_type": "code",
   "execution_count": 33,
   "metadata": {
    "id": "GoH5U5vaxz9D"
   },
   "outputs": [],
   "source": [
    "df = df[df['gender'] != 'XNA']"
   ]
  },
  {
   "cell_type": "code",
   "execution_count": 34,
   "metadata": {
    "colab": {
     "base_uri": "https://localhost:8080/"
    },
    "id": "BeGg5MZtzAWB",
    "outputId": "5a268c8f-e536-496e-b6bc-b9db47ee56e8"
   },
   "outputs": [
    {
     "data": {
      "text/plain": [
       "21453"
      ]
     },
     "execution_count": 34,
     "metadata": {},
     "output_type": "execute_result"
    }
   ],
   "source": [
    "len(df)"
   ]
  },
  {
   "cell_type": "markdown",
   "metadata": {
    "id": "2UhlB4kbzDZq"
   },
   "source": [
    "Датафрейм ожидаемо уменьшился на одну строку. Проверим значения в столбце."
   ]
  },
  {
   "cell_type": "code",
   "execution_count": 35,
   "metadata": {
    "colab": {
     "base_uri": "https://localhost:8080/"
    },
    "id": "6wQ9nuPUzvFr",
    "outputId": "e1d24ede-0f42-4c0e-a3d5-dba6e5f4e838"
   },
   "outputs": [
    {
     "data": {
      "text/plain": [
       "F    14174\n",
       "M     7279\n",
       "Name: gender, dtype: int64"
      ]
     },
     "execution_count": 35,
     "metadata": {},
     "output_type": "execute_result"
    }
   ],
   "source": [
    "df['gender'].value_counts()"
   ]
  },
  {
   "cell_type": "markdown",
   "metadata": {
    "id": "IJZuZk5e297Y"
   },
   "source": [
    "сбросим индексы"
   ]
  },
  {
   "cell_type": "code",
   "execution_count": 36,
   "metadata": {
    "id": "4T6zP1xX2_6B"
   },
   "outputs": [],
   "source": [
    "df = df.reset_index(drop=True)"
   ]
  },
  {
   "cell_type": "code",
   "execution_count": 37,
   "metadata": {
    "colab": {
     "base_uri": "https://localhost:8080/"
    },
    "id": "bFTyVtnr3QGp",
    "outputId": "d04f23e4-ccf2-4720-f221-0b51e3038940"
   },
   "outputs": [
    {
     "name": "stdout",
     "output_type": "stream",
     "text": [
      "<class 'pandas.core.frame.DataFrame'>\n",
      "RangeIndex: 21453 entries, 0 to 21452\n",
      "Data columns (total 12 columns):\n",
      "children            21453 non-null int64\n",
      "days_employed       19350 non-null float64\n",
      "dob_years           21453 non-null int64\n",
      "education           21453 non-null object\n",
      "education_id        21453 non-null int64\n",
      "family_status       21453 non-null object\n",
      "family_status_id    21453 non-null int64\n",
      "gender              21453 non-null object\n",
      "income_type         21453 non-null object\n",
      "debt                21453 non-null int64\n",
      "total_income        19350 non-null float64\n",
      "purpose             21453 non-null object\n",
      "dtypes: float64(2), int64(5), object(5)\n",
      "memory usage: 2.0+ MB\n"
     ]
    }
   ],
   "source": [
    "df.info()"
   ]
  },
  {
   "cell_type": "markdown",
   "metadata": {
    "id": "VyVyHvZg0RUf"
   },
   "source": [
    "**2. Отрицательные значения в столбце `days_employed` и `children` скорее всего занесены ошибочно. Приведем их к положительным.**"
   ]
  },
  {
   "cell_type": "code",
   "execution_count": 38,
   "metadata": {
    "id": "erBvFFb80zgh"
   },
   "outputs": [],
   "source": [
    "df['days_employed'] = df['days_employed'].abs()"
   ]
  },
  {
   "cell_type": "markdown",
   "metadata": {
    "id": "Diga3BKw1D0s"
   },
   "source": [
    "Проверка"
   ]
  },
  {
   "cell_type": "code",
   "execution_count": 39,
   "metadata": {
    "colab": {
     "base_uri": "https://localhost:8080/"
    },
    "id": "8xtYc8sR1FOe",
    "outputId": "8dd7327a-c993-4506-ee3f-c04d0e70b6a5"
   },
   "outputs": [
    {
     "data": {
      "text/plain": [
       "24.14163324048118"
      ]
     },
     "execution_count": 39,
     "metadata": {},
     "output_type": "execute_result"
    }
   ],
   "source": [
    "df['days_employed'].min()"
   ]
  },
  {
   "cell_type": "code",
   "execution_count": 40,
   "metadata": {
    "id": "hdtukUuj1cok"
   },
   "outputs": [],
   "source": [
    "df['children'] = df['children'].abs()"
   ]
  },
  {
   "cell_type": "markdown",
   "metadata": {
    "id": "Xg-094wW2wUB"
   },
   "source": [
    "Проверка"
   ]
  },
  {
   "cell_type": "code",
   "execution_count": 41,
   "metadata": {
    "colab": {
     "base_uri": "https://localhost:8080/"
    },
    "id": "sXQ8b4VE2rXB",
    "outputId": "61709628-0a7b-4285-8ebd-0afffc3a8f0e"
   },
   "outputs": [
    {
     "data": {
      "text/plain": [
       "0     14090\n",
       "1      4855\n",
       "2      2052\n",
       "3       330\n",
       "20       76\n",
       "4        41\n",
       "5         9\n",
       "Name: children, dtype: int64"
      ]
     },
     "execution_count": 41,
     "metadata": {},
     "output_type": "execute_result"
    }
   ],
   "source": [
    "df['children'].value_counts()"
   ]
  },
  {
   "cell_type": "markdown",
   "metadata": {
    "id": "pGpLEsQj2yXv"
   },
   "source": [
    "**3. В таблице `children` также есть значение, которое является артефактом - 20. Неизвестно, опечатка ли это при вводе 2 или 0. Так как точно установить истину в этом случае не удастся, а таких строк 76, то заполним значение по медиане значений группы `income_type`.**"
   ]
  },
  {
   "cell_type": "markdown",
   "metadata": {
    "id": "w6vpL6TV8VSC"
   },
   "source": [
    "Построим сводную таблицу"
   ]
  },
  {
   "cell_type": "code",
   "execution_count": 42,
   "metadata": {
    "id": "cwCC2m1Ru5ff"
   },
   "outputs": [],
   "source": [
    "t = df.groupby(['gender', 'income_type'])['children'].agg(['count', 'sum', 'mean', 'median'])"
   ]
  },
  {
   "cell_type": "code",
   "execution_count": 43,
   "metadata": {
    "colab": {
     "base_uri": "https://localhost:8080/",
     "height": 514
    },
    "id": "ygdxNCRJwBkc",
    "outputId": "26efead2-2d2d-4ea4-b1ec-cfcd619c2834"
   },
   "outputs": [
    {
     "data": {
      "text/html": [
       "<div>\n",
       "<style scoped>\n",
       "    .dataframe tbody tr th:only-of-type {\n",
       "        vertical-align: middle;\n",
       "    }\n",
       "\n",
       "    .dataframe tbody tr th {\n",
       "        vertical-align: top;\n",
       "    }\n",
       "\n",
       "    .dataframe thead th {\n",
       "        text-align: right;\n",
       "    }\n",
       "</style>\n",
       "<table border=\"1\" class=\"dataframe\">\n",
       "  <thead>\n",
       "    <tr style=\"text-align: right;\">\n",
       "      <th></th>\n",
       "      <th></th>\n",
       "      <th>count</th>\n",
       "      <th>sum</th>\n",
       "      <th>mean</th>\n",
       "      <th>median</th>\n",
       "    </tr>\n",
       "    <tr>\n",
       "      <th>gender</th>\n",
       "      <th>income_type</th>\n",
       "      <th></th>\n",
       "      <th></th>\n",
       "      <th></th>\n",
       "      <th></th>\n",
       "    </tr>\n",
       "  </thead>\n",
       "  <tbody>\n",
       "    <tr>\n",
       "      <td rowspan=\"7\" valign=\"top\">F</td>\n",
       "      <td>безработный</td>\n",
       "      <td>1</td>\n",
       "      <td>0</td>\n",
       "      <td>0.00</td>\n",
       "      <td>0</td>\n",
       "    </tr>\n",
       "    <tr>\n",
       "      <td>в декрете</td>\n",
       "      <td>1</td>\n",
       "      <td>2</td>\n",
       "      <td>2.00</td>\n",
       "      <td>2</td>\n",
       "    </tr>\n",
       "    <tr>\n",
       "      <td>госслужащий</td>\n",
       "      <td>1072</td>\n",
       "      <td>653</td>\n",
       "      <td>0.61</td>\n",
       "      <td>0</td>\n",
       "    </tr>\n",
       "    <tr>\n",
       "      <td>компаньон</td>\n",
       "      <td>3191</td>\n",
       "      <td>1810</td>\n",
       "      <td>0.57</td>\n",
       "      <td>0</td>\n",
       "    </tr>\n",
       "    <tr>\n",
       "      <td>пенсионер</td>\n",
       "      <td>3132</td>\n",
       "      <td>422</td>\n",
       "      <td>0.13</td>\n",
       "      <td>0</td>\n",
       "    </tr>\n",
       "    <tr>\n",
       "      <td>предприниматель</td>\n",
       "      <td>1</td>\n",
       "      <td>0</td>\n",
       "      <td>0.00</td>\n",
       "      <td>0</td>\n",
       "    </tr>\n",
       "    <tr>\n",
       "      <td>сотрудник</td>\n",
       "      <td>6776</td>\n",
       "      <td>4420</td>\n",
       "      <td>0.65</td>\n",
       "      <td>0</td>\n",
       "    </tr>\n",
       "    <tr>\n",
       "      <td rowspan=\"7\" valign=\"top\">M</td>\n",
       "      <td>безработный</td>\n",
       "      <td>1</td>\n",
       "      <td>1</td>\n",
       "      <td>1.00</td>\n",
       "      <td>1</td>\n",
       "    </tr>\n",
       "    <tr>\n",
       "      <td>госслужащий</td>\n",
       "      <td>385</td>\n",
       "      <td>260</td>\n",
       "      <td>0.68</td>\n",
       "      <td>0</td>\n",
       "    </tr>\n",
       "    <tr>\n",
       "      <td>компаньон</td>\n",
       "      <td>1886</td>\n",
       "      <td>1250</td>\n",
       "      <td>0.66</td>\n",
       "      <td>0</td>\n",
       "    </tr>\n",
       "    <tr>\n",
       "      <td>пенсионер</td>\n",
       "      <td>697</td>\n",
       "      <td>103</td>\n",
       "      <td>0.15</td>\n",
       "      <td>0</td>\n",
       "    </tr>\n",
       "    <tr>\n",
       "      <td>предприниматель</td>\n",
       "      <td>1</td>\n",
       "      <td>0</td>\n",
       "      <td>0.00</td>\n",
       "      <td>0</td>\n",
       "    </tr>\n",
       "    <tr>\n",
       "      <td>сотрудник</td>\n",
       "      <td>4308</td>\n",
       "      <td>2757</td>\n",
       "      <td>0.64</td>\n",
       "      <td>0</td>\n",
       "    </tr>\n",
       "    <tr>\n",
       "      <td>студент</td>\n",
       "      <td>1</td>\n",
       "      <td>0</td>\n",
       "      <td>0.00</td>\n",
       "      <td>0</td>\n",
       "    </tr>\n",
       "  </tbody>\n",
       "</table>\n",
       "</div>"
      ],
      "text/plain": [
       "                        count   sum  mean  median\n",
       "gender income_type                               \n",
       "F      безработный          1     0  0.00       0\n",
       "       в декрете            1     2  2.00       2\n",
       "       госслужащий       1072   653  0.61       0\n",
       "       компаньон         3191  1810  0.57       0\n",
       "       пенсионер         3132   422  0.13       0\n",
       "       предприниматель      1     0  0.00       0\n",
       "       сотрудник         6776  4420  0.65       0\n",
       "M      безработный          1     1  1.00       1\n",
       "       госслужащий        385   260  0.68       0\n",
       "       компаньон         1886  1250  0.66       0\n",
       "       пенсионер          697   103  0.15       0\n",
       "       предприниматель      1     0  0.00       0\n",
       "       сотрудник         4308  2757  0.64       0\n",
       "       студент              1     0  0.00       0"
      ]
     },
     "execution_count": 43,
     "metadata": {},
     "output_type": "execute_result"
    }
   ],
   "source": [
    "t"
   ]
  },
  {
   "cell_type": "markdown",
   "metadata": {
    "id": "AM8V6QNTv7yU"
   },
   "source": [
    "Проверим суммы"
   ]
  },
  {
   "cell_type": "code",
   "execution_count": 44,
   "metadata": {
    "colab": {
     "base_uri": "https://localhost:8080/"
    },
    "id": "rK4dnJNEv-Fk",
    "outputId": "68c403c7-2496-48f8-f061-9d6ca505b07b"
   },
   "outputs": [
    {
     "data": {
      "text/plain": [
       "21453"
      ]
     },
     "execution_count": 44,
     "metadata": {},
     "output_type": "execute_result"
    }
   ],
   "source": [
    "t['count'].sum()"
   ]
  },
  {
   "cell_type": "code",
   "execution_count": 45,
   "metadata": {
    "colab": {
     "base_uri": "https://localhost:8080/"
    },
    "id": "rgzII50bwYH9",
    "outputId": "214a870a-3677-4346-bea0-acdaa97afcd9"
   },
   "outputs": [
    {
     "data": {
      "text/plain": [
       "21453"
      ]
     },
     "execution_count": 45,
     "metadata": {},
     "output_type": "execute_result"
    }
   ],
   "source": [
    "len(df)"
   ]
  },
  {
   "cell_type": "markdown",
   "metadata": {
    "id": "s6I4DntLwa-u"
   },
   "source": [
    "суммы совпадают"
   ]
  },
  {
   "cell_type": "markdown",
   "metadata": {
    "id": "D2iL1mhivlbd"
   },
   "source": [
    "Видим, что \"в среднем\" в данной выборке есть дети только у женщин в декрете (двое детей) и у безработных мужчин (один ребенок).\n",
    "Посмотрим, у каких категорий по 20 детей"
   ]
  },
  {
   "cell_type": "code",
   "execution_count": 46,
   "metadata": {
    "colab": {
     "base_uri": "https://localhost:8080/"
    },
    "id": "ULey__U605Qg",
    "outputId": "12feed99-cc89-4e38-d6a0-66f330cf8fdc"
   },
   "outputs": [
    {
     "data": {
      "text/plain": [
       "gender  income_type\n",
       "F       госслужащий     1\n",
       "        компаньон      10\n",
       "        пенсионер       8\n",
       "        сотрудник      28\n",
       "M       госслужащий     1\n",
       "        компаньон      12\n",
       "        пенсионер       1\n",
       "        сотрудник      15\n",
       "Name: children, dtype: int64"
      ]
     },
     "execution_count": 46,
     "metadata": {},
     "output_type": "execute_result"
    }
   ],
   "source": [
    "df[df['children'] == 20].groupby(['gender', 'income_type'])['children'].count()"
   ]
  },
  {
   "cell_type": "markdown",
   "metadata": {
    "id": "rneuxygO169E"
   },
   "source": [
    "Среди этих категорий нет 'в декрете' и 'безработный'. Значит, все значения можно заменить на ноль"
   ]
  },
  {
   "cell_type": "code",
   "execution_count": 47,
   "metadata": {
    "id": "4eBCwx3B2HQl"
   },
   "outputs": [],
   "source": [
    "df['children'] = df['children'].replace(20, 0)"
   ]
  },
  {
   "cell_type": "code",
   "execution_count": 48,
   "metadata": {
    "colab": {
     "base_uri": "https://localhost:8080/"
    },
    "id": "udUgYS4r2VJB",
    "outputId": "d70af395-b1d6-4f29-b323-25e55a98a50c"
   },
   "outputs": [
    {
     "data": {
      "text/plain": [
       "0    14166\n",
       "1     4855\n",
       "2     2052\n",
       "3      330\n",
       "4       41\n",
       "5        9\n",
       "Name: children, dtype: int64"
      ]
     },
     "execution_count": 48,
     "metadata": {},
     "output_type": "execute_result"
    }
   ],
   "source": [
    "df['children'].value_counts()"
   ]
  },
  {
   "cell_type": "markdown",
   "metadata": {
    "id": "HUsfi0ua0rmg"
   },
   "source": [
    "**4. Обработка нулей в столбце `dob_years`**"
   ]
  },
  {
   "cell_type": "markdown",
   "metadata": {
    "id": "f8wMNKGC0-ya"
   },
   "source": [
    "Посмотрим:\n",
    "* есть ли какие-то другие сомнительные значения;\n",
    "* сколько таких значений"
   ]
  },
  {
   "cell_type": "code",
   "execution_count": 49,
   "metadata": {
    "colab": {
     "base_uri": "https://localhost:8080/"
    },
    "id": "Mte2v64XQRQp",
    "outputId": "7842d1a1-bcb3-4251-9f3e-3194daddb316"
   },
   "outputs": [
    {
     "data": {
      "text/plain": [
       "array([42, 36, 33, 32, 53, 27, 43, 50, 35, 41, 40, 65, 54, 56, 26, 48, 24,\n",
       "       21, 57, 67, 28, 63, 62, 47, 34, 68, 25, 31, 30, 20, 49, 37, 45, 61,\n",
       "       64, 44, 52, 46, 23, 38, 39, 51,  0, 59, 29, 60, 55, 58, 71, 22, 73,\n",
       "       66, 69, 19, 72, 70, 74, 75])"
      ]
     },
     "execution_count": 49,
     "metadata": {},
     "output_type": "execute_result"
    }
   ],
   "source": [
    "df['dob_years'].unique()"
   ]
  },
  {
   "cell_type": "code",
   "execution_count": 50,
   "metadata": {
    "colab": {
     "base_uri": "https://localhost:8080/"
    },
    "id": "TW-GexKp-EB6",
    "outputId": "d62e6a0e-acbe-4bba-f730-e9fed4c722d4"
   },
   "outputs": [
    {
     "data": {
      "text/plain": [
       "101"
      ]
     },
     "execution_count": 50,
     "metadata": {},
     "output_type": "execute_result"
    }
   ],
   "source": [
    "df[df['dob_years'] == 0]['dob_years'].count()"
   ]
  },
  {
   "cell_type": "markdown",
   "metadata": {
    "id": "KIDpRdYC-TNU"
   },
   "source": [
    "Таких значений всего 101. Найдем медианные значения, сгруппированные по столбцу `gender` и `income_type`, нули не учитываются."
   ]
  },
  {
   "cell_type": "code",
   "execution_count": 51,
   "metadata": {
    "id": "kz4RJ1EO_U3Z"
   },
   "outputs": [],
   "source": [
    "t = df[df['dob_years'] != 0].groupby(['gender', 'income_type'])['dob_years'].median().reset_index()"
   ]
  },
  {
   "cell_type": "code",
   "execution_count": 52,
   "metadata": {
    "colab": {
     "base_uri": "https://localhost:8080/"
    },
    "id": "yGW2sjlgFLqM",
    "outputId": "b569dbdc-24d8-4103-f3e5-e215d8b8dd2c"
   },
   "outputs": [
    {
     "data": {
      "text/plain": [
       "Index(['gender', 'income_type', 'dob_years'], dtype='object')"
      ]
     },
     "execution_count": 52,
     "metadata": {},
     "output_type": "execute_result"
    }
   ],
   "source": [
    "t.columns"
   ]
  },
  {
   "cell_type": "code",
   "execution_count": 53,
   "metadata": {
    "id": "9B9oYIgLFRQ3"
   },
   "outputs": [],
   "source": [
    "t.rename(columns= {'dob_years' : 'dob_years_median'}, inplace=True)"
   ]
  },
  {
   "cell_type": "code",
   "execution_count": 54,
   "metadata": {
    "colab": {
     "base_uri": "https://localhost:8080/"
    },
    "id": "D3Pe9_wYF_gJ",
    "outputId": "23cf355e-a5a8-4378-c67a-711a6a6bf155"
   },
   "outputs": [
    {
     "data": {
      "text/plain": [
       "Index(['gender', 'income_type', 'dob_years_median'], dtype='object')"
      ]
     },
     "execution_count": 54,
     "metadata": {},
     "output_type": "execute_result"
    }
   ],
   "source": [
    "t.columns"
   ]
  },
  {
   "cell_type": "code",
   "execution_count": 55,
   "metadata": {
    "colab": {
     "base_uri": "https://localhost:8080/",
     "height": 483
    },
    "id": "nuL1H1CZaq2F",
    "outputId": "656491a7-e6f9-48e1-d893-be77535d85d2"
   },
   "outputs": [
    {
     "data": {
      "text/html": [
       "<div>\n",
       "<style scoped>\n",
       "    .dataframe tbody tr th:only-of-type {\n",
       "        vertical-align: middle;\n",
       "    }\n",
       "\n",
       "    .dataframe tbody tr th {\n",
       "        vertical-align: top;\n",
       "    }\n",
       "\n",
       "    .dataframe thead th {\n",
       "        text-align: right;\n",
       "    }\n",
       "</style>\n",
       "<table border=\"1\" class=\"dataframe\">\n",
       "  <thead>\n",
       "    <tr style=\"text-align: right;\">\n",
       "      <th></th>\n",
       "      <th>gender</th>\n",
       "      <th>income_type</th>\n",
       "      <th>dob_years_median</th>\n",
       "    </tr>\n",
       "  </thead>\n",
       "  <tbody>\n",
       "    <tr>\n",
       "      <td>0</td>\n",
       "      <td>F</td>\n",
       "      <td>безработный</td>\n",
       "      <td>45</td>\n",
       "    </tr>\n",
       "    <tr>\n",
       "      <td>1</td>\n",
       "      <td>F</td>\n",
       "      <td>в декрете</td>\n",
       "      <td>39</td>\n",
       "    </tr>\n",
       "    <tr>\n",
       "      <td>2</td>\n",
       "      <td>F</td>\n",
       "      <td>госслужащий</td>\n",
       "      <td>41</td>\n",
       "    </tr>\n",
       "    <tr>\n",
       "      <td>3</td>\n",
       "      <td>F</td>\n",
       "      <td>компаньон</td>\n",
       "      <td>40</td>\n",
       "    </tr>\n",
       "    <tr>\n",
       "      <td>4</td>\n",
       "      <td>F</td>\n",
       "      <td>пенсионер</td>\n",
       "      <td>60</td>\n",
       "    </tr>\n",
       "    <tr>\n",
       "      <td>5</td>\n",
       "      <td>F</td>\n",
       "      <td>предприниматель</td>\n",
       "      <td>27</td>\n",
       "    </tr>\n",
       "    <tr>\n",
       "      <td>6</td>\n",
       "      <td>F</td>\n",
       "      <td>сотрудник</td>\n",
       "      <td>40</td>\n",
       "    </tr>\n",
       "    <tr>\n",
       "      <td>7</td>\n",
       "      <td>M</td>\n",
       "      <td>безработный</td>\n",
       "      <td>31</td>\n",
       "    </tr>\n",
       "    <tr>\n",
       "      <td>8</td>\n",
       "      <td>M</td>\n",
       "      <td>госслужащий</td>\n",
       "      <td>37</td>\n",
       "    </tr>\n",
       "    <tr>\n",
       "      <td>9</td>\n",
       "      <td>M</td>\n",
       "      <td>компаньон</td>\n",
       "      <td>38</td>\n",
       "    </tr>\n",
       "    <tr>\n",
       "      <td>10</td>\n",
       "      <td>M</td>\n",
       "      <td>пенсионер</td>\n",
       "      <td>60</td>\n",
       "    </tr>\n",
       "    <tr>\n",
       "      <td>11</td>\n",
       "      <td>M</td>\n",
       "      <td>предприниматель</td>\n",
       "      <td>58</td>\n",
       "    </tr>\n",
       "    <tr>\n",
       "      <td>12</td>\n",
       "      <td>M</td>\n",
       "      <td>сотрудник</td>\n",
       "      <td>38</td>\n",
       "    </tr>\n",
       "    <tr>\n",
       "      <td>13</td>\n",
       "      <td>M</td>\n",
       "      <td>студент</td>\n",
       "      <td>22</td>\n",
       "    </tr>\n",
       "  </tbody>\n",
       "</table>\n",
       "</div>"
      ],
      "text/plain": [
       "   gender      income_type  dob_years_median\n",
       "0       F      безработный                45\n",
       "1       F        в декрете                39\n",
       "2       F      госслужащий                41\n",
       "3       F        компаньон                40\n",
       "4       F        пенсионер                60\n",
       "5       F  предприниматель                27\n",
       "6       F        сотрудник                40\n",
       "7       M      безработный                31\n",
       "8       M      госслужащий                37\n",
       "9       M        компаньон                38\n",
       "10      M        пенсионер                60\n",
       "11      M  предприниматель                58\n",
       "12      M        сотрудник                38\n",
       "13      M          студент                22"
      ]
     },
     "execution_count": 55,
     "metadata": {},
     "output_type": "execute_result"
    }
   ],
   "source": [
    "t"
   ]
  },
  {
   "cell_type": "code",
   "execution_count": 56,
   "metadata": {
    "id": "dcwvRx29NQr-"
   },
   "outputs": [],
   "source": [
    "df = df.merge(t, on=['gender', 'income_type'], how='left')"
   ]
  },
  {
   "cell_type": "code",
   "execution_count": 57,
   "metadata": {
    "colab": {
     "base_uri": "https://localhost:8080/",
     "height": 626
    },
    "id": "QrKRdVm7UcRH",
    "outputId": "70a44b8e-31f3-4401-cd56-a8494840be9f"
   },
   "outputs": [
    {
     "data": {
      "text/html": [
       "<div>\n",
       "<style scoped>\n",
       "    .dataframe tbody tr th:only-of-type {\n",
       "        vertical-align: middle;\n",
       "    }\n",
       "\n",
       "    .dataframe tbody tr th {\n",
       "        vertical-align: top;\n",
       "    }\n",
       "\n",
       "    .dataframe thead th {\n",
       "        text-align: right;\n",
       "    }\n",
       "</style>\n",
       "<table border=\"1\" class=\"dataframe\">\n",
       "  <thead>\n",
       "    <tr style=\"text-align: right;\">\n",
       "      <th></th>\n",
       "      <th>children</th>\n",
       "      <th>days_employed</th>\n",
       "      <th>dob_years</th>\n",
       "      <th>education</th>\n",
       "      <th>education_id</th>\n",
       "      <th>family_status</th>\n",
       "      <th>family_status_id</th>\n",
       "      <th>gender</th>\n",
       "      <th>income_type</th>\n",
       "      <th>debt</th>\n",
       "      <th>total_income</th>\n",
       "      <th>purpose</th>\n",
       "      <th>dob_years_median</th>\n",
       "    </tr>\n",
       "  </thead>\n",
       "  <tbody>\n",
       "    <tr>\n",
       "      <td>0</td>\n",
       "      <td>1</td>\n",
       "      <td>8,437.67</td>\n",
       "      <td>42</td>\n",
       "      <td>высшее</td>\n",
       "      <td>0</td>\n",
       "      <td>женат / замужем</td>\n",
       "      <td>0</td>\n",
       "      <td>F</td>\n",
       "      <td>сотрудник</td>\n",
       "      <td>0</td>\n",
       "      <td>253,875.64</td>\n",
       "      <td>покупка жилья</td>\n",
       "      <td>40</td>\n",
       "    </tr>\n",
       "    <tr>\n",
       "      <td>1</td>\n",
       "      <td>1</td>\n",
       "      <td>4,024.80</td>\n",
       "      <td>36</td>\n",
       "      <td>среднее</td>\n",
       "      <td>1</td>\n",
       "      <td>женат / замужем</td>\n",
       "      <td>0</td>\n",
       "      <td>F</td>\n",
       "      <td>сотрудник</td>\n",
       "      <td>0</td>\n",
       "      <td>112,080.01</td>\n",
       "      <td>приобретение автомобиля</td>\n",
       "      <td>40</td>\n",
       "    </tr>\n",
       "    <tr>\n",
       "      <td>2</td>\n",
       "      <td>0</td>\n",
       "      <td>5,623.42</td>\n",
       "      <td>33</td>\n",
       "      <td>среднее</td>\n",
       "      <td>1</td>\n",
       "      <td>женат / замужем</td>\n",
       "      <td>0</td>\n",
       "      <td>M</td>\n",
       "      <td>сотрудник</td>\n",
       "      <td>0</td>\n",
       "      <td>145,885.95</td>\n",
       "      <td>покупка жилья</td>\n",
       "      <td>38</td>\n",
       "    </tr>\n",
       "    <tr>\n",
       "      <td>3</td>\n",
       "      <td>3</td>\n",
       "      <td>4,124.75</td>\n",
       "      <td>32</td>\n",
       "      <td>среднее</td>\n",
       "      <td>1</td>\n",
       "      <td>женат / замужем</td>\n",
       "      <td>0</td>\n",
       "      <td>M</td>\n",
       "      <td>сотрудник</td>\n",
       "      <td>0</td>\n",
       "      <td>267,628.55</td>\n",
       "      <td>дополнительное образование</td>\n",
       "      <td>38</td>\n",
       "    </tr>\n",
       "    <tr>\n",
       "      <td>4</td>\n",
       "      <td>0</td>\n",
       "      <td>340,266.07</td>\n",
       "      <td>53</td>\n",
       "      <td>среднее</td>\n",
       "      <td>1</td>\n",
       "      <td>гражданский брак</td>\n",
       "      <td>1</td>\n",
       "      <td>F</td>\n",
       "      <td>пенсионер</td>\n",
       "      <td>0</td>\n",
       "      <td>158,616.08</td>\n",
       "      <td>сыграть свадьбу</td>\n",
       "      <td>60</td>\n",
       "    </tr>\n",
       "    <tr>\n",
       "      <td>...</td>\n",
       "      <td>...</td>\n",
       "      <td>...</td>\n",
       "      <td>...</td>\n",
       "      <td>...</td>\n",
       "      <td>...</td>\n",
       "      <td>...</td>\n",
       "      <td>...</td>\n",
       "      <td>...</td>\n",
       "      <td>...</td>\n",
       "      <td>...</td>\n",
       "      <td>...</td>\n",
       "      <td>...</td>\n",
       "      <td>...</td>\n",
       "    </tr>\n",
       "    <tr>\n",
       "      <td>21448</td>\n",
       "      <td>1</td>\n",
       "      <td>4,529.32</td>\n",
       "      <td>43</td>\n",
       "      <td>среднее</td>\n",
       "      <td>1</td>\n",
       "      <td>гражданский брак</td>\n",
       "      <td>1</td>\n",
       "      <td>F</td>\n",
       "      <td>компаньон</td>\n",
       "      <td>0</td>\n",
       "      <td>224,791.86</td>\n",
       "      <td>операции с жильем</td>\n",
       "      <td>40</td>\n",
       "    </tr>\n",
       "    <tr>\n",
       "      <td>21449</td>\n",
       "      <td>0</td>\n",
       "      <td>343,937.40</td>\n",
       "      <td>67</td>\n",
       "      <td>среднее</td>\n",
       "      <td>1</td>\n",
       "      <td>женат / замужем</td>\n",
       "      <td>0</td>\n",
       "      <td>F</td>\n",
       "      <td>пенсионер</td>\n",
       "      <td>0</td>\n",
       "      <td>155,999.81</td>\n",
       "      <td>сделка с автомобилем</td>\n",
       "      <td>60</td>\n",
       "    </tr>\n",
       "    <tr>\n",
       "      <td>21450</td>\n",
       "      <td>1</td>\n",
       "      <td>2,113.35</td>\n",
       "      <td>38</td>\n",
       "      <td>среднее</td>\n",
       "      <td>1</td>\n",
       "      <td>гражданский брак</td>\n",
       "      <td>1</td>\n",
       "      <td>M</td>\n",
       "      <td>сотрудник</td>\n",
       "      <td>1</td>\n",
       "      <td>89,672.56</td>\n",
       "      <td>недвижимость</td>\n",
       "      <td>38</td>\n",
       "    </tr>\n",
       "    <tr>\n",
       "      <td>21451</td>\n",
       "      <td>3</td>\n",
       "      <td>3,112.48</td>\n",
       "      <td>38</td>\n",
       "      <td>среднее</td>\n",
       "      <td>1</td>\n",
       "      <td>женат / замужем</td>\n",
       "      <td>0</td>\n",
       "      <td>M</td>\n",
       "      <td>сотрудник</td>\n",
       "      <td>1</td>\n",
       "      <td>244,093.05</td>\n",
       "      <td>на покупку своего автомобиля</td>\n",
       "      <td>38</td>\n",
       "    </tr>\n",
       "    <tr>\n",
       "      <td>21452</td>\n",
       "      <td>2</td>\n",
       "      <td>1,984.51</td>\n",
       "      <td>40</td>\n",
       "      <td>среднее</td>\n",
       "      <td>1</td>\n",
       "      <td>женат / замужем</td>\n",
       "      <td>0</td>\n",
       "      <td>F</td>\n",
       "      <td>сотрудник</td>\n",
       "      <td>0</td>\n",
       "      <td>82,047.42</td>\n",
       "      <td>на покупку автомобиля</td>\n",
       "      <td>40</td>\n",
       "    </tr>\n",
       "  </tbody>\n",
       "</table>\n",
       "<p>21453 rows × 13 columns</p>\n",
       "</div>"
      ],
      "text/plain": [
       "       children  days_employed  dob_years education  education_id  \\\n",
       "0             1       8,437.67         42    высшее             0   \n",
       "1             1       4,024.80         36   среднее             1   \n",
       "2             0       5,623.42         33   среднее             1   \n",
       "3             3       4,124.75         32   среднее             1   \n",
       "4             0     340,266.07         53   среднее             1   \n",
       "...         ...            ...        ...       ...           ...   \n",
       "21448         1       4,529.32         43   среднее             1   \n",
       "21449         0     343,937.40         67   среднее             1   \n",
       "21450         1       2,113.35         38   среднее             1   \n",
       "21451         3       3,112.48         38   среднее             1   \n",
       "21452         2       1,984.51         40   среднее             1   \n",
       "\n",
       "          family_status  family_status_id gender income_type  debt  \\\n",
       "0       женат / замужем                 0      F   сотрудник     0   \n",
       "1       женат / замужем                 0      F   сотрудник     0   \n",
       "2       женат / замужем                 0      M   сотрудник     0   \n",
       "3       женат / замужем                 0      M   сотрудник     0   \n",
       "4      гражданский брак                 1      F   пенсионер     0   \n",
       "...                 ...               ...    ...         ...   ...   \n",
       "21448  гражданский брак                 1      F   компаньон     0   \n",
       "21449   женат / замужем                 0      F   пенсионер     0   \n",
       "21450  гражданский брак                 1      M   сотрудник     1   \n",
       "21451   женат / замужем                 0      M   сотрудник     1   \n",
       "21452   женат / замужем                 0      F   сотрудник     0   \n",
       "\n",
       "       total_income                       purpose  dob_years_median  \n",
       "0        253,875.64                 покупка жилья                40  \n",
       "1        112,080.01       приобретение автомобиля                40  \n",
       "2        145,885.95                 покупка жилья                38  \n",
       "3        267,628.55    дополнительное образование                38  \n",
       "4        158,616.08               сыграть свадьбу                60  \n",
       "...             ...                           ...               ...  \n",
       "21448    224,791.86             операции с жильем                40  \n",
       "21449    155,999.81          сделка с автомобилем                60  \n",
       "21450     89,672.56                  недвижимость                38  \n",
       "21451    244,093.05  на покупку своего автомобиля                38  \n",
       "21452     82,047.42         на покупку автомобиля                40  \n",
       "\n",
       "[21453 rows x 13 columns]"
      ]
     },
     "execution_count": 57,
     "metadata": {},
     "output_type": "execute_result"
    }
   ],
   "source": [
    "df"
   ]
  },
  {
   "cell_type": "markdown",
   "metadata": {
    "id": "9Z32zuQkh06V"
   },
   "source": [
    "Напишем функцию, которая на входе получает строки из df и выполняет следующее:\n",
    "* Если значение равно нулю, то возвращает значение из столбца `dob_years_median`;\n",
    "* В остальных случаях возвращает значение из `dob_years`"
   ]
  },
  {
   "cell_type": "code",
   "execution_count": 58,
   "metadata": {
    "id": "yAGhnv0yUz-P"
   },
   "outputs": [],
   "source": [
    "def replace_null_in_dob_years(row):\n",
    "    if row['dob_years'] == 0:\n",
    "            return row['dob_years_median']\n",
    "    return row['dob_years']"
   ]
  },
  {
   "cell_type": "markdown",
   "metadata": {
    "id": "vJpMZm--iiyY"
   },
   "source": [
    "Применим функцию, запишем значения в новый столбец `dob_years_no_null`"
   ]
  },
  {
   "cell_type": "code",
   "execution_count": 59,
   "metadata": {
    "id": "JaFy0mL_gSZ0"
   },
   "outputs": [],
   "source": [
    "df['dob_years_no_null'] = df.apply(replace_null_in_dob_years, axis=1)"
   ]
  },
  {
   "cell_type": "code",
   "execution_count": 60,
   "metadata": {
    "colab": {
     "base_uri": "https://localhost:8080/",
     "height": 609
    },
    "id": "V0tCW5qZg2h1",
    "outputId": "269029c8-8386-4471-9112-8873817b9769"
   },
   "outputs": [
    {
     "data": {
      "text/html": [
       "<div>\n",
       "<style scoped>\n",
       "    .dataframe tbody tr th:only-of-type {\n",
       "        vertical-align: middle;\n",
       "    }\n",
       "\n",
       "    .dataframe tbody tr th {\n",
       "        vertical-align: top;\n",
       "    }\n",
       "\n",
       "    .dataframe thead th {\n",
       "        text-align: right;\n",
       "    }\n",
       "</style>\n",
       "<table border=\"1\" class=\"dataframe\">\n",
       "  <thead>\n",
       "    <tr style=\"text-align: right;\">\n",
       "      <th></th>\n",
       "      <th>children</th>\n",
       "      <th>days_employed</th>\n",
       "      <th>dob_years</th>\n",
       "      <th>education</th>\n",
       "      <th>education_id</th>\n",
       "      <th>family_status</th>\n",
       "      <th>family_status_id</th>\n",
       "      <th>gender</th>\n",
       "      <th>income_type</th>\n",
       "      <th>debt</th>\n",
       "      <th>total_income</th>\n",
       "      <th>purpose</th>\n",
       "      <th>dob_years_median</th>\n",
       "      <th>dob_years_no_null</th>\n",
       "    </tr>\n",
       "  </thead>\n",
       "  <tbody>\n",
       "    <tr>\n",
       "      <td>0</td>\n",
       "      <td>1</td>\n",
       "      <td>8,437.67</td>\n",
       "      <td>42</td>\n",
       "      <td>высшее</td>\n",
       "      <td>0</td>\n",
       "      <td>женат / замужем</td>\n",
       "      <td>0</td>\n",
       "      <td>F</td>\n",
       "      <td>сотрудник</td>\n",
       "      <td>0</td>\n",
       "      <td>253,875.64</td>\n",
       "      <td>покупка жилья</td>\n",
       "      <td>40</td>\n",
       "      <td>42</td>\n",
       "    </tr>\n",
       "    <tr>\n",
       "      <td>1</td>\n",
       "      <td>1</td>\n",
       "      <td>4,024.80</td>\n",
       "      <td>36</td>\n",
       "      <td>среднее</td>\n",
       "      <td>1</td>\n",
       "      <td>женат / замужем</td>\n",
       "      <td>0</td>\n",
       "      <td>F</td>\n",
       "      <td>сотрудник</td>\n",
       "      <td>0</td>\n",
       "      <td>112,080.01</td>\n",
       "      <td>приобретение автомобиля</td>\n",
       "      <td>40</td>\n",
       "      <td>36</td>\n",
       "    </tr>\n",
       "    <tr>\n",
       "      <td>2</td>\n",
       "      <td>0</td>\n",
       "      <td>5,623.42</td>\n",
       "      <td>33</td>\n",
       "      <td>среднее</td>\n",
       "      <td>1</td>\n",
       "      <td>женат / замужем</td>\n",
       "      <td>0</td>\n",
       "      <td>M</td>\n",
       "      <td>сотрудник</td>\n",
       "      <td>0</td>\n",
       "      <td>145,885.95</td>\n",
       "      <td>покупка жилья</td>\n",
       "      <td>38</td>\n",
       "      <td>33</td>\n",
       "    </tr>\n",
       "    <tr>\n",
       "      <td>3</td>\n",
       "      <td>3</td>\n",
       "      <td>4,124.75</td>\n",
       "      <td>32</td>\n",
       "      <td>среднее</td>\n",
       "      <td>1</td>\n",
       "      <td>женат / замужем</td>\n",
       "      <td>0</td>\n",
       "      <td>M</td>\n",
       "      <td>сотрудник</td>\n",
       "      <td>0</td>\n",
       "      <td>267,628.55</td>\n",
       "      <td>дополнительное образование</td>\n",
       "      <td>38</td>\n",
       "      <td>32</td>\n",
       "    </tr>\n",
       "    <tr>\n",
       "      <td>4</td>\n",
       "      <td>0</td>\n",
       "      <td>340,266.07</td>\n",
       "      <td>53</td>\n",
       "      <td>среднее</td>\n",
       "      <td>1</td>\n",
       "      <td>гражданский брак</td>\n",
       "      <td>1</td>\n",
       "      <td>F</td>\n",
       "      <td>пенсионер</td>\n",
       "      <td>0</td>\n",
       "      <td>158,616.08</td>\n",
       "      <td>сыграть свадьбу</td>\n",
       "      <td>60</td>\n",
       "      <td>53</td>\n",
       "    </tr>\n",
       "    <tr>\n",
       "      <td>...</td>\n",
       "      <td>...</td>\n",
       "      <td>...</td>\n",
       "      <td>...</td>\n",
       "      <td>...</td>\n",
       "      <td>...</td>\n",
       "      <td>...</td>\n",
       "      <td>...</td>\n",
       "      <td>...</td>\n",
       "      <td>...</td>\n",
       "      <td>...</td>\n",
       "      <td>...</td>\n",
       "      <td>...</td>\n",
       "      <td>...</td>\n",
       "      <td>...</td>\n",
       "    </tr>\n",
       "    <tr>\n",
       "      <td>95</td>\n",
       "      <td>0</td>\n",
       "      <td>541.83</td>\n",
       "      <td>51</td>\n",
       "      <td>высшее</td>\n",
       "      <td>0</td>\n",
       "      <td>женат / замужем</td>\n",
       "      <td>0</td>\n",
       "      <td>F</td>\n",
       "      <td>сотрудник</td>\n",
       "      <td>0</td>\n",
       "      <td>94,187.88</td>\n",
       "      <td>автомобиль</td>\n",
       "      <td>40</td>\n",
       "      <td>51</td>\n",
       "    </tr>\n",
       "    <tr>\n",
       "      <td>96</td>\n",
       "      <td>0</td>\n",
       "      <td>nan</td>\n",
       "      <td>44</td>\n",
       "      <td>среднее</td>\n",
       "      <td>1</td>\n",
       "      <td>женат / замужем</td>\n",
       "      <td>0</td>\n",
       "      <td>F</td>\n",
       "      <td>сотрудник</td>\n",
       "      <td>0</td>\n",
       "      <td>nan</td>\n",
       "      <td>покупка жилой недвижимости</td>\n",
       "      <td>40</td>\n",
       "      <td>44</td>\n",
       "    </tr>\n",
       "    <tr>\n",
       "      <td>97</td>\n",
       "      <td>0</td>\n",
       "      <td>nan</td>\n",
       "      <td>47</td>\n",
       "      <td>высшее</td>\n",
       "      <td>0</td>\n",
       "      <td>женат / замужем</td>\n",
       "      <td>0</td>\n",
       "      <td>F</td>\n",
       "      <td>сотрудник</td>\n",
       "      <td>0</td>\n",
       "      <td>nan</td>\n",
       "      <td>профильное образование</td>\n",
       "      <td>40</td>\n",
       "      <td>47</td>\n",
       "    </tr>\n",
       "    <tr>\n",
       "      <td>98</td>\n",
       "      <td>0</td>\n",
       "      <td>364,906.21</td>\n",
       "      <td>54</td>\n",
       "      <td>высшее</td>\n",
       "      <td>0</td>\n",
       "      <td>женат / замужем</td>\n",
       "      <td>0</td>\n",
       "      <td>F</td>\n",
       "      <td>пенсионер</td>\n",
       "      <td>0</td>\n",
       "      <td>199,707.30</td>\n",
       "      <td>покупка жилья для сдачи</td>\n",
       "      <td>60</td>\n",
       "      <td>54</td>\n",
       "    </tr>\n",
       "    <tr>\n",
       "      <td>99</td>\n",
       "      <td>0</td>\n",
       "      <td>346,541.62</td>\n",
       "      <td>0</td>\n",
       "      <td>среднее</td>\n",
       "      <td>1</td>\n",
       "      <td>женат / замужем</td>\n",
       "      <td>0</td>\n",
       "      <td>F</td>\n",
       "      <td>пенсионер</td>\n",
       "      <td>0</td>\n",
       "      <td>71,291.52</td>\n",
       "      <td>автомобиль</td>\n",
       "      <td>60</td>\n",
       "      <td>60</td>\n",
       "    </tr>\n",
       "  </tbody>\n",
       "</table>\n",
       "<p>100 rows × 14 columns</p>\n",
       "</div>"
      ],
      "text/plain": [
       "    children  days_employed  dob_years education  education_id  \\\n",
       "0          1       8,437.67         42    высшее             0   \n",
       "1          1       4,024.80         36   среднее             1   \n",
       "2          0       5,623.42         33   среднее             1   \n",
       "3          3       4,124.75         32   среднее             1   \n",
       "4          0     340,266.07         53   среднее             1   \n",
       "..       ...            ...        ...       ...           ...   \n",
       "95         0         541.83         51    высшее             0   \n",
       "96         0            nan         44   среднее             1   \n",
       "97         0            nan         47    высшее             0   \n",
       "98         0     364,906.21         54    высшее             0   \n",
       "99         0     346,541.62          0   среднее             1   \n",
       "\n",
       "       family_status  family_status_id gender income_type  debt  total_income  \\\n",
       "0    женат / замужем                 0      F   сотрудник     0    253,875.64   \n",
       "1    женат / замужем                 0      F   сотрудник     0    112,080.01   \n",
       "2    женат / замужем                 0      M   сотрудник     0    145,885.95   \n",
       "3    женат / замужем                 0      M   сотрудник     0    267,628.55   \n",
       "4   гражданский брак                 1      F   пенсионер     0    158,616.08   \n",
       "..               ...               ...    ...         ...   ...           ...   \n",
       "95   женат / замужем                 0      F   сотрудник     0     94,187.88   \n",
       "96   женат / замужем                 0      F   сотрудник     0           nan   \n",
       "97   женат / замужем                 0      F   сотрудник     0           nan   \n",
       "98   женат / замужем                 0      F   пенсионер     0    199,707.30   \n",
       "99   женат / замужем                 0      F   пенсионер     0     71,291.52   \n",
       "\n",
       "                       purpose  dob_years_median  dob_years_no_null  \n",
       "0                покупка жилья                40                 42  \n",
       "1      приобретение автомобиля                40                 36  \n",
       "2                покупка жилья                38                 33  \n",
       "3   дополнительное образование                38                 32  \n",
       "4              сыграть свадьбу                60                 53  \n",
       "..                         ...               ...                ...  \n",
       "95                  автомобиль                40                 51  \n",
       "96  покупка жилой недвижимости                40                 44  \n",
       "97      профильное образование                40                 47  \n",
       "98     покупка жилья для сдачи                60                 54  \n",
       "99                  автомобиль                60                 60  \n",
       "\n",
       "[100 rows x 14 columns]"
      ]
     },
     "execution_count": 60,
     "metadata": {},
     "output_type": "execute_result"
    }
   ],
   "source": [
    "df.head(100)"
   ]
  },
  {
   "cell_type": "markdown",
   "metadata": {
    "id": "P2n7bHWDjPky"
   },
   "source": [
    "Проверим. Если все верно, то медианные значения в этих столбцах должны быть равны"
   ]
  },
  {
   "cell_type": "code",
   "execution_count": 61,
   "metadata": {
    "colab": {
     "base_uri": "https://localhost:8080/",
     "height": 483
    },
    "id": "SdFYG6A8i9Ki",
    "outputId": "d2201539-333c-4345-8561-e6613b8a19f2"
   },
   "outputs": [
    {
     "data": {
      "text/html": [
       "<div>\n",
       "<style scoped>\n",
       "    .dataframe tbody tr th:only-of-type {\n",
       "        vertical-align: middle;\n",
       "    }\n",
       "\n",
       "    .dataframe tbody tr th {\n",
       "        vertical-align: top;\n",
       "    }\n",
       "\n",
       "    .dataframe thead th {\n",
       "        text-align: right;\n",
       "    }\n",
       "</style>\n",
       "<table border=\"1\" class=\"dataframe\">\n",
       "  <thead>\n",
       "    <tr style=\"text-align: right;\">\n",
       "      <th></th>\n",
       "      <th>gender</th>\n",
       "      <th>income_type</th>\n",
       "      <th>dob_years</th>\n",
       "    </tr>\n",
       "  </thead>\n",
       "  <tbody>\n",
       "    <tr>\n",
       "      <td>0</td>\n",
       "      <td>F</td>\n",
       "      <td>безработный</td>\n",
       "      <td>45</td>\n",
       "    </tr>\n",
       "    <tr>\n",
       "      <td>1</td>\n",
       "      <td>F</td>\n",
       "      <td>в декрете</td>\n",
       "      <td>39</td>\n",
       "    </tr>\n",
       "    <tr>\n",
       "      <td>2</td>\n",
       "      <td>F</td>\n",
       "      <td>госслужащий</td>\n",
       "      <td>41</td>\n",
       "    </tr>\n",
       "    <tr>\n",
       "      <td>3</td>\n",
       "      <td>F</td>\n",
       "      <td>компаньон</td>\n",
       "      <td>40</td>\n",
       "    </tr>\n",
       "    <tr>\n",
       "      <td>4</td>\n",
       "      <td>F</td>\n",
       "      <td>пенсионер</td>\n",
       "      <td>60</td>\n",
       "    </tr>\n",
       "    <tr>\n",
       "      <td>5</td>\n",
       "      <td>F</td>\n",
       "      <td>предприниматель</td>\n",
       "      <td>27</td>\n",
       "    </tr>\n",
       "    <tr>\n",
       "      <td>6</td>\n",
       "      <td>F</td>\n",
       "      <td>сотрудник</td>\n",
       "      <td>40</td>\n",
       "    </tr>\n",
       "    <tr>\n",
       "      <td>7</td>\n",
       "      <td>M</td>\n",
       "      <td>безработный</td>\n",
       "      <td>31</td>\n",
       "    </tr>\n",
       "    <tr>\n",
       "      <td>8</td>\n",
       "      <td>M</td>\n",
       "      <td>госслужащий</td>\n",
       "      <td>37</td>\n",
       "    </tr>\n",
       "    <tr>\n",
       "      <td>9</td>\n",
       "      <td>M</td>\n",
       "      <td>компаньон</td>\n",
       "      <td>38</td>\n",
       "    </tr>\n",
       "    <tr>\n",
       "      <td>10</td>\n",
       "      <td>M</td>\n",
       "      <td>пенсионер</td>\n",
       "      <td>60</td>\n",
       "    </tr>\n",
       "    <tr>\n",
       "      <td>11</td>\n",
       "      <td>M</td>\n",
       "      <td>предприниматель</td>\n",
       "      <td>58</td>\n",
       "    </tr>\n",
       "    <tr>\n",
       "      <td>12</td>\n",
       "      <td>M</td>\n",
       "      <td>сотрудник</td>\n",
       "      <td>38</td>\n",
       "    </tr>\n",
       "    <tr>\n",
       "      <td>13</td>\n",
       "      <td>M</td>\n",
       "      <td>студент</td>\n",
       "      <td>22</td>\n",
       "    </tr>\n",
       "  </tbody>\n",
       "</table>\n",
       "</div>"
      ],
      "text/plain": [
       "   gender      income_type  dob_years\n",
       "0       F      безработный         45\n",
       "1       F        в декрете         39\n",
       "2       F      госслужащий         41\n",
       "3       F        компаньон         40\n",
       "4       F        пенсионер         60\n",
       "5       F  предприниматель         27\n",
       "6       F        сотрудник         40\n",
       "7       M      безработный         31\n",
       "8       M      госслужащий         37\n",
       "9       M        компаньон         38\n",
       "10      M        пенсионер         60\n",
       "11      M  предприниматель         58\n",
       "12      M        сотрудник         38\n",
       "13      M          студент         22"
      ]
     },
     "execution_count": 61,
     "metadata": {},
     "output_type": "execute_result"
    }
   ],
   "source": [
    "df[df['dob_years'] != 0].groupby(['gender', 'income_type'])['dob_years'].median().reset_index()"
   ]
  },
  {
   "cell_type": "code",
   "execution_count": 62,
   "metadata": {
    "colab": {
     "base_uri": "https://localhost:8080/",
     "height": 483
    },
    "id": "CwRDup_hjFO6",
    "outputId": "6b71c684-f9f2-4504-d030-e359d539934f"
   },
   "outputs": [
    {
     "data": {
      "text/html": [
       "<div>\n",
       "<style scoped>\n",
       "    .dataframe tbody tr th:only-of-type {\n",
       "        vertical-align: middle;\n",
       "    }\n",
       "\n",
       "    .dataframe tbody tr th {\n",
       "        vertical-align: top;\n",
       "    }\n",
       "\n",
       "    .dataframe thead th {\n",
       "        text-align: right;\n",
       "    }\n",
       "</style>\n",
       "<table border=\"1\" class=\"dataframe\">\n",
       "  <thead>\n",
       "    <tr style=\"text-align: right;\">\n",
       "      <th></th>\n",
       "      <th>gender</th>\n",
       "      <th>income_type</th>\n",
       "      <th>dob_years_no_null</th>\n",
       "    </tr>\n",
       "  </thead>\n",
       "  <tbody>\n",
       "    <tr>\n",
       "      <td>0</td>\n",
       "      <td>F</td>\n",
       "      <td>безработный</td>\n",
       "      <td>45</td>\n",
       "    </tr>\n",
       "    <tr>\n",
       "      <td>1</td>\n",
       "      <td>F</td>\n",
       "      <td>в декрете</td>\n",
       "      <td>39</td>\n",
       "    </tr>\n",
       "    <tr>\n",
       "      <td>2</td>\n",
       "      <td>F</td>\n",
       "      <td>госслужащий</td>\n",
       "      <td>41</td>\n",
       "    </tr>\n",
       "    <tr>\n",
       "      <td>3</td>\n",
       "      <td>F</td>\n",
       "      <td>компаньон</td>\n",
       "      <td>40</td>\n",
       "    </tr>\n",
       "    <tr>\n",
       "      <td>4</td>\n",
       "      <td>F</td>\n",
       "      <td>пенсионер</td>\n",
       "      <td>60</td>\n",
       "    </tr>\n",
       "    <tr>\n",
       "      <td>5</td>\n",
       "      <td>F</td>\n",
       "      <td>предприниматель</td>\n",
       "      <td>27</td>\n",
       "    </tr>\n",
       "    <tr>\n",
       "      <td>6</td>\n",
       "      <td>F</td>\n",
       "      <td>сотрудник</td>\n",
       "      <td>40</td>\n",
       "    </tr>\n",
       "    <tr>\n",
       "      <td>7</td>\n",
       "      <td>M</td>\n",
       "      <td>безработный</td>\n",
       "      <td>31</td>\n",
       "    </tr>\n",
       "    <tr>\n",
       "      <td>8</td>\n",
       "      <td>M</td>\n",
       "      <td>госслужащий</td>\n",
       "      <td>37</td>\n",
       "    </tr>\n",
       "    <tr>\n",
       "      <td>9</td>\n",
       "      <td>M</td>\n",
       "      <td>компаньон</td>\n",
       "      <td>38</td>\n",
       "    </tr>\n",
       "    <tr>\n",
       "      <td>10</td>\n",
       "      <td>M</td>\n",
       "      <td>пенсионер</td>\n",
       "      <td>60</td>\n",
       "    </tr>\n",
       "    <tr>\n",
       "      <td>11</td>\n",
       "      <td>M</td>\n",
       "      <td>предприниматель</td>\n",
       "      <td>58</td>\n",
       "    </tr>\n",
       "    <tr>\n",
       "      <td>12</td>\n",
       "      <td>M</td>\n",
       "      <td>сотрудник</td>\n",
       "      <td>38</td>\n",
       "    </tr>\n",
       "    <tr>\n",
       "      <td>13</td>\n",
       "      <td>M</td>\n",
       "      <td>студент</td>\n",
       "      <td>22</td>\n",
       "    </tr>\n",
       "  </tbody>\n",
       "</table>\n",
       "</div>"
      ],
      "text/plain": [
       "   gender      income_type  dob_years_no_null\n",
       "0       F      безработный                 45\n",
       "1       F        в декрете                 39\n",
       "2       F      госслужащий                 41\n",
       "3       F        компаньон                 40\n",
       "4       F        пенсионер                 60\n",
       "5       F  предприниматель                 27\n",
       "6       F        сотрудник                 40\n",
       "7       M      безработный                 31\n",
       "8       M      госслужащий                 37\n",
       "9       M        компаньон                 38\n",
       "10      M        пенсионер                 60\n",
       "11      M  предприниматель                 58\n",
       "12      M        сотрудник                 38\n",
       "13      M          студент                 22"
      ]
     },
     "execution_count": 62,
     "metadata": {},
     "output_type": "execute_result"
    }
   ],
   "source": [
    "df.groupby(['gender', 'income_type'])['dob_years_no_null'].median().reset_index()"
   ]
  },
  {
   "cell_type": "code",
   "execution_count": 63,
   "metadata": {
    "colab": {
     "base_uri": "https://localhost:8080/"
    },
    "id": "zqzQUxNIjjzh",
    "outputId": "bcda0585-f726-438a-df6d-c4be53eb431a"
   },
   "outputs": [
    {
     "data": {
      "text/plain": [
       "[19,\n",
       " 20,\n",
       " 21,\n",
       " 22,\n",
       " 23,\n",
       " 24,\n",
       " 25,\n",
       " 26,\n",
       " 27,\n",
       " 28,\n",
       " 29,\n",
       " 30,\n",
       " 31,\n",
       " 32,\n",
       " 33,\n",
       " 34,\n",
       " 35,\n",
       " 36,\n",
       " 37,\n",
       " 38,\n",
       " 39,\n",
       " 40,\n",
       " 41,\n",
       " 42,\n",
       " 43,\n",
       " 44,\n",
       " 45,\n",
       " 46,\n",
       " 47,\n",
       " 48,\n",
       " 49,\n",
       " 50,\n",
       " 51,\n",
       " 52,\n",
       " 53,\n",
       " 54,\n",
       " 55,\n",
       " 56,\n",
       " 57,\n",
       " 58,\n",
       " 59,\n",
       " 60,\n",
       " 61,\n",
       " 62,\n",
       " 63,\n",
       " 64,\n",
       " 65,\n",
       " 66,\n",
       " 67,\n",
       " 68,\n",
       " 69,\n",
       " 70,\n",
       " 71,\n",
       " 72,\n",
       " 73,\n",
       " 74,\n",
       " 75]"
      ]
     },
     "execution_count": 63,
     "metadata": {},
     "output_type": "execute_result"
    }
   ],
   "source": [
    "sorted(df['dob_years_no_null'].unique())"
   ]
  },
  {
   "cell_type": "markdown",
   "metadata": {
    "id": "lZe-wM0KkcdQ"
   },
   "source": [
    "Как видим, в новом столбце нет нулей, и они заполнены медианными значениями. Теперь заменим значения столбца `dob_years` на значения из `dob_years_no_null`, последний столбец и столбец с медианными значениями удалим."
   ]
  },
  {
   "cell_type": "code",
   "execution_count": 64,
   "metadata": {
    "id": "azxbGawrkren"
   },
   "outputs": [],
   "source": [
    "df['dob_years'] = df['dob_years_no_null']"
   ]
  },
  {
   "cell_type": "code",
   "execution_count": 65,
   "metadata": {
    "id": "IMK_o5ZmmySo"
   },
   "outputs": [],
   "source": [
    "df.drop(['dob_years_no_null', 'dob_years_median'], axis=1, inplace=True)"
   ]
  },
  {
   "cell_type": "code",
   "execution_count": 66,
   "metadata": {
    "colab": {
     "base_uri": "https://localhost:8080/",
     "height": 806
    },
    "id": "ur1DIjgRm3wr",
    "outputId": "0f3adafc-f7e5-43b7-d947-8b116bd1ddfd"
   },
   "outputs": [
    {
     "data": {
      "text/html": [
       "<div>\n",
       "<style scoped>\n",
       "    .dataframe tbody tr th:only-of-type {\n",
       "        vertical-align: middle;\n",
       "    }\n",
       "\n",
       "    .dataframe tbody tr th {\n",
       "        vertical-align: top;\n",
       "    }\n",
       "\n",
       "    .dataframe thead th {\n",
       "        text-align: right;\n",
       "    }\n",
       "</style>\n",
       "<table border=\"1\" class=\"dataframe\">\n",
       "  <thead>\n",
       "    <tr style=\"text-align: right;\">\n",
       "      <th></th>\n",
       "      <th>children</th>\n",
       "      <th>days_employed</th>\n",
       "      <th>dob_years</th>\n",
       "      <th>education</th>\n",
       "      <th>education_id</th>\n",
       "      <th>family_status</th>\n",
       "      <th>family_status_id</th>\n",
       "      <th>gender</th>\n",
       "      <th>income_type</th>\n",
       "      <th>debt</th>\n",
       "      <th>total_income</th>\n",
       "      <th>purpose</th>\n",
       "    </tr>\n",
       "  </thead>\n",
       "  <tbody>\n",
       "    <tr>\n",
       "      <td>0</td>\n",
       "      <td>1</td>\n",
       "      <td>8,437.67</td>\n",
       "      <td>42</td>\n",
       "      <td>высшее</td>\n",
       "      <td>0</td>\n",
       "      <td>женат / замужем</td>\n",
       "      <td>0</td>\n",
       "      <td>F</td>\n",
       "      <td>сотрудник</td>\n",
       "      <td>0</td>\n",
       "      <td>253,875.64</td>\n",
       "      <td>покупка жилья</td>\n",
       "    </tr>\n",
       "    <tr>\n",
       "      <td>1</td>\n",
       "      <td>1</td>\n",
       "      <td>4,024.80</td>\n",
       "      <td>36</td>\n",
       "      <td>среднее</td>\n",
       "      <td>1</td>\n",
       "      <td>женат / замужем</td>\n",
       "      <td>0</td>\n",
       "      <td>F</td>\n",
       "      <td>сотрудник</td>\n",
       "      <td>0</td>\n",
       "      <td>112,080.01</td>\n",
       "      <td>приобретение автомобиля</td>\n",
       "    </tr>\n",
       "    <tr>\n",
       "      <td>2</td>\n",
       "      <td>0</td>\n",
       "      <td>5,623.42</td>\n",
       "      <td>33</td>\n",
       "      <td>среднее</td>\n",
       "      <td>1</td>\n",
       "      <td>женат / замужем</td>\n",
       "      <td>0</td>\n",
       "      <td>M</td>\n",
       "      <td>сотрудник</td>\n",
       "      <td>0</td>\n",
       "      <td>145,885.95</td>\n",
       "      <td>покупка жилья</td>\n",
       "    </tr>\n",
       "    <tr>\n",
       "      <td>3</td>\n",
       "      <td>3</td>\n",
       "      <td>4,124.75</td>\n",
       "      <td>32</td>\n",
       "      <td>среднее</td>\n",
       "      <td>1</td>\n",
       "      <td>женат / замужем</td>\n",
       "      <td>0</td>\n",
       "      <td>M</td>\n",
       "      <td>сотрудник</td>\n",
       "      <td>0</td>\n",
       "      <td>267,628.55</td>\n",
       "      <td>дополнительное образование</td>\n",
       "    </tr>\n",
       "    <tr>\n",
       "      <td>4</td>\n",
       "      <td>0</td>\n",
       "      <td>340,266.07</td>\n",
       "      <td>53</td>\n",
       "      <td>среднее</td>\n",
       "      <td>1</td>\n",
       "      <td>гражданский брак</td>\n",
       "      <td>1</td>\n",
       "      <td>F</td>\n",
       "      <td>пенсионер</td>\n",
       "      <td>0</td>\n",
       "      <td>158,616.08</td>\n",
       "      <td>сыграть свадьбу</td>\n",
       "    </tr>\n",
       "    <tr>\n",
       "      <td>5</td>\n",
       "      <td>0</td>\n",
       "      <td>926.19</td>\n",
       "      <td>27</td>\n",
       "      <td>высшее</td>\n",
       "      <td>0</td>\n",
       "      <td>гражданский брак</td>\n",
       "      <td>1</td>\n",
       "      <td>M</td>\n",
       "      <td>компаньон</td>\n",
       "      <td>0</td>\n",
       "      <td>255,763.57</td>\n",
       "      <td>покупка жилья</td>\n",
       "    </tr>\n",
       "    <tr>\n",
       "      <td>6</td>\n",
       "      <td>0</td>\n",
       "      <td>2,879.20</td>\n",
       "      <td>43</td>\n",
       "      <td>высшее</td>\n",
       "      <td>0</td>\n",
       "      <td>женат / замужем</td>\n",
       "      <td>0</td>\n",
       "      <td>F</td>\n",
       "      <td>компаньон</td>\n",
       "      <td>0</td>\n",
       "      <td>240,525.97</td>\n",
       "      <td>операции с жильем</td>\n",
       "    </tr>\n",
       "    <tr>\n",
       "      <td>7</td>\n",
       "      <td>0</td>\n",
       "      <td>152.78</td>\n",
       "      <td>50</td>\n",
       "      <td>среднее</td>\n",
       "      <td>1</td>\n",
       "      <td>женат / замужем</td>\n",
       "      <td>0</td>\n",
       "      <td>M</td>\n",
       "      <td>сотрудник</td>\n",
       "      <td>0</td>\n",
       "      <td>135,823.93</td>\n",
       "      <td>образование</td>\n",
       "    </tr>\n",
       "    <tr>\n",
       "      <td>8</td>\n",
       "      <td>2</td>\n",
       "      <td>6,929.87</td>\n",
       "      <td>35</td>\n",
       "      <td>высшее</td>\n",
       "      <td>0</td>\n",
       "      <td>гражданский брак</td>\n",
       "      <td>1</td>\n",
       "      <td>F</td>\n",
       "      <td>сотрудник</td>\n",
       "      <td>0</td>\n",
       "      <td>95,856.83</td>\n",
       "      <td>на проведение свадьбы</td>\n",
       "    </tr>\n",
       "    <tr>\n",
       "      <td>9</td>\n",
       "      <td>0</td>\n",
       "      <td>2,188.76</td>\n",
       "      <td>41</td>\n",
       "      <td>среднее</td>\n",
       "      <td>1</td>\n",
       "      <td>женат / замужем</td>\n",
       "      <td>0</td>\n",
       "      <td>M</td>\n",
       "      <td>сотрудник</td>\n",
       "      <td>0</td>\n",
       "      <td>144,425.94</td>\n",
       "      <td>покупка жилья для семьи</td>\n",
       "    </tr>\n",
       "    <tr>\n",
       "      <td>10</td>\n",
       "      <td>2</td>\n",
       "      <td>4,171.48</td>\n",
       "      <td>36</td>\n",
       "      <td>высшее</td>\n",
       "      <td>0</td>\n",
       "      <td>женат / замужем</td>\n",
       "      <td>0</td>\n",
       "      <td>M</td>\n",
       "      <td>компаньон</td>\n",
       "      <td>0</td>\n",
       "      <td>113,943.49</td>\n",
       "      <td>покупка недвижимости</td>\n",
       "    </tr>\n",
       "    <tr>\n",
       "      <td>11</td>\n",
       "      <td>0</td>\n",
       "      <td>792.70</td>\n",
       "      <td>40</td>\n",
       "      <td>среднее</td>\n",
       "      <td>1</td>\n",
       "      <td>женат / замужем</td>\n",
       "      <td>0</td>\n",
       "      <td>F</td>\n",
       "      <td>сотрудник</td>\n",
       "      <td>0</td>\n",
       "      <td>77,069.23</td>\n",
       "      <td>покупка коммерческой недвижимости</td>\n",
       "    </tr>\n",
       "    <tr>\n",
       "      <td>12</td>\n",
       "      <td>0</td>\n",
       "      <td>nan</td>\n",
       "      <td>65</td>\n",
       "      <td>среднее</td>\n",
       "      <td>1</td>\n",
       "      <td>гражданский брак</td>\n",
       "      <td>1</td>\n",
       "      <td>M</td>\n",
       "      <td>пенсионер</td>\n",
       "      <td>0</td>\n",
       "      <td>nan</td>\n",
       "      <td>сыграть свадьбу</td>\n",
       "    </tr>\n",
       "    <tr>\n",
       "      <td>13</td>\n",
       "      <td>0</td>\n",
       "      <td>1,846.64</td>\n",
       "      <td>54</td>\n",
       "      <td>неоконченное высшее</td>\n",
       "      <td>2</td>\n",
       "      <td>женат / замужем</td>\n",
       "      <td>0</td>\n",
       "      <td>F</td>\n",
       "      <td>сотрудник</td>\n",
       "      <td>0</td>\n",
       "      <td>130,458.23</td>\n",
       "      <td>приобретение автомобиля</td>\n",
       "    </tr>\n",
       "    <tr>\n",
       "      <td>14</td>\n",
       "      <td>0</td>\n",
       "      <td>1,844.96</td>\n",
       "      <td>56</td>\n",
       "      <td>высшее</td>\n",
       "      <td>0</td>\n",
       "      <td>гражданский брак</td>\n",
       "      <td>1</td>\n",
       "      <td>F</td>\n",
       "      <td>компаньон</td>\n",
       "      <td>1</td>\n",
       "      <td>165,127.91</td>\n",
       "      <td>покупка жилой недвижимости</td>\n",
       "    </tr>\n",
       "  </tbody>\n",
       "</table>\n",
       "</div>"
      ],
      "text/plain": [
       "    children  days_employed  dob_years            education  education_id  \\\n",
       "0          1       8,437.67         42               высшее             0   \n",
       "1          1       4,024.80         36              среднее             1   \n",
       "2          0       5,623.42         33              среднее             1   \n",
       "3          3       4,124.75         32              среднее             1   \n",
       "4          0     340,266.07         53              среднее             1   \n",
       "5          0         926.19         27               высшее             0   \n",
       "6          0       2,879.20         43               высшее             0   \n",
       "7          0         152.78         50              среднее             1   \n",
       "8          2       6,929.87         35               высшее             0   \n",
       "9          0       2,188.76         41              среднее             1   \n",
       "10         2       4,171.48         36               высшее             0   \n",
       "11         0         792.70         40              среднее             1   \n",
       "12         0            nan         65              среднее             1   \n",
       "13         0       1,846.64         54  неоконченное высшее             2   \n",
       "14         0       1,844.96         56               высшее             0   \n",
       "\n",
       "       family_status  family_status_id gender income_type  debt  total_income  \\\n",
       "0    женат / замужем                 0      F   сотрудник     0    253,875.64   \n",
       "1    женат / замужем                 0      F   сотрудник     0    112,080.01   \n",
       "2    женат / замужем                 0      M   сотрудник     0    145,885.95   \n",
       "3    женат / замужем                 0      M   сотрудник     0    267,628.55   \n",
       "4   гражданский брак                 1      F   пенсионер     0    158,616.08   \n",
       "5   гражданский брак                 1      M   компаньон     0    255,763.57   \n",
       "6    женат / замужем                 0      F   компаньон     0    240,525.97   \n",
       "7    женат / замужем                 0      M   сотрудник     0    135,823.93   \n",
       "8   гражданский брак                 1      F   сотрудник     0     95,856.83   \n",
       "9    женат / замужем                 0      M   сотрудник     0    144,425.94   \n",
       "10   женат / замужем                 0      M   компаньон     0    113,943.49   \n",
       "11   женат / замужем                 0      F   сотрудник     0     77,069.23   \n",
       "12  гражданский брак                 1      M   пенсионер     0           nan   \n",
       "13   женат / замужем                 0      F   сотрудник     0    130,458.23   \n",
       "14  гражданский брак                 1      F   компаньон     1    165,127.91   \n",
       "\n",
       "                              purpose  \n",
       "0                       покупка жилья  \n",
       "1             приобретение автомобиля  \n",
       "2                       покупка жилья  \n",
       "3          дополнительное образование  \n",
       "4                     сыграть свадьбу  \n",
       "5                       покупка жилья  \n",
       "6                   операции с жильем  \n",
       "7                         образование  \n",
       "8               на проведение свадьбы  \n",
       "9             покупка жилья для семьи  \n",
       "10               покупка недвижимости  \n",
       "11  покупка коммерческой недвижимости  \n",
       "12                    сыграть свадьбу  \n",
       "13            приобретение автомобиля  \n",
       "14         покупка жилой недвижимости  "
      ]
     },
     "execution_count": 66,
     "metadata": {},
     "output_type": "execute_result"
    }
   ],
   "source": [
    "df.head(15)"
   ]
  },
  {
   "cell_type": "markdown",
   "metadata": {
    "id": "Xx-072T-oOaR"
   },
   "source": [
    "### Обработка пропусков"
   ]
  },
  {
   "cell_type": "markdown",
   "metadata": {
    "id": "f9c-v_SF42xf"
   },
   "source": [
    "Так как пропущенные значения составляют более 10% от всех данных, то удалить такие строки не можем. Заполним медианным значением, сгруппировав значения по `gender` и `income_type`"
   ]
  },
  {
   "cell_type": "markdown",
   "metadata": {
    "id": "TVuKgOn2qk-l"
   },
   "source": [
    "Начнем со значений в `days_employed`"
   ]
  },
  {
   "cell_type": "code",
   "execution_count": 67,
   "metadata": {
    "colab": {
     "base_uri": "https://localhost:8080/",
     "height": 483
    },
    "id": "rOwb8ugma1ld",
    "outputId": "7daf8480-5759-49f5-84f4-5d266e17c260"
   },
   "outputs": [
    {
     "data": {
      "text/html": [
       "<div>\n",
       "<style scoped>\n",
       "    .dataframe tbody tr th:only-of-type {\n",
       "        vertical-align: middle;\n",
       "    }\n",
       "\n",
       "    .dataframe tbody tr th {\n",
       "        vertical-align: top;\n",
       "    }\n",
       "\n",
       "    .dataframe thead th {\n",
       "        text-align: right;\n",
       "    }\n",
       "</style>\n",
       "<table border=\"1\" class=\"dataframe\">\n",
       "  <thead>\n",
       "    <tr style=\"text-align: right;\">\n",
       "      <th></th>\n",
       "      <th>gender</th>\n",
       "      <th>income_type</th>\n",
       "      <th>count</th>\n",
       "      <th>median</th>\n",
       "    </tr>\n",
       "  </thead>\n",
       "  <tbody>\n",
       "    <tr>\n",
       "      <td>0</td>\n",
       "      <td>F</td>\n",
       "      <td>безработный</td>\n",
       "      <td>1</td>\n",
       "      <td>395,302.84</td>\n",
       "    </tr>\n",
       "    <tr>\n",
       "      <td>1</td>\n",
       "      <td>F</td>\n",
       "      <td>в декрете</td>\n",
       "      <td>1</td>\n",
       "      <td>3,296.76</td>\n",
       "    </tr>\n",
       "    <tr>\n",
       "      <td>2</td>\n",
       "      <td>F</td>\n",
       "      <td>госслужащий</td>\n",
       "      <td>962</td>\n",
       "      <td>2,705.84</td>\n",
       "    </tr>\n",
       "    <tr>\n",
       "      <td>3</td>\n",
       "      <td>F</td>\n",
       "      <td>компаньон</td>\n",
       "      <td>2870</td>\n",
       "      <td>1,584.34</td>\n",
       "    </tr>\n",
       "    <tr>\n",
       "      <td>4</td>\n",
       "      <td>F</td>\n",
       "      <td>пенсионер</td>\n",
       "      <td>2806</td>\n",
       "      <td>366,182.93</td>\n",
       "    </tr>\n",
       "    <tr>\n",
       "      <td>5</td>\n",
       "      <td>F</td>\n",
       "      <td>предприниматель</td>\n",
       "      <td>1</td>\n",
       "      <td>520.85</td>\n",
       "    </tr>\n",
       "    <tr>\n",
       "      <td>6</td>\n",
       "      <td>F</td>\n",
       "      <td>сотрудник</td>\n",
       "      <td>6111</td>\n",
       "      <td>1,718.51</td>\n",
       "    </tr>\n",
       "    <tr>\n",
       "      <td>7</td>\n",
       "      <td>M</td>\n",
       "      <td>безработный</td>\n",
       "      <td>1</td>\n",
       "      <td>337,524.47</td>\n",
       "    </tr>\n",
       "    <tr>\n",
       "      <td>8</td>\n",
       "      <td>M</td>\n",
       "      <td>госслужащий</td>\n",
       "      <td>350</td>\n",
       "      <td>2,659.33</td>\n",
       "    </tr>\n",
       "    <tr>\n",
       "      <td>9</td>\n",
       "      <td>M</td>\n",
       "      <td>компаньон</td>\n",
       "      <td>1706</td>\n",
       "      <td>1,472.89</td>\n",
       "    </tr>\n",
       "    <tr>\n",
       "      <td>10</td>\n",
       "      <td>M</td>\n",
       "      <td>пенсионер</td>\n",
       "      <td>637</td>\n",
       "      <td>361,781.51</td>\n",
       "    </tr>\n",
       "    <tr>\n",
       "      <td>11</td>\n",
       "      <td>M</td>\n",
       "      <td>предприниматель</td>\n",
       "      <td>0</td>\n",
       "      <td>nan</td>\n",
       "    </tr>\n",
       "    <tr>\n",
       "      <td>12</td>\n",
       "      <td>M</td>\n",
       "      <td>сотрудник</td>\n",
       "      <td>3903</td>\n",
       "      <td>1,362.73</td>\n",
       "    </tr>\n",
       "    <tr>\n",
       "      <td>13</td>\n",
       "      <td>M</td>\n",
       "      <td>студент</td>\n",
       "      <td>1</td>\n",
       "      <td>578.75</td>\n",
       "    </tr>\n",
       "  </tbody>\n",
       "</table>\n",
       "</div>"
      ],
      "text/plain": [
       "   gender      income_type  count     median\n",
       "0       F      безработный      1 395,302.84\n",
       "1       F        в декрете      1   3,296.76\n",
       "2       F      госслужащий    962   2,705.84\n",
       "3       F        компаньон   2870   1,584.34\n",
       "4       F        пенсионер   2806 366,182.93\n",
       "5       F  предприниматель      1     520.85\n",
       "6       F        сотрудник   6111   1,718.51\n",
       "7       M      безработный      1 337,524.47\n",
       "8       M      госслужащий    350   2,659.33\n",
       "9       M        компаньон   1706   1,472.89\n",
       "10      M        пенсионер    637 361,781.51\n",
       "11      M  предприниматель      0        nan\n",
       "12      M        сотрудник   3903   1,362.73\n",
       "13      M          студент      1     578.75"
      ]
     },
     "execution_count": 67,
     "metadata": {},
     "output_type": "execute_result"
    }
   ],
   "source": [
    "df.groupby(['gender', 'income_type'])['days_employed'].agg(['count', 'median']).reset_index()"
   ]
  },
  {
   "cell_type": "markdown",
   "metadata": {
    "id": "ZOE9i2km6rRT"
   },
   "source": [
    "Видим, что в группах есть единичные значения, а также пропущенное значение для мужчины предпринимателя.\n",
    "Посмотрим, в каких группах пропуски, количество пропусков."
   ]
  },
  {
   "cell_type": "code",
   "execution_count": 68,
   "metadata": {
    "colab": {
     "base_uri": "https://localhost:8080/",
     "height": 483
    },
    "id": "ZF_POpDQ6QgD",
    "outputId": "3e2efc99-be65-40a4-ac32-a86918cacaf0"
   },
   "outputs": [
    {
     "data": {
      "text/html": [
       "<div>\n",
       "<style scoped>\n",
       "    .dataframe tbody tr th:only-of-type {\n",
       "        vertical-align: middle;\n",
       "    }\n",
       "\n",
       "    .dataframe tbody tr th {\n",
       "        vertical-align: top;\n",
       "    }\n",
       "\n",
       "    .dataframe thead th {\n",
       "        text-align: right;\n",
       "    }\n",
       "</style>\n",
       "<table border=\"1\" class=\"dataframe\">\n",
       "  <thead>\n",
       "    <tr style=\"text-align: right;\">\n",
       "      <th></th>\n",
       "      <th>gender</th>\n",
       "      <th>income_type</th>\n",
       "      <th>days_employed</th>\n",
       "    </tr>\n",
       "  </thead>\n",
       "  <tbody>\n",
       "    <tr>\n",
       "      <td>0</td>\n",
       "      <td>F</td>\n",
       "      <td>безработный</td>\n",
       "      <td>0</td>\n",
       "    </tr>\n",
       "    <tr>\n",
       "      <td>1</td>\n",
       "      <td>F</td>\n",
       "      <td>в декрете</td>\n",
       "      <td>0</td>\n",
       "    </tr>\n",
       "    <tr>\n",
       "      <td>2</td>\n",
       "      <td>F</td>\n",
       "      <td>госслужащий</td>\n",
       "      <td>110</td>\n",
       "    </tr>\n",
       "    <tr>\n",
       "      <td>3</td>\n",
       "      <td>F</td>\n",
       "      <td>компаньон</td>\n",
       "      <td>321</td>\n",
       "    </tr>\n",
       "    <tr>\n",
       "      <td>4</td>\n",
       "      <td>F</td>\n",
       "      <td>пенсионер</td>\n",
       "      <td>326</td>\n",
       "    </tr>\n",
       "    <tr>\n",
       "      <td>5</td>\n",
       "      <td>F</td>\n",
       "      <td>предприниматель</td>\n",
       "      <td>0</td>\n",
       "    </tr>\n",
       "    <tr>\n",
       "      <td>6</td>\n",
       "      <td>F</td>\n",
       "      <td>сотрудник</td>\n",
       "      <td>665</td>\n",
       "    </tr>\n",
       "    <tr>\n",
       "      <td>7</td>\n",
       "      <td>M</td>\n",
       "      <td>безработный</td>\n",
       "      <td>0</td>\n",
       "    </tr>\n",
       "    <tr>\n",
       "      <td>8</td>\n",
       "      <td>M</td>\n",
       "      <td>госслужащий</td>\n",
       "      <td>35</td>\n",
       "    </tr>\n",
       "    <tr>\n",
       "      <td>9</td>\n",
       "      <td>M</td>\n",
       "      <td>компаньон</td>\n",
       "      <td>180</td>\n",
       "    </tr>\n",
       "    <tr>\n",
       "      <td>10</td>\n",
       "      <td>M</td>\n",
       "      <td>пенсионер</td>\n",
       "      <td>60</td>\n",
       "    </tr>\n",
       "    <tr>\n",
       "      <td>11</td>\n",
       "      <td>M</td>\n",
       "      <td>предприниматель</td>\n",
       "      <td>1</td>\n",
       "    </tr>\n",
       "    <tr>\n",
       "      <td>12</td>\n",
       "      <td>M</td>\n",
       "      <td>сотрудник</td>\n",
       "      <td>405</td>\n",
       "    </tr>\n",
       "    <tr>\n",
       "      <td>13</td>\n",
       "      <td>M</td>\n",
       "      <td>студент</td>\n",
       "      <td>0</td>\n",
       "    </tr>\n",
       "  </tbody>\n",
       "</table>\n",
       "</div>"
      ],
      "text/plain": [
       "   gender      income_type  days_employed\n",
       "0       F      безработный              0\n",
       "1       F        в декрете              0\n",
       "2       F      госслужащий            110\n",
       "3       F        компаньон            321\n",
       "4       F        пенсионер            326\n",
       "5       F  предприниматель              0\n",
       "6       F        сотрудник            665\n",
       "7       M      безработный              0\n",
       "8       M      госслужащий             35\n",
       "9       M        компаньон            180\n",
       "10      M        пенсионер             60\n",
       "11      M  предприниматель              1\n",
       "12      M        сотрудник            405\n",
       "13      M          студент              0"
      ]
     },
     "execution_count": 68,
     "metadata": {},
     "output_type": "execute_result"
    }
   ],
   "source": [
    "df.groupby(['gender', 'income_type'])['days_employed'].apply(lambda x: x.isnull().sum()).reset_index()"
   ]
  },
  {
   "cell_type": "markdown",
   "metadata": {
    "id": "8FpC17Pe7afq"
   },
   "source": [
    "Значение для предпринимателя-мужчины пропущено. Так как это единственная строка, то ее следует удалить. Остальные пропущенные значения в группах заполним медианным значением."
   ]
  },
  {
   "cell_type": "code",
   "execution_count": 69,
   "metadata": {
    "colab": {
     "base_uri": "https://localhost:8080/"
    },
    "id": "mkkqeUYs-FVR",
    "outputId": "df2cce02-97d1-4fdb-d9af-23573ae26636"
   },
   "outputs": [
    {
     "data": {
      "text/plain": [
       "21453"
      ]
     },
     "execution_count": 69,
     "metadata": {},
     "output_type": "execute_result"
    }
   ],
   "source": [
    "len(df)"
   ]
  },
  {
   "cell_type": "code",
   "execution_count": 70,
   "metadata": {
    "id": "85ADlVhF8fTl"
   },
   "outputs": [],
   "source": [
    "df = df[(df['gender'] != 'M') | (df['income_type'] != 'предприниматель')]"
   ]
  },
  {
   "cell_type": "code",
   "execution_count": 71,
   "metadata": {
    "colab": {
     "base_uri": "https://localhost:8080/"
    },
    "id": "bRT2a63i-Ick",
    "outputId": "a1c4dbe6-62c0-46fc-d8f0-8370e3d4cc77"
   },
   "outputs": [
    {
     "data": {
      "text/plain": [
       "21452"
      ]
     },
     "execution_count": 71,
     "metadata": {},
     "output_type": "execute_result"
    }
   ],
   "source": [
    "len(df)"
   ]
  },
  {
   "cell_type": "code",
   "execution_count": 72,
   "metadata": {
    "colab": {
     "base_uri": "https://localhost:8080/"
    },
    "id": "iA9JRGZ_LOyo",
    "outputId": "ba118fb2-5174-4475-95b0-24002ebb176c"
   },
   "outputs": [
    {
     "name": "stdout",
     "output_type": "stream",
     "text": [
      "<class 'pandas.core.frame.DataFrame'>\n",
      "Int64Index: 21452 entries, 0 to 21452\n",
      "Data columns (total 12 columns):\n",
      "children            21452 non-null int64\n",
      "days_employed       19350 non-null float64\n",
      "dob_years           21452 non-null int64\n",
      "education           21452 non-null object\n",
      "education_id        21452 non-null int64\n",
      "family_status       21452 non-null object\n",
      "family_status_id    21452 non-null int64\n",
      "gender              21452 non-null object\n",
      "income_type         21452 non-null object\n",
      "debt                21452 non-null int64\n",
      "total_income        19350 non-null float64\n",
      "purpose             21452 non-null object\n",
      "dtypes: float64(2), int64(5), object(5)\n",
      "memory usage: 2.1+ MB\n"
     ]
    }
   ],
   "source": [
    "df.info()"
   ]
  },
  {
   "cell_type": "code",
   "execution_count": 73,
   "metadata": {
    "id": "llev6JSBLCfV"
   },
   "outputs": [],
   "source": [
    "df.reset_index(drop=True, inplace=True)"
   ]
  },
  {
   "cell_type": "code",
   "execution_count": 74,
   "metadata": {
    "colab": {
     "base_uri": "https://localhost:8080/"
    },
    "id": "FbK0sRkSLTa3",
    "outputId": "404fbcec-6e15-4815-af40-ec9df6f962c6"
   },
   "outputs": [
    {
     "name": "stdout",
     "output_type": "stream",
     "text": [
      "<class 'pandas.core.frame.DataFrame'>\n",
      "RangeIndex: 21452 entries, 0 to 21451\n",
      "Data columns (total 12 columns):\n",
      "children            21452 non-null int64\n",
      "days_employed       19350 non-null float64\n",
      "dob_years           21452 non-null int64\n",
      "education           21452 non-null object\n",
      "education_id        21452 non-null int64\n",
      "family_status       21452 non-null object\n",
      "family_status_id    21452 non-null int64\n",
      "gender              21452 non-null object\n",
      "income_type         21452 non-null object\n",
      "debt                21452 non-null int64\n",
      "total_income        19350 non-null float64\n",
      "purpose             21452 non-null object\n",
      "dtypes: float64(2), int64(5), object(5)\n",
      "memory usage: 2.0+ MB\n"
     ]
    }
   ],
   "source": [
    "df.info()"
   ]
  },
  {
   "cell_type": "markdown",
   "metadata": {
    "id": "O27ArxZOHBTK"
   },
   "source": [
    "Количество записей ожидаемо уменьшилось на 1. Все верно"
   ]
  },
  {
   "cell_type": "markdown",
   "metadata": {
    "id": "HKNNaBd7HKkI"
   },
   "source": [
    "Заполним пропуски медианным значением"
   ]
  },
  {
   "cell_type": "code",
   "execution_count": 75,
   "metadata": {
    "colab": {
     "base_uri": "https://localhost:8080/"
    },
    "id": "WMc-pqDhJXRY",
    "outputId": "8e9c9b25-009f-4a3a-9c16-bc0beb7f714d",
    "scrolled": true
   },
   "outputs": [
    {
     "name": "stderr",
     "output_type": "stream",
     "text": [
      "/opt/conda/lib/python3.7/site-packages/ipykernel_launcher.py:1: SettingWithCopyWarning: \n",
      "A value is trying to be set on a copy of a slice from a DataFrame.\n",
      "Try using .loc[row_indexer,col_indexer] = value instead\n",
      "\n",
      "See the caveats in the documentation: http://pandas.pydata.org/pandas-docs/stable/user_guide/indexing.html#returning-a-view-versus-a-copy\n",
      "  \"\"\"Entry point for launching an IPython kernel.\n"
     ]
    }
   ],
   "source": [
    "df['days_employed'] = df.groupby(['gender', 'income_type'])['days_employed'].transform(lambda x: x.fillna(x.median()))"
   ]
  },
  {
   "cell_type": "code",
   "execution_count": 76,
   "metadata": {
    "colab": {
     "base_uri": "https://localhost:8080/"
    },
    "id": "w3dfnWUoNsAu",
    "outputId": "a63fd736-a8fa-4067-a906-1fc89b27911e"
   },
   "outputs": [
    {
     "name": "stdout",
     "output_type": "stream",
     "text": [
      "<class 'pandas.core.frame.DataFrame'>\n",
      "RangeIndex: 21452 entries, 0 to 21451\n",
      "Data columns (total 12 columns):\n",
      "children            21452 non-null int64\n",
      "days_employed       21452 non-null float64\n",
      "dob_years           21452 non-null int64\n",
      "education           21452 non-null object\n",
      "education_id        21452 non-null int64\n",
      "family_status       21452 non-null object\n",
      "family_status_id    21452 non-null int64\n",
      "gender              21452 non-null object\n",
      "income_type         21452 non-null object\n",
      "debt                21452 non-null int64\n",
      "total_income        19350 non-null float64\n",
      "purpose             21452 non-null object\n",
      "dtypes: float64(2), int64(5), object(5)\n",
      "memory usage: 2.0+ MB\n"
     ]
    }
   ],
   "source": [
    "df.info()"
   ]
  },
  {
   "cell_type": "code",
   "execution_count": 77,
   "metadata": {
    "colab": {
     "base_uri": "https://localhost:8080/"
    },
    "id": "SmKUqsfXNvTs",
    "outputId": "95872c4e-b7b9-4118-9274-519baa00ea42"
   },
   "outputs": [
    {
     "name": "stderr",
     "output_type": "stream",
     "text": [
      "/opt/conda/lib/python3.7/site-packages/ipykernel_launcher.py:1: SettingWithCopyWarning: \n",
      "A value is trying to be set on a copy of a slice from a DataFrame.\n",
      "Try using .loc[row_indexer,col_indexer] = value instead\n",
      "\n",
      "See the caveats in the documentation: http://pandas.pydata.org/pandas-docs/stable/user_guide/indexing.html#returning-a-view-versus-a-copy\n",
      "  \"\"\"Entry point for launching an IPython kernel.\n"
     ]
    }
   ],
   "source": [
    "df['total_income'] = df.groupby(['gender', 'income_type'])['total_income'].transform(lambda x: x.fillna(x.median()))"
   ]
  },
  {
   "cell_type": "code",
   "execution_count": 78,
   "metadata": {
    "colab": {
     "base_uri": "https://localhost:8080/"
    },
    "id": "ZVSGq-IqN2cq",
    "outputId": "b5085cef-1240-4ef3-e36c-77104bd49ea3"
   },
   "outputs": [
    {
     "name": "stdout",
     "output_type": "stream",
     "text": [
      "<class 'pandas.core.frame.DataFrame'>\n",
      "RangeIndex: 21452 entries, 0 to 21451\n",
      "Data columns (total 12 columns):\n",
      "children            21452 non-null int64\n",
      "days_employed       21452 non-null float64\n",
      "dob_years           21452 non-null int64\n",
      "education           21452 non-null object\n",
      "education_id        21452 non-null int64\n",
      "family_status       21452 non-null object\n",
      "family_status_id    21452 non-null int64\n",
      "gender              21452 non-null object\n",
      "income_type         21452 non-null object\n",
      "debt                21452 non-null int64\n",
      "total_income        21452 non-null float64\n",
      "purpose             21452 non-null object\n",
      "dtypes: float64(2), int64(5), object(5)\n",
      "memory usage: 2.0+ MB\n"
     ]
    }
   ],
   "source": [
    "df.info()"
   ]
  },
  {
   "cell_type": "markdown",
   "metadata": {
    "id": "Mqr-kptIN8zI"
   },
   "source": [
    "Значения заполнены, для проверки сформируем снова сводную таблицу"
   ]
  },
  {
   "cell_type": "code",
   "execution_count": 79,
   "metadata": {
    "colab": {
     "base_uri": "https://localhost:8080/",
     "height": 452
    },
    "id": "Va-sM0kUOIaY",
    "outputId": "1651b652-1dfd-42cc-83c9-3405f4dfd191"
   },
   "outputs": [
    {
     "data": {
      "text/html": [
       "<div>\n",
       "<style scoped>\n",
       "    .dataframe tbody tr th:only-of-type {\n",
       "        vertical-align: middle;\n",
       "    }\n",
       "\n",
       "    .dataframe tbody tr th {\n",
       "        vertical-align: top;\n",
       "    }\n",
       "\n",
       "    .dataframe thead th {\n",
       "        text-align: right;\n",
       "    }\n",
       "</style>\n",
       "<table border=\"1\" class=\"dataframe\">\n",
       "  <thead>\n",
       "    <tr style=\"text-align: right;\">\n",
       "      <th></th>\n",
       "      <th>gender</th>\n",
       "      <th>income_type</th>\n",
       "      <th>count</th>\n",
       "      <th>median</th>\n",
       "    </tr>\n",
       "  </thead>\n",
       "  <tbody>\n",
       "    <tr>\n",
       "      <td>0</td>\n",
       "      <td>F</td>\n",
       "      <td>безработный</td>\n",
       "      <td>1</td>\n",
       "      <td>395,302.84</td>\n",
       "    </tr>\n",
       "    <tr>\n",
       "      <td>1</td>\n",
       "      <td>F</td>\n",
       "      <td>в декрете</td>\n",
       "      <td>1</td>\n",
       "      <td>3,296.76</td>\n",
       "    </tr>\n",
       "    <tr>\n",
       "      <td>2</td>\n",
       "      <td>F</td>\n",
       "      <td>госслужащий</td>\n",
       "      <td>1072</td>\n",
       "      <td>2,705.84</td>\n",
       "    </tr>\n",
       "    <tr>\n",
       "      <td>3</td>\n",
       "      <td>F</td>\n",
       "      <td>компаньон</td>\n",
       "      <td>3191</td>\n",
       "      <td>1,584.34</td>\n",
       "    </tr>\n",
       "    <tr>\n",
       "      <td>4</td>\n",
       "      <td>F</td>\n",
       "      <td>пенсионер</td>\n",
       "      <td>3132</td>\n",
       "      <td>366,182.93</td>\n",
       "    </tr>\n",
       "    <tr>\n",
       "      <td>5</td>\n",
       "      <td>F</td>\n",
       "      <td>предприниматель</td>\n",
       "      <td>1</td>\n",
       "      <td>520.85</td>\n",
       "    </tr>\n",
       "    <tr>\n",
       "      <td>6</td>\n",
       "      <td>F</td>\n",
       "      <td>сотрудник</td>\n",
       "      <td>6776</td>\n",
       "      <td>1,718.51</td>\n",
       "    </tr>\n",
       "    <tr>\n",
       "      <td>7</td>\n",
       "      <td>M</td>\n",
       "      <td>безработный</td>\n",
       "      <td>1</td>\n",
       "      <td>337,524.47</td>\n",
       "    </tr>\n",
       "    <tr>\n",
       "      <td>8</td>\n",
       "      <td>M</td>\n",
       "      <td>госслужащий</td>\n",
       "      <td>385</td>\n",
       "      <td>2,659.33</td>\n",
       "    </tr>\n",
       "    <tr>\n",
       "      <td>9</td>\n",
       "      <td>M</td>\n",
       "      <td>компаньон</td>\n",
       "      <td>1886</td>\n",
       "      <td>1,472.89</td>\n",
       "    </tr>\n",
       "    <tr>\n",
       "      <td>10</td>\n",
       "      <td>M</td>\n",
       "      <td>пенсионер</td>\n",
       "      <td>697</td>\n",
       "      <td>361,781.51</td>\n",
       "    </tr>\n",
       "    <tr>\n",
       "      <td>11</td>\n",
       "      <td>M</td>\n",
       "      <td>сотрудник</td>\n",
       "      <td>4308</td>\n",
       "      <td>1,362.73</td>\n",
       "    </tr>\n",
       "    <tr>\n",
       "      <td>12</td>\n",
       "      <td>M</td>\n",
       "      <td>студент</td>\n",
       "      <td>1</td>\n",
       "      <td>578.75</td>\n",
       "    </tr>\n",
       "  </tbody>\n",
       "</table>\n",
       "</div>"
      ],
      "text/plain": [
       "   gender      income_type  count     median\n",
       "0       F      безработный      1 395,302.84\n",
       "1       F        в декрете      1   3,296.76\n",
       "2       F      госслужащий   1072   2,705.84\n",
       "3       F        компаньон   3191   1,584.34\n",
       "4       F        пенсионер   3132 366,182.93\n",
       "5       F  предприниматель      1     520.85\n",
       "6       F        сотрудник   6776   1,718.51\n",
       "7       M      безработный      1 337,524.47\n",
       "8       M      госслужащий    385   2,659.33\n",
       "9       M        компаньон   1886   1,472.89\n",
       "10      M        пенсионер    697 361,781.51\n",
       "11      M        сотрудник   4308   1,362.73\n",
       "12      M          студент      1     578.75"
      ]
     },
     "execution_count": 79,
     "metadata": {},
     "output_type": "execute_result"
    }
   ],
   "source": [
    "df.groupby(['gender', 'income_type'])['days_employed'].agg(['count', 'median']).reset_index()"
   ]
  },
  {
   "cell_type": "markdown",
   "metadata": {
    "id": "Nm2b1zGXoOaS"
   },
   "source": [
    "**Вывод**"
   ]
  },
  {
   "cell_type": "markdown",
   "metadata": {
    "id": "JLcaLd4LoOaT"
   },
   "source": [
    "Значительная часть данных в двух столбцах была пропущена. В этом случае мы заполнили такие данные медианным значением по полу и статусу, а единственное значение, которое содержит пропущенное значени - удалили."
   ]
  },
  {
   "cell_type": "markdown",
   "metadata": {
    "id": "bgTr6wBFoOaT"
   },
   "source": [
    "### Замена типа данных"
   ]
  },
  {
   "cell_type": "code",
   "execution_count": 80,
   "metadata": {
    "colab": {
     "base_uri": "https://localhost:8080/",
     "height": 626
    },
    "id": "n0Z3xYRCehfc",
    "outputId": "1c783fce-e92c-40da-dc5c-6ebcb4d23596"
   },
   "outputs": [
    {
     "data": {
      "text/html": [
       "<div>\n",
       "<style scoped>\n",
       "    .dataframe tbody tr th:only-of-type {\n",
       "        vertical-align: middle;\n",
       "    }\n",
       "\n",
       "    .dataframe tbody tr th {\n",
       "        vertical-align: top;\n",
       "    }\n",
       "\n",
       "    .dataframe thead th {\n",
       "        text-align: right;\n",
       "    }\n",
       "</style>\n",
       "<table border=\"1\" class=\"dataframe\">\n",
       "  <thead>\n",
       "    <tr style=\"text-align: right;\">\n",
       "      <th></th>\n",
       "      <th>children</th>\n",
       "      <th>days_employed</th>\n",
       "      <th>dob_years</th>\n",
       "      <th>education</th>\n",
       "      <th>education_id</th>\n",
       "      <th>family_status</th>\n",
       "      <th>family_status_id</th>\n",
       "      <th>gender</th>\n",
       "      <th>income_type</th>\n",
       "      <th>debt</th>\n",
       "      <th>total_income</th>\n",
       "      <th>purpose</th>\n",
       "    </tr>\n",
       "  </thead>\n",
       "  <tbody>\n",
       "    <tr>\n",
       "      <td>0</td>\n",
       "      <td>1</td>\n",
       "      <td>8,437.67</td>\n",
       "      <td>42</td>\n",
       "      <td>высшее</td>\n",
       "      <td>0</td>\n",
       "      <td>женат / замужем</td>\n",
       "      <td>0</td>\n",
       "      <td>F</td>\n",
       "      <td>сотрудник</td>\n",
       "      <td>0</td>\n",
       "      <td>253,875.64</td>\n",
       "      <td>покупка жилья</td>\n",
       "    </tr>\n",
       "    <tr>\n",
       "      <td>1</td>\n",
       "      <td>1</td>\n",
       "      <td>4,024.80</td>\n",
       "      <td>36</td>\n",
       "      <td>среднее</td>\n",
       "      <td>1</td>\n",
       "      <td>женат / замужем</td>\n",
       "      <td>0</td>\n",
       "      <td>F</td>\n",
       "      <td>сотрудник</td>\n",
       "      <td>0</td>\n",
       "      <td>112,080.01</td>\n",
       "      <td>приобретение автомобиля</td>\n",
       "    </tr>\n",
       "    <tr>\n",
       "      <td>2</td>\n",
       "      <td>0</td>\n",
       "      <td>5,623.42</td>\n",
       "      <td>33</td>\n",
       "      <td>среднее</td>\n",
       "      <td>1</td>\n",
       "      <td>женат / замужем</td>\n",
       "      <td>0</td>\n",
       "      <td>M</td>\n",
       "      <td>сотрудник</td>\n",
       "      <td>0</td>\n",
       "      <td>145,885.95</td>\n",
       "      <td>покупка жилья</td>\n",
       "    </tr>\n",
       "    <tr>\n",
       "      <td>3</td>\n",
       "      <td>3</td>\n",
       "      <td>4,124.75</td>\n",
       "      <td>32</td>\n",
       "      <td>среднее</td>\n",
       "      <td>1</td>\n",
       "      <td>женат / замужем</td>\n",
       "      <td>0</td>\n",
       "      <td>M</td>\n",
       "      <td>сотрудник</td>\n",
       "      <td>0</td>\n",
       "      <td>267,628.55</td>\n",
       "      <td>дополнительное образование</td>\n",
       "    </tr>\n",
       "    <tr>\n",
       "      <td>4</td>\n",
       "      <td>0</td>\n",
       "      <td>340,266.07</td>\n",
       "      <td>53</td>\n",
       "      <td>среднее</td>\n",
       "      <td>1</td>\n",
       "      <td>гражданский брак</td>\n",
       "      <td>1</td>\n",
       "      <td>F</td>\n",
       "      <td>пенсионер</td>\n",
       "      <td>0</td>\n",
       "      <td>158,616.08</td>\n",
       "      <td>сыграть свадьбу</td>\n",
       "    </tr>\n",
       "    <tr>\n",
       "      <td>...</td>\n",
       "      <td>...</td>\n",
       "      <td>...</td>\n",
       "      <td>...</td>\n",
       "      <td>...</td>\n",
       "      <td>...</td>\n",
       "      <td>...</td>\n",
       "      <td>...</td>\n",
       "      <td>...</td>\n",
       "      <td>...</td>\n",
       "      <td>...</td>\n",
       "      <td>...</td>\n",
       "      <td>...</td>\n",
       "    </tr>\n",
       "    <tr>\n",
       "      <td>21447</td>\n",
       "      <td>1</td>\n",
       "      <td>4,529.32</td>\n",
       "      <td>43</td>\n",
       "      <td>среднее</td>\n",
       "      <td>1</td>\n",
       "      <td>гражданский брак</td>\n",
       "      <td>1</td>\n",
       "      <td>F</td>\n",
       "      <td>компаньон</td>\n",
       "      <td>0</td>\n",
       "      <td>224,791.86</td>\n",
       "      <td>операции с жильем</td>\n",
       "    </tr>\n",
       "    <tr>\n",
       "      <td>21448</td>\n",
       "      <td>0</td>\n",
       "      <td>343,937.40</td>\n",
       "      <td>67</td>\n",
       "      <td>среднее</td>\n",
       "      <td>1</td>\n",
       "      <td>женат / замужем</td>\n",
       "      <td>0</td>\n",
       "      <td>F</td>\n",
       "      <td>пенсионер</td>\n",
       "      <td>0</td>\n",
       "      <td>155,999.81</td>\n",
       "      <td>сделка с автомобилем</td>\n",
       "    </tr>\n",
       "    <tr>\n",
       "      <td>21449</td>\n",
       "      <td>1</td>\n",
       "      <td>2,113.35</td>\n",
       "      <td>38</td>\n",
       "      <td>среднее</td>\n",
       "      <td>1</td>\n",
       "      <td>гражданский брак</td>\n",
       "      <td>1</td>\n",
       "      <td>M</td>\n",
       "      <td>сотрудник</td>\n",
       "      <td>1</td>\n",
       "      <td>89,672.56</td>\n",
       "      <td>недвижимость</td>\n",
       "    </tr>\n",
       "    <tr>\n",
       "      <td>21450</td>\n",
       "      <td>3</td>\n",
       "      <td>3,112.48</td>\n",
       "      <td>38</td>\n",
       "      <td>среднее</td>\n",
       "      <td>1</td>\n",
       "      <td>женат / замужем</td>\n",
       "      <td>0</td>\n",
       "      <td>M</td>\n",
       "      <td>сотрудник</td>\n",
       "      <td>1</td>\n",
       "      <td>244,093.05</td>\n",
       "      <td>на покупку своего автомобиля</td>\n",
       "    </tr>\n",
       "    <tr>\n",
       "      <td>21451</td>\n",
       "      <td>2</td>\n",
       "      <td>1,984.51</td>\n",
       "      <td>40</td>\n",
       "      <td>среднее</td>\n",
       "      <td>1</td>\n",
       "      <td>женат / замужем</td>\n",
       "      <td>0</td>\n",
       "      <td>F</td>\n",
       "      <td>сотрудник</td>\n",
       "      <td>0</td>\n",
       "      <td>82,047.42</td>\n",
       "      <td>на покупку автомобиля</td>\n",
       "    </tr>\n",
       "  </tbody>\n",
       "</table>\n",
       "<p>21452 rows × 12 columns</p>\n",
       "</div>"
      ],
      "text/plain": [
       "       children  days_employed  dob_years education  education_id  \\\n",
       "0             1       8,437.67         42    высшее             0   \n",
       "1             1       4,024.80         36   среднее             1   \n",
       "2             0       5,623.42         33   среднее             1   \n",
       "3             3       4,124.75         32   среднее             1   \n",
       "4             0     340,266.07         53   среднее             1   \n",
       "...         ...            ...        ...       ...           ...   \n",
       "21447         1       4,529.32         43   среднее             1   \n",
       "21448         0     343,937.40         67   среднее             1   \n",
       "21449         1       2,113.35         38   среднее             1   \n",
       "21450         3       3,112.48         38   среднее             1   \n",
       "21451         2       1,984.51         40   среднее             1   \n",
       "\n",
       "          family_status  family_status_id gender income_type  debt  \\\n",
       "0       женат / замужем                 0      F   сотрудник     0   \n",
       "1       женат / замужем                 0      F   сотрудник     0   \n",
       "2       женат / замужем                 0      M   сотрудник     0   \n",
       "3       женат / замужем                 0      M   сотрудник     0   \n",
       "4      гражданский брак                 1      F   пенсионер     0   \n",
       "...                 ...               ...    ...         ...   ...   \n",
       "21447  гражданский брак                 1      F   компаньон     0   \n",
       "21448   женат / замужем                 0      F   пенсионер     0   \n",
       "21449  гражданский брак                 1      M   сотрудник     1   \n",
       "21450   женат / замужем                 0      M   сотрудник     1   \n",
       "21451   женат / замужем                 0      F   сотрудник     0   \n",
       "\n",
       "       total_income                       purpose  \n",
       "0        253,875.64                 покупка жилья  \n",
       "1        112,080.01       приобретение автомобиля  \n",
       "2        145,885.95                 покупка жилья  \n",
       "3        267,628.55    дополнительное образование  \n",
       "4        158,616.08               сыграть свадьбу  \n",
       "...             ...                           ...  \n",
       "21447    224,791.86             операции с жильем  \n",
       "21448    155,999.81          сделка с автомобилем  \n",
       "21449     89,672.56                  недвижимость  \n",
       "21450    244,093.05  на покупку своего автомобиля  \n",
       "21451     82,047.42         на покупку автомобиля  \n",
       "\n",
       "[21452 rows x 12 columns]"
      ]
     },
     "execution_count": 80,
     "metadata": {},
     "output_type": "execute_result"
    }
   ],
   "source": [
    "df"
   ]
  },
  {
   "cell_type": "markdown",
   "metadata": {
    "id": "miX0jjRegGBz"
   },
   "source": [
    "Видим, что значения дней стажа и заработка дробные. Исправим это, отбросив дробную часть."
   ]
  },
  {
   "cell_type": "code",
   "execution_count": 81,
   "metadata": {
    "colab": {
     "base_uri": "https://localhost:8080/"
    },
    "id": "PZ-pKKW-gZjd",
    "outputId": "c6a1bbab-c93b-4cc4-b722-214b06fd0bc2"
   },
   "outputs": [
    {
     "name": "stderr",
     "output_type": "stream",
     "text": [
      "/opt/conda/lib/python3.7/site-packages/ipykernel_launcher.py:1: SettingWithCopyWarning: \n",
      "A value is trying to be set on a copy of a slice from a DataFrame.\n",
      "Try using .loc[row_indexer,col_indexer] = value instead\n",
      "\n",
      "See the caveats in the documentation: http://pandas.pydata.org/pandas-docs/stable/user_guide/indexing.html#returning-a-view-versus-a-copy\n",
      "  \"\"\"Entry point for launching an IPython kernel.\n"
     ]
    }
   ],
   "source": [
    "df['days_employed'] = df['days_employed'].astype('int')"
   ]
  },
  {
   "cell_type": "code",
   "execution_count": 82,
   "metadata": {
    "colab": {
     "base_uri": "https://localhost:8080/"
    },
    "id": "TlQTcX9hhkL-",
    "outputId": "14e3999c-daef-4d11-cb51-1ae1183c86b4"
   },
   "outputs": [
    {
     "name": "stderr",
     "output_type": "stream",
     "text": [
      "/opt/conda/lib/python3.7/site-packages/ipykernel_launcher.py:1: SettingWithCopyWarning: \n",
      "A value is trying to be set on a copy of a slice from a DataFrame.\n",
      "Try using .loc[row_indexer,col_indexer] = value instead\n",
      "\n",
      "See the caveats in the documentation: http://pandas.pydata.org/pandas-docs/stable/user_guide/indexing.html#returning-a-view-versus-a-copy\n",
      "  \"\"\"Entry point for launching an IPython kernel.\n"
     ]
    }
   ],
   "source": [
    "df['total_income'] = df['total_income'].astype('int')"
   ]
  },
  {
   "cell_type": "code",
   "execution_count": 83,
   "metadata": {
    "colab": {
     "base_uri": "https://localhost:8080/",
     "height": 626
    },
    "id": "EL1QMqrZg-9b",
    "outputId": "5358901f-9ad5-4c0a-c809-7c395377f673"
   },
   "outputs": [
    {
     "data": {
      "text/html": [
       "<div>\n",
       "<style scoped>\n",
       "    .dataframe tbody tr th:only-of-type {\n",
       "        vertical-align: middle;\n",
       "    }\n",
       "\n",
       "    .dataframe tbody tr th {\n",
       "        vertical-align: top;\n",
       "    }\n",
       "\n",
       "    .dataframe thead th {\n",
       "        text-align: right;\n",
       "    }\n",
       "</style>\n",
       "<table border=\"1\" class=\"dataframe\">\n",
       "  <thead>\n",
       "    <tr style=\"text-align: right;\">\n",
       "      <th></th>\n",
       "      <th>children</th>\n",
       "      <th>days_employed</th>\n",
       "      <th>dob_years</th>\n",
       "      <th>education</th>\n",
       "      <th>education_id</th>\n",
       "      <th>family_status</th>\n",
       "      <th>family_status_id</th>\n",
       "      <th>gender</th>\n",
       "      <th>income_type</th>\n",
       "      <th>debt</th>\n",
       "      <th>total_income</th>\n",
       "      <th>purpose</th>\n",
       "    </tr>\n",
       "  </thead>\n",
       "  <tbody>\n",
       "    <tr>\n",
       "      <td>0</td>\n",
       "      <td>1</td>\n",
       "      <td>8437</td>\n",
       "      <td>42</td>\n",
       "      <td>высшее</td>\n",
       "      <td>0</td>\n",
       "      <td>женат / замужем</td>\n",
       "      <td>0</td>\n",
       "      <td>F</td>\n",
       "      <td>сотрудник</td>\n",
       "      <td>0</td>\n",
       "      <td>253875</td>\n",
       "      <td>покупка жилья</td>\n",
       "    </tr>\n",
       "    <tr>\n",
       "      <td>1</td>\n",
       "      <td>1</td>\n",
       "      <td>4024</td>\n",
       "      <td>36</td>\n",
       "      <td>среднее</td>\n",
       "      <td>1</td>\n",
       "      <td>женат / замужем</td>\n",
       "      <td>0</td>\n",
       "      <td>F</td>\n",
       "      <td>сотрудник</td>\n",
       "      <td>0</td>\n",
       "      <td>112080</td>\n",
       "      <td>приобретение автомобиля</td>\n",
       "    </tr>\n",
       "    <tr>\n",
       "      <td>2</td>\n",
       "      <td>0</td>\n",
       "      <td>5623</td>\n",
       "      <td>33</td>\n",
       "      <td>среднее</td>\n",
       "      <td>1</td>\n",
       "      <td>женат / замужем</td>\n",
       "      <td>0</td>\n",
       "      <td>M</td>\n",
       "      <td>сотрудник</td>\n",
       "      <td>0</td>\n",
       "      <td>145885</td>\n",
       "      <td>покупка жилья</td>\n",
       "    </tr>\n",
       "    <tr>\n",
       "      <td>3</td>\n",
       "      <td>3</td>\n",
       "      <td>4124</td>\n",
       "      <td>32</td>\n",
       "      <td>среднее</td>\n",
       "      <td>1</td>\n",
       "      <td>женат / замужем</td>\n",
       "      <td>0</td>\n",
       "      <td>M</td>\n",
       "      <td>сотрудник</td>\n",
       "      <td>0</td>\n",
       "      <td>267628</td>\n",
       "      <td>дополнительное образование</td>\n",
       "    </tr>\n",
       "    <tr>\n",
       "      <td>4</td>\n",
       "      <td>0</td>\n",
       "      <td>340266</td>\n",
       "      <td>53</td>\n",
       "      <td>среднее</td>\n",
       "      <td>1</td>\n",
       "      <td>гражданский брак</td>\n",
       "      <td>1</td>\n",
       "      <td>F</td>\n",
       "      <td>пенсионер</td>\n",
       "      <td>0</td>\n",
       "      <td>158616</td>\n",
       "      <td>сыграть свадьбу</td>\n",
       "    </tr>\n",
       "    <tr>\n",
       "      <td>...</td>\n",
       "      <td>...</td>\n",
       "      <td>...</td>\n",
       "      <td>...</td>\n",
       "      <td>...</td>\n",
       "      <td>...</td>\n",
       "      <td>...</td>\n",
       "      <td>...</td>\n",
       "      <td>...</td>\n",
       "      <td>...</td>\n",
       "      <td>...</td>\n",
       "      <td>...</td>\n",
       "      <td>...</td>\n",
       "    </tr>\n",
       "    <tr>\n",
       "      <td>21447</td>\n",
       "      <td>1</td>\n",
       "      <td>4529</td>\n",
       "      <td>43</td>\n",
       "      <td>среднее</td>\n",
       "      <td>1</td>\n",
       "      <td>гражданский брак</td>\n",
       "      <td>1</td>\n",
       "      <td>F</td>\n",
       "      <td>компаньон</td>\n",
       "      <td>0</td>\n",
       "      <td>224791</td>\n",
       "      <td>операции с жильем</td>\n",
       "    </tr>\n",
       "    <tr>\n",
       "      <td>21448</td>\n",
       "      <td>0</td>\n",
       "      <td>343937</td>\n",
       "      <td>67</td>\n",
       "      <td>среднее</td>\n",
       "      <td>1</td>\n",
       "      <td>женат / замужем</td>\n",
       "      <td>0</td>\n",
       "      <td>F</td>\n",
       "      <td>пенсионер</td>\n",
       "      <td>0</td>\n",
       "      <td>155999</td>\n",
       "      <td>сделка с автомобилем</td>\n",
       "    </tr>\n",
       "    <tr>\n",
       "      <td>21449</td>\n",
       "      <td>1</td>\n",
       "      <td>2113</td>\n",
       "      <td>38</td>\n",
       "      <td>среднее</td>\n",
       "      <td>1</td>\n",
       "      <td>гражданский брак</td>\n",
       "      <td>1</td>\n",
       "      <td>M</td>\n",
       "      <td>сотрудник</td>\n",
       "      <td>1</td>\n",
       "      <td>89672</td>\n",
       "      <td>недвижимость</td>\n",
       "    </tr>\n",
       "    <tr>\n",
       "      <td>21450</td>\n",
       "      <td>3</td>\n",
       "      <td>3112</td>\n",
       "      <td>38</td>\n",
       "      <td>среднее</td>\n",
       "      <td>1</td>\n",
       "      <td>женат / замужем</td>\n",
       "      <td>0</td>\n",
       "      <td>M</td>\n",
       "      <td>сотрудник</td>\n",
       "      <td>1</td>\n",
       "      <td>244093</td>\n",
       "      <td>на покупку своего автомобиля</td>\n",
       "    </tr>\n",
       "    <tr>\n",
       "      <td>21451</td>\n",
       "      <td>2</td>\n",
       "      <td>1984</td>\n",
       "      <td>40</td>\n",
       "      <td>среднее</td>\n",
       "      <td>1</td>\n",
       "      <td>женат / замужем</td>\n",
       "      <td>0</td>\n",
       "      <td>F</td>\n",
       "      <td>сотрудник</td>\n",
       "      <td>0</td>\n",
       "      <td>82047</td>\n",
       "      <td>на покупку автомобиля</td>\n",
       "    </tr>\n",
       "  </tbody>\n",
       "</table>\n",
       "<p>21452 rows × 12 columns</p>\n",
       "</div>"
      ],
      "text/plain": [
       "       children  days_employed  dob_years education  education_id  \\\n",
       "0             1           8437         42    высшее             0   \n",
       "1             1           4024         36   среднее             1   \n",
       "2             0           5623         33   среднее             1   \n",
       "3             3           4124         32   среднее             1   \n",
       "4             0         340266         53   среднее             1   \n",
       "...         ...            ...        ...       ...           ...   \n",
       "21447         1           4529         43   среднее             1   \n",
       "21448         0         343937         67   среднее             1   \n",
       "21449         1           2113         38   среднее             1   \n",
       "21450         3           3112         38   среднее             1   \n",
       "21451         2           1984         40   среднее             1   \n",
       "\n",
       "          family_status  family_status_id gender income_type  debt  \\\n",
       "0       женат / замужем                 0      F   сотрудник     0   \n",
       "1       женат / замужем                 0      F   сотрудник     0   \n",
       "2       женат / замужем                 0      M   сотрудник     0   \n",
       "3       женат / замужем                 0      M   сотрудник     0   \n",
       "4      гражданский брак                 1      F   пенсионер     0   \n",
       "...                 ...               ...    ...         ...   ...   \n",
       "21447  гражданский брак                 1      F   компаньон     0   \n",
       "21448   женат / замужем                 0      F   пенсионер     0   \n",
       "21449  гражданский брак                 1      M   сотрудник     1   \n",
       "21450   женат / замужем                 0      M   сотрудник     1   \n",
       "21451   женат / замужем                 0      F   сотрудник     0   \n",
       "\n",
       "       total_income                       purpose  \n",
       "0            253875                 покупка жилья  \n",
       "1            112080       приобретение автомобиля  \n",
       "2            145885                 покупка жилья  \n",
       "3            267628    дополнительное образование  \n",
       "4            158616               сыграть свадьбу  \n",
       "...             ...                           ...  \n",
       "21447        224791             операции с жильем  \n",
       "21448        155999          сделка с автомобилем  \n",
       "21449         89672                  недвижимость  \n",
       "21450        244093  на покупку своего автомобиля  \n",
       "21451         82047         на покупку автомобиля  \n",
       "\n",
       "[21452 rows x 12 columns]"
      ]
     },
     "execution_count": 83,
     "metadata": {},
     "output_type": "execute_result"
    }
   ],
   "source": [
    "df"
   ]
  },
  {
   "cell_type": "markdown",
   "metadata": {
    "id": "26Ksrb_mhzV4"
   },
   "source": [
    "В столбце стажа есть значения, которые значительно превышают возраст. Скорее всего ошибочно были занесены часы в место дней. Чтобы это выяснить, добавим новый столбец, где дни стажа переведем в года, а затем в другой столбец запишем разницу между возрастом и стажем."
   ]
  },
  {
   "cell_type": "code",
   "execution_count": 84,
   "metadata": {
    "colab": {
     "base_uri": "https://localhost:8080/"
    },
    "id": "cBlcycpZisdS",
    "outputId": "127223fa-0df0-46b6-916f-e8ead46ffc51"
   },
   "outputs": [
    {
     "name": "stderr",
     "output_type": "stream",
     "text": [
      "/opt/conda/lib/python3.7/site-packages/ipykernel_launcher.py:1: SettingWithCopyWarning: \n",
      "A value is trying to be set on a copy of a slice from a DataFrame.\n",
      "Try using .loc[row_indexer,col_indexer] = value instead\n",
      "\n",
      "See the caveats in the documentation: http://pandas.pydata.org/pandas-docs/stable/user_guide/indexing.html#returning-a-view-versus-a-copy\n",
      "  \"\"\"Entry point for launching an IPython kernel.\n"
     ]
    }
   ],
   "source": [
    "df['years_employed'] = df['days_employed'] / 365"
   ]
  },
  {
   "cell_type": "code",
   "execution_count": 85,
   "metadata": {
    "colab": {
     "base_uri": "https://localhost:8080/",
     "height": 626
    },
    "id": "LO4PKVHajQQx",
    "outputId": "01def3bd-8705-4399-d55c-28afe2fa04fc"
   },
   "outputs": [
    {
     "data": {
      "text/html": [
       "<div>\n",
       "<style scoped>\n",
       "    .dataframe tbody tr th:only-of-type {\n",
       "        vertical-align: middle;\n",
       "    }\n",
       "\n",
       "    .dataframe tbody tr th {\n",
       "        vertical-align: top;\n",
       "    }\n",
       "\n",
       "    .dataframe thead th {\n",
       "        text-align: right;\n",
       "    }\n",
       "</style>\n",
       "<table border=\"1\" class=\"dataframe\">\n",
       "  <thead>\n",
       "    <tr style=\"text-align: right;\">\n",
       "      <th></th>\n",
       "      <th>children</th>\n",
       "      <th>days_employed</th>\n",
       "      <th>dob_years</th>\n",
       "      <th>education</th>\n",
       "      <th>education_id</th>\n",
       "      <th>family_status</th>\n",
       "      <th>family_status_id</th>\n",
       "      <th>gender</th>\n",
       "      <th>income_type</th>\n",
       "      <th>debt</th>\n",
       "      <th>total_income</th>\n",
       "      <th>purpose</th>\n",
       "      <th>years_employed</th>\n",
       "    </tr>\n",
       "  </thead>\n",
       "  <tbody>\n",
       "    <tr>\n",
       "      <td>0</td>\n",
       "      <td>1</td>\n",
       "      <td>8437</td>\n",
       "      <td>42</td>\n",
       "      <td>высшее</td>\n",
       "      <td>0</td>\n",
       "      <td>женат / замужем</td>\n",
       "      <td>0</td>\n",
       "      <td>F</td>\n",
       "      <td>сотрудник</td>\n",
       "      <td>0</td>\n",
       "      <td>253875</td>\n",
       "      <td>покупка жилья</td>\n",
       "      <td>23.12</td>\n",
       "    </tr>\n",
       "    <tr>\n",
       "      <td>1</td>\n",
       "      <td>1</td>\n",
       "      <td>4024</td>\n",
       "      <td>36</td>\n",
       "      <td>среднее</td>\n",
       "      <td>1</td>\n",
       "      <td>женат / замужем</td>\n",
       "      <td>0</td>\n",
       "      <td>F</td>\n",
       "      <td>сотрудник</td>\n",
       "      <td>0</td>\n",
       "      <td>112080</td>\n",
       "      <td>приобретение автомобиля</td>\n",
       "      <td>11.02</td>\n",
       "    </tr>\n",
       "    <tr>\n",
       "      <td>2</td>\n",
       "      <td>0</td>\n",
       "      <td>5623</td>\n",
       "      <td>33</td>\n",
       "      <td>среднее</td>\n",
       "      <td>1</td>\n",
       "      <td>женат / замужем</td>\n",
       "      <td>0</td>\n",
       "      <td>M</td>\n",
       "      <td>сотрудник</td>\n",
       "      <td>0</td>\n",
       "      <td>145885</td>\n",
       "      <td>покупка жилья</td>\n",
       "      <td>15.41</td>\n",
       "    </tr>\n",
       "    <tr>\n",
       "      <td>3</td>\n",
       "      <td>3</td>\n",
       "      <td>4124</td>\n",
       "      <td>32</td>\n",
       "      <td>среднее</td>\n",
       "      <td>1</td>\n",
       "      <td>женат / замужем</td>\n",
       "      <td>0</td>\n",
       "      <td>M</td>\n",
       "      <td>сотрудник</td>\n",
       "      <td>0</td>\n",
       "      <td>267628</td>\n",
       "      <td>дополнительное образование</td>\n",
       "      <td>11.30</td>\n",
       "    </tr>\n",
       "    <tr>\n",
       "      <td>4</td>\n",
       "      <td>0</td>\n",
       "      <td>340266</td>\n",
       "      <td>53</td>\n",
       "      <td>среднее</td>\n",
       "      <td>1</td>\n",
       "      <td>гражданский брак</td>\n",
       "      <td>1</td>\n",
       "      <td>F</td>\n",
       "      <td>пенсионер</td>\n",
       "      <td>0</td>\n",
       "      <td>158616</td>\n",
       "      <td>сыграть свадьбу</td>\n",
       "      <td>932.24</td>\n",
       "    </tr>\n",
       "    <tr>\n",
       "      <td>...</td>\n",
       "      <td>...</td>\n",
       "      <td>...</td>\n",
       "      <td>...</td>\n",
       "      <td>...</td>\n",
       "      <td>...</td>\n",
       "      <td>...</td>\n",
       "      <td>...</td>\n",
       "      <td>...</td>\n",
       "      <td>...</td>\n",
       "      <td>...</td>\n",
       "      <td>...</td>\n",
       "      <td>...</td>\n",
       "      <td>...</td>\n",
       "    </tr>\n",
       "    <tr>\n",
       "      <td>21447</td>\n",
       "      <td>1</td>\n",
       "      <td>4529</td>\n",
       "      <td>43</td>\n",
       "      <td>среднее</td>\n",
       "      <td>1</td>\n",
       "      <td>гражданский брак</td>\n",
       "      <td>1</td>\n",
       "      <td>F</td>\n",
       "      <td>компаньон</td>\n",
       "      <td>0</td>\n",
       "      <td>224791</td>\n",
       "      <td>операции с жильем</td>\n",
       "      <td>12.41</td>\n",
       "    </tr>\n",
       "    <tr>\n",
       "      <td>21448</td>\n",
       "      <td>0</td>\n",
       "      <td>343937</td>\n",
       "      <td>67</td>\n",
       "      <td>среднее</td>\n",
       "      <td>1</td>\n",
       "      <td>женат / замужем</td>\n",
       "      <td>0</td>\n",
       "      <td>F</td>\n",
       "      <td>пенсионер</td>\n",
       "      <td>0</td>\n",
       "      <td>155999</td>\n",
       "      <td>сделка с автомобилем</td>\n",
       "      <td>942.29</td>\n",
       "    </tr>\n",
       "    <tr>\n",
       "      <td>21449</td>\n",
       "      <td>1</td>\n",
       "      <td>2113</td>\n",
       "      <td>38</td>\n",
       "      <td>среднее</td>\n",
       "      <td>1</td>\n",
       "      <td>гражданский брак</td>\n",
       "      <td>1</td>\n",
       "      <td>M</td>\n",
       "      <td>сотрудник</td>\n",
       "      <td>1</td>\n",
       "      <td>89672</td>\n",
       "      <td>недвижимость</td>\n",
       "      <td>5.79</td>\n",
       "    </tr>\n",
       "    <tr>\n",
       "      <td>21450</td>\n",
       "      <td>3</td>\n",
       "      <td>3112</td>\n",
       "      <td>38</td>\n",
       "      <td>среднее</td>\n",
       "      <td>1</td>\n",
       "      <td>женат / замужем</td>\n",
       "      <td>0</td>\n",
       "      <td>M</td>\n",
       "      <td>сотрудник</td>\n",
       "      <td>1</td>\n",
       "      <td>244093</td>\n",
       "      <td>на покупку своего автомобиля</td>\n",
       "      <td>8.53</td>\n",
       "    </tr>\n",
       "    <tr>\n",
       "      <td>21451</td>\n",
       "      <td>2</td>\n",
       "      <td>1984</td>\n",
       "      <td>40</td>\n",
       "      <td>среднее</td>\n",
       "      <td>1</td>\n",
       "      <td>женат / замужем</td>\n",
       "      <td>0</td>\n",
       "      <td>F</td>\n",
       "      <td>сотрудник</td>\n",
       "      <td>0</td>\n",
       "      <td>82047</td>\n",
       "      <td>на покупку автомобиля</td>\n",
       "      <td>5.44</td>\n",
       "    </tr>\n",
       "  </tbody>\n",
       "</table>\n",
       "<p>21452 rows × 13 columns</p>\n",
       "</div>"
      ],
      "text/plain": [
       "       children  days_employed  dob_years education  education_id  \\\n",
       "0             1           8437         42    высшее             0   \n",
       "1             1           4024         36   среднее             1   \n",
       "2             0           5623         33   среднее             1   \n",
       "3             3           4124         32   среднее             1   \n",
       "4             0         340266         53   среднее             1   \n",
       "...         ...            ...        ...       ...           ...   \n",
       "21447         1           4529         43   среднее             1   \n",
       "21448         0         343937         67   среднее             1   \n",
       "21449         1           2113         38   среднее             1   \n",
       "21450         3           3112         38   среднее             1   \n",
       "21451         2           1984         40   среднее             1   \n",
       "\n",
       "          family_status  family_status_id gender income_type  debt  \\\n",
       "0       женат / замужем                 0      F   сотрудник     0   \n",
       "1       женат / замужем                 0      F   сотрудник     0   \n",
       "2       женат / замужем                 0      M   сотрудник     0   \n",
       "3       женат / замужем                 0      M   сотрудник     0   \n",
       "4      гражданский брак                 1      F   пенсионер     0   \n",
       "...                 ...               ...    ...         ...   ...   \n",
       "21447  гражданский брак                 1      F   компаньон     0   \n",
       "21448   женат / замужем                 0      F   пенсионер     0   \n",
       "21449  гражданский брак                 1      M   сотрудник     1   \n",
       "21450   женат / замужем                 0      M   сотрудник     1   \n",
       "21451   женат / замужем                 0      F   сотрудник     0   \n",
       "\n",
       "       total_income                       purpose  years_employed  \n",
       "0            253875                 покупка жилья           23.12  \n",
       "1            112080       приобретение автомобиля           11.02  \n",
       "2            145885                 покупка жилья           15.41  \n",
       "3            267628    дополнительное образование           11.30  \n",
       "4            158616               сыграть свадьбу          932.24  \n",
       "...             ...                           ...             ...  \n",
       "21447        224791             операции с жильем           12.41  \n",
       "21448        155999          сделка с автомобилем          942.29  \n",
       "21449         89672                  недвижимость            5.79  \n",
       "21450        244093  на покупку своего автомобиля            8.53  \n",
       "21451         82047         на покупку автомобиля            5.44  \n",
       "\n",
       "[21452 rows x 13 columns]"
      ]
     },
     "execution_count": 85,
     "metadata": {},
     "output_type": "execute_result"
    }
   ],
   "source": [
    "df"
   ]
  },
  {
   "cell_type": "code",
   "execution_count": 86,
   "metadata": {
    "colab": {
     "base_uri": "https://localhost:8080/"
    },
    "id": "MOoniqaijmUg",
    "outputId": "d26462b5-55b7-440d-e3c4-c71ebd83007c"
   },
   "outputs": [
    {
     "name": "stderr",
     "output_type": "stream",
     "text": [
      "/opt/conda/lib/python3.7/site-packages/ipykernel_launcher.py:1: SettingWithCopyWarning: \n",
      "A value is trying to be set on a copy of a slice from a DataFrame.\n",
      "Try using .loc[row_indexer,col_indexer] = value instead\n",
      "\n",
      "See the caveats in the documentation: http://pandas.pydata.org/pandas-docs/stable/user_guide/indexing.html#returning-a-view-versus-a-copy\n",
      "  \"\"\"Entry point for launching an IPython kernel.\n"
     ]
    }
   ],
   "source": [
    "df['diff_dob_employed'] = df['dob_years'] - df['years_employed']"
   ]
  },
  {
   "cell_type": "code",
   "execution_count": 87,
   "metadata": {
    "colab": {
     "base_uri": "https://localhost:8080/"
    },
    "id": "tNwqSvJvkbcn",
    "outputId": "4c7f4159-5a06-4882-bade-93d194627945"
   },
   "outputs": [
    {
     "data": {
      "text/plain": [
       "-1057.150684931507"
      ]
     },
     "execution_count": 87,
     "metadata": {},
     "output_type": "execute_result"
    }
   ],
   "source": [
    "df['diff_dob_employed'].min()"
   ]
  },
  {
   "cell_type": "code",
   "execution_count": 88,
   "metadata": {
    "colab": {
     "base_uri": "https://localhost:8080/",
     "height": 643
    },
    "id": "ZjL_VNJvkvBh",
    "outputId": "96a72de1-e134-495e-8164-76d75b4ea443"
   },
   "outputs": [
    {
     "data": {
      "text/html": [
       "<div>\n",
       "<style scoped>\n",
       "    .dataframe tbody tr th:only-of-type {\n",
       "        vertical-align: middle;\n",
       "    }\n",
       "\n",
       "    .dataframe tbody tr th {\n",
       "        vertical-align: top;\n",
       "    }\n",
       "\n",
       "    .dataframe thead th {\n",
       "        text-align: right;\n",
       "    }\n",
       "</style>\n",
       "<table border=\"1\" class=\"dataframe\">\n",
       "  <thead>\n",
       "    <tr style=\"text-align: right;\">\n",
       "      <th></th>\n",
       "      <th>children</th>\n",
       "      <th>days_employed</th>\n",
       "      <th>dob_years</th>\n",
       "      <th>education</th>\n",
       "      <th>education_id</th>\n",
       "      <th>family_status</th>\n",
       "      <th>family_status_id</th>\n",
       "      <th>gender</th>\n",
       "      <th>income_type</th>\n",
       "      <th>debt</th>\n",
       "      <th>total_income</th>\n",
       "      <th>purpose</th>\n",
       "      <th>years_employed</th>\n",
       "      <th>diff_dob_employed</th>\n",
       "    </tr>\n",
       "  </thead>\n",
       "  <tbody>\n",
       "    <tr>\n",
       "      <td>4</td>\n",
       "      <td>0</td>\n",
       "      <td>340266</td>\n",
       "      <td>53</td>\n",
       "      <td>среднее</td>\n",
       "      <td>1</td>\n",
       "      <td>гражданский брак</td>\n",
       "      <td>1</td>\n",
       "      <td>F</td>\n",
       "      <td>пенсионер</td>\n",
       "      <td>0</td>\n",
       "      <td>158616</td>\n",
       "      <td>сыграть свадьбу</td>\n",
       "      <td>932.24</td>\n",
       "      <td>-879.24</td>\n",
       "    </tr>\n",
       "    <tr>\n",
       "      <td>12</td>\n",
       "      <td>0</td>\n",
       "      <td>361781</td>\n",
       "      <td>65</td>\n",
       "      <td>среднее</td>\n",
       "      <td>1</td>\n",
       "      <td>гражданский брак</td>\n",
       "      <td>1</td>\n",
       "      <td>M</td>\n",
       "      <td>пенсионер</td>\n",
       "      <td>0</td>\n",
       "      <td>130739</td>\n",
       "      <td>сыграть свадьбу</td>\n",
       "      <td>991.18</td>\n",
       "      <td>-926.18</td>\n",
       "    </tr>\n",
       "    <tr>\n",
       "      <td>18</td>\n",
       "      <td>0</td>\n",
       "      <td>400281</td>\n",
       "      <td>53</td>\n",
       "      <td>среднее</td>\n",
       "      <td>1</td>\n",
       "      <td>вдовец / вдова</td>\n",
       "      <td>2</td>\n",
       "      <td>F</td>\n",
       "      <td>пенсионер</td>\n",
       "      <td>0</td>\n",
       "      <td>56823</td>\n",
       "      <td>на покупку подержанного автомобиля</td>\n",
       "      <td>1,096.66</td>\n",
       "      <td>-1,043.66</td>\n",
       "    </tr>\n",
       "    <tr>\n",
       "      <td>24</td>\n",
       "      <td>1</td>\n",
       "      <td>338551</td>\n",
       "      <td>57</td>\n",
       "      <td>среднее</td>\n",
       "      <td>1</td>\n",
       "      <td>Не женат / не замужем</td>\n",
       "      <td>4</td>\n",
       "      <td>F</td>\n",
       "      <td>пенсионер</td>\n",
       "      <td>0</td>\n",
       "      <td>290547</td>\n",
       "      <td>операции с коммерческой недвижимостью</td>\n",
       "      <td>927.54</td>\n",
       "      <td>-870.54</td>\n",
       "    </tr>\n",
       "    <tr>\n",
       "      <td>25</td>\n",
       "      <td>0</td>\n",
       "      <td>363548</td>\n",
       "      <td>67</td>\n",
       "      <td>среднее</td>\n",
       "      <td>1</td>\n",
       "      <td>женат / замужем</td>\n",
       "      <td>0</td>\n",
       "      <td>M</td>\n",
       "      <td>пенсионер</td>\n",
       "      <td>0</td>\n",
       "      <td>55112</td>\n",
       "      <td>покупка недвижимости</td>\n",
       "      <td>996.02</td>\n",
       "      <td>-929.02</td>\n",
       "    </tr>\n",
       "    <tr>\n",
       "      <td>...</td>\n",
       "      <td>...</td>\n",
       "      <td>...</td>\n",
       "      <td>...</td>\n",
       "      <td>...</td>\n",
       "      <td>...</td>\n",
       "      <td>...</td>\n",
       "      <td>...</td>\n",
       "      <td>...</td>\n",
       "      <td>...</td>\n",
       "      <td>...</td>\n",
       "      <td>...</td>\n",
       "      <td>...</td>\n",
       "      <td>...</td>\n",
       "      <td>...</td>\n",
       "    </tr>\n",
       "    <tr>\n",
       "      <td>21432</td>\n",
       "      <td>0</td>\n",
       "      <td>338904</td>\n",
       "      <td>53</td>\n",
       "      <td>среднее</td>\n",
       "      <td>1</td>\n",
       "      <td>гражданский брак</td>\n",
       "      <td>1</td>\n",
       "      <td>M</td>\n",
       "      <td>пенсионер</td>\n",
       "      <td>0</td>\n",
       "      <td>75439</td>\n",
       "      <td>сыграть свадьбу</td>\n",
       "      <td>928.50</td>\n",
       "      <td>-875.50</td>\n",
       "    </tr>\n",
       "    <tr>\n",
       "      <td>21435</td>\n",
       "      <td>0</td>\n",
       "      <td>386497</td>\n",
       "      <td>62</td>\n",
       "      <td>среднее</td>\n",
       "      <td>1</td>\n",
       "      <td>женат / замужем</td>\n",
       "      <td>0</td>\n",
       "      <td>M</td>\n",
       "      <td>пенсионер</td>\n",
       "      <td>0</td>\n",
       "      <td>72638</td>\n",
       "      <td>недвижимость</td>\n",
       "      <td>1,058.90</td>\n",
       "      <td>-996.90</td>\n",
       "    </tr>\n",
       "    <tr>\n",
       "      <td>21436</td>\n",
       "      <td>0</td>\n",
       "      <td>362161</td>\n",
       "      <td>59</td>\n",
       "      <td>высшее</td>\n",
       "      <td>0</td>\n",
       "      <td>женат / замужем</td>\n",
       "      <td>0</td>\n",
       "      <td>M</td>\n",
       "      <td>пенсионер</td>\n",
       "      <td>0</td>\n",
       "      <td>73029</td>\n",
       "      <td>операции с недвижимостью</td>\n",
       "      <td>992.22</td>\n",
       "      <td>-933.22</td>\n",
       "    </tr>\n",
       "    <tr>\n",
       "      <td>21445</td>\n",
       "      <td>0</td>\n",
       "      <td>373995</td>\n",
       "      <td>59</td>\n",
       "      <td>среднее</td>\n",
       "      <td>1</td>\n",
       "      <td>женат / замужем</td>\n",
       "      <td>0</td>\n",
       "      <td>F</td>\n",
       "      <td>пенсионер</td>\n",
       "      <td>0</td>\n",
       "      <td>153864</td>\n",
       "      <td>сделка с автомобилем</td>\n",
       "      <td>1,024.64</td>\n",
       "      <td>-965.64</td>\n",
       "    </tr>\n",
       "    <tr>\n",
       "      <td>21448</td>\n",
       "      <td>0</td>\n",
       "      <td>343937</td>\n",
       "      <td>67</td>\n",
       "      <td>среднее</td>\n",
       "      <td>1</td>\n",
       "      <td>женат / замужем</td>\n",
       "      <td>0</td>\n",
       "      <td>F</td>\n",
       "      <td>пенсионер</td>\n",
       "      <td>0</td>\n",
       "      <td>155999</td>\n",
       "      <td>сделка с автомобилем</td>\n",
       "      <td>942.29</td>\n",
       "      <td>-875.29</td>\n",
       "    </tr>\n",
       "  </tbody>\n",
       "</table>\n",
       "<p>3831 rows × 14 columns</p>\n",
       "</div>"
      ],
      "text/plain": [
       "       children  days_employed  dob_years education  education_id  \\\n",
       "4             0         340266         53   среднее             1   \n",
       "12            0         361781         65   среднее             1   \n",
       "18            0         400281         53   среднее             1   \n",
       "24            1         338551         57   среднее             1   \n",
       "25            0         363548         67   среднее             1   \n",
       "...         ...            ...        ...       ...           ...   \n",
       "21432         0         338904         53   среднее             1   \n",
       "21435         0         386497         62   среднее             1   \n",
       "21436         0         362161         59    высшее             0   \n",
       "21445         0         373995         59   среднее             1   \n",
       "21448         0         343937         67   среднее             1   \n",
       "\n",
       "               family_status  family_status_id gender income_type  debt  \\\n",
       "4           гражданский брак                 1      F   пенсионер     0   \n",
       "12          гражданский брак                 1      M   пенсионер     0   \n",
       "18            вдовец / вдова                 2      F   пенсионер     0   \n",
       "24     Не женат / не замужем                 4      F   пенсионер     0   \n",
       "25           женат / замужем                 0      M   пенсионер     0   \n",
       "...                      ...               ...    ...         ...   ...   \n",
       "21432       гражданский брак                 1      M   пенсионер     0   \n",
       "21435        женат / замужем                 0      M   пенсионер     0   \n",
       "21436        женат / замужем                 0      M   пенсионер     0   \n",
       "21445        женат / замужем                 0      F   пенсионер     0   \n",
       "21448        женат / замужем                 0      F   пенсионер     0   \n",
       "\n",
       "       total_income                                purpose  years_employed  \\\n",
       "4            158616                        сыграть свадьбу          932.24   \n",
       "12           130739                        сыграть свадьбу          991.18   \n",
       "18            56823     на покупку подержанного автомобиля        1,096.66   \n",
       "24           290547  операции с коммерческой недвижимостью          927.54   \n",
       "25            55112                   покупка недвижимости          996.02   \n",
       "...             ...                                    ...             ...   \n",
       "21432         75439                        сыграть свадьбу          928.50   \n",
       "21435         72638                           недвижимость        1,058.90   \n",
       "21436         73029               операции с недвижимостью          992.22   \n",
       "21445        153864                   сделка с автомобилем        1,024.64   \n",
       "21448        155999                   сделка с автомобилем          942.29   \n",
       "\n",
       "       diff_dob_employed  \n",
       "4                -879.24  \n",
       "12               -926.18  \n",
       "18             -1,043.66  \n",
       "24               -870.54  \n",
       "25               -929.02  \n",
       "...                  ...  \n",
       "21432            -875.50  \n",
       "21435            -996.90  \n",
       "21436            -933.22  \n",
       "21445            -965.64  \n",
       "21448            -875.29  \n",
       "\n",
       "[3831 rows x 14 columns]"
      ]
     },
     "execution_count": 88,
     "metadata": {},
     "output_type": "execute_result"
    }
   ],
   "source": [
    "df[df['diff_dob_employed'] < 0]"
   ]
  },
  {
   "cell_type": "code",
   "execution_count": 89,
   "metadata": {
    "colab": {
     "base_uri": "https://localhost:8080/",
     "height": 162
    },
    "id": "dqRq8a1qk52-",
    "outputId": "c74c1387-d629-41e2-a892-cf7ff0602735"
   },
   "outputs": [
    {
     "data": {
      "text/html": [
       "<div>\n",
       "<style scoped>\n",
       "    .dataframe tbody tr th:only-of-type {\n",
       "        vertical-align: middle;\n",
       "    }\n",
       "\n",
       "    .dataframe tbody tr th {\n",
       "        vertical-align: top;\n",
       "    }\n",
       "\n",
       "    .dataframe thead th {\n",
       "        text-align: right;\n",
       "    }\n",
       "</style>\n",
       "<table border=\"1\" class=\"dataframe\">\n",
       "  <thead>\n",
       "    <tr style=\"text-align: right;\">\n",
       "      <th></th>\n",
       "      <th>children</th>\n",
       "      <th>days_employed</th>\n",
       "      <th>dob_years</th>\n",
       "      <th>education</th>\n",
       "      <th>education_id</th>\n",
       "      <th>family_status</th>\n",
       "      <th>family_status_id</th>\n",
       "      <th>gender</th>\n",
       "      <th>debt</th>\n",
       "      <th>total_income</th>\n",
       "      <th>purpose</th>\n",
       "      <th>years_employed</th>\n",
       "      <th>diff_dob_employed</th>\n",
       "    </tr>\n",
       "    <tr>\n",
       "      <th>income_type</th>\n",
       "      <th></th>\n",
       "      <th></th>\n",
       "      <th></th>\n",
       "      <th></th>\n",
       "      <th></th>\n",
       "      <th></th>\n",
       "      <th></th>\n",
       "      <th></th>\n",
       "      <th></th>\n",
       "      <th></th>\n",
       "      <th></th>\n",
       "      <th></th>\n",
       "      <th></th>\n",
       "    </tr>\n",
       "  </thead>\n",
       "  <tbody>\n",
       "    <tr>\n",
       "      <td>безработный</td>\n",
       "      <td>2</td>\n",
       "      <td>2</td>\n",
       "      <td>2</td>\n",
       "      <td>2</td>\n",
       "      <td>2</td>\n",
       "      <td>2</td>\n",
       "      <td>2</td>\n",
       "      <td>2</td>\n",
       "      <td>2</td>\n",
       "      <td>2</td>\n",
       "      <td>2</td>\n",
       "      <td>2</td>\n",
       "      <td>2</td>\n",
       "    </tr>\n",
       "    <tr>\n",
       "      <td>пенсионер</td>\n",
       "      <td>3829</td>\n",
       "      <td>3829</td>\n",
       "      <td>3829</td>\n",
       "      <td>3829</td>\n",
       "      <td>3829</td>\n",
       "      <td>3829</td>\n",
       "      <td>3829</td>\n",
       "      <td>3829</td>\n",
       "      <td>3829</td>\n",
       "      <td>3829</td>\n",
       "      <td>3829</td>\n",
       "      <td>3829</td>\n",
       "      <td>3829</td>\n",
       "    </tr>\n",
       "  </tbody>\n",
       "</table>\n",
       "</div>"
      ],
      "text/plain": [
       "             children  days_employed  dob_years  education  education_id  \\\n",
       "income_type                                                                \n",
       "безработный         2              2          2          2             2   \n",
       "пенсионер        3829           3829       3829       3829          3829   \n",
       "\n",
       "             family_status  family_status_id  gender  debt  total_income  \\\n",
       "income_type                                                                \n",
       "безработный              2                 2       2     2             2   \n",
       "пенсионер             3829              3829    3829  3829          3829   \n",
       "\n",
       "             purpose  years_employed  diff_dob_employed  \n",
       "income_type                                              \n",
       "безработный        2               2                  2  \n",
       "пенсионер       3829            3829               3829  "
      ]
     },
     "execution_count": 89,
     "metadata": {},
     "output_type": "execute_result"
    }
   ],
   "source": [
    "df[df['diff_dob_employed'] < 0].groupby('income_type').count()"
   ]
  },
  {
   "cell_type": "code",
   "execution_count": 90,
   "metadata": {
    "colab": {
     "base_uri": "https://localhost:8080/"
    },
    "id": "yN_8qwirluCe",
    "outputId": "3570a895-d4a4-4472-c952-8790efa7d476"
   },
   "outputs": [
    {
     "data": {
      "text/plain": [
       "3829"
      ]
     },
     "execution_count": 90,
     "metadata": {},
     "output_type": "execute_result"
    }
   ],
   "source": [
    "df.loc[df['income_type'] == 'пенсионер', 'income_type'].count()"
   ]
  },
  {
   "cell_type": "code",
   "execution_count": 91,
   "metadata": {
    "colab": {
     "base_uri": "https://localhost:8080/"
    },
    "id": "MrOQQoX7mYdQ",
    "outputId": "02db45e6-ca10-4e2c-d838-f0888a645dcb"
   },
   "outputs": [
    {
     "data": {
      "text/plain": [
       "2"
      ]
     },
     "execution_count": 91,
     "metadata": {},
     "output_type": "execute_result"
    }
   ],
   "source": [
    "df.loc[df['income_type'] == 'безработный', 'income_type'].count()"
   ]
  },
  {
   "cell_type": "markdown",
   "metadata": {
    "id": "RzVOHu2qmb5x"
   },
   "source": [
    "Видим, что такие значения только у безработных и пенсионеров.\n",
    "Проверим гипотезу, что вместо дней внесли данные в часах.\n",
    "Для этого напишем функцию:\n",
    "* Берет строку из датасета;\n",
    "* Если это пенсионер или безработный, то возвращает значение из `years_employed`, деленное на 24;\n",
    "* В остальных случаях возвращает значение из `years_employed`"
   ]
  },
  {
   "cell_type": "code",
   "execution_count": 92,
   "metadata": {
    "id": "oAO_qcTwoi7C"
   },
   "outputs": [],
   "source": [
    "def divide_years_employed(row):\n",
    "    if row['diff_dob_employed'] < 0:\n",
    "        return row['years_employed'] / 24\n",
    "    return row['years_employed']"
   ]
  },
  {
   "cell_type": "code",
   "execution_count": 93,
   "metadata": {
    "colab": {
     "base_uri": "https://localhost:8080/"
    },
    "id": "0CNvTdd5nEgK",
    "outputId": "ce6db2c1-87ca-49ad-99e2-9fed1906ebdf"
   },
   "outputs": [
    {
     "name": "stderr",
     "output_type": "stream",
     "text": [
      "/opt/conda/lib/python3.7/site-packages/ipykernel_launcher.py:1: SettingWithCopyWarning: \n",
      "A value is trying to be set on a copy of a slice from a DataFrame.\n",
      "Try using .loc[row_indexer,col_indexer] = value instead\n",
      "\n",
      "See the caveats in the documentation: http://pandas.pydata.org/pandas-docs/stable/user_guide/indexing.html#returning-a-view-versus-a-copy\n",
      "  \"\"\"Entry point for launching an IPython kernel.\n"
     ]
    }
   ],
   "source": [
    "df['years_employed_after_correct'] = df.apply(divide_years_employed, axis=1)"
   ]
  },
  {
   "cell_type": "code",
   "execution_count": 94,
   "metadata": {
    "colab": {
     "base_uri": "https://localhost:8080/",
     "height": 626
    },
    "id": "q1a8JLi1p4OJ",
    "outputId": "d13ece69-9579-4aed-bdf4-749e2e9f0f55"
   },
   "outputs": [
    {
     "data": {
      "text/html": [
       "<div>\n",
       "<style scoped>\n",
       "    .dataframe tbody tr th:only-of-type {\n",
       "        vertical-align: middle;\n",
       "    }\n",
       "\n",
       "    .dataframe tbody tr th {\n",
       "        vertical-align: top;\n",
       "    }\n",
       "\n",
       "    .dataframe thead th {\n",
       "        text-align: right;\n",
       "    }\n",
       "</style>\n",
       "<table border=\"1\" class=\"dataframe\">\n",
       "  <thead>\n",
       "    <tr style=\"text-align: right;\">\n",
       "      <th></th>\n",
       "      <th>children</th>\n",
       "      <th>days_employed</th>\n",
       "      <th>dob_years</th>\n",
       "      <th>education</th>\n",
       "      <th>education_id</th>\n",
       "      <th>family_status</th>\n",
       "      <th>family_status_id</th>\n",
       "      <th>gender</th>\n",
       "      <th>income_type</th>\n",
       "      <th>debt</th>\n",
       "      <th>total_income</th>\n",
       "      <th>purpose</th>\n",
       "      <th>years_employed</th>\n",
       "      <th>diff_dob_employed</th>\n",
       "      <th>years_employed_after_correct</th>\n",
       "    </tr>\n",
       "  </thead>\n",
       "  <tbody>\n",
       "    <tr>\n",
       "      <td>0</td>\n",
       "      <td>1</td>\n",
       "      <td>8437</td>\n",
       "      <td>42</td>\n",
       "      <td>высшее</td>\n",
       "      <td>0</td>\n",
       "      <td>женат / замужем</td>\n",
       "      <td>0</td>\n",
       "      <td>F</td>\n",
       "      <td>сотрудник</td>\n",
       "      <td>0</td>\n",
       "      <td>253875</td>\n",
       "      <td>покупка жилья</td>\n",
       "      <td>23.12</td>\n",
       "      <td>18.88</td>\n",
       "      <td>23.12</td>\n",
       "    </tr>\n",
       "    <tr>\n",
       "      <td>1</td>\n",
       "      <td>1</td>\n",
       "      <td>4024</td>\n",
       "      <td>36</td>\n",
       "      <td>среднее</td>\n",
       "      <td>1</td>\n",
       "      <td>женат / замужем</td>\n",
       "      <td>0</td>\n",
       "      <td>F</td>\n",
       "      <td>сотрудник</td>\n",
       "      <td>0</td>\n",
       "      <td>112080</td>\n",
       "      <td>приобретение автомобиля</td>\n",
       "      <td>11.02</td>\n",
       "      <td>24.98</td>\n",
       "      <td>11.02</td>\n",
       "    </tr>\n",
       "    <tr>\n",
       "      <td>2</td>\n",
       "      <td>0</td>\n",
       "      <td>5623</td>\n",
       "      <td>33</td>\n",
       "      <td>среднее</td>\n",
       "      <td>1</td>\n",
       "      <td>женат / замужем</td>\n",
       "      <td>0</td>\n",
       "      <td>M</td>\n",
       "      <td>сотрудник</td>\n",
       "      <td>0</td>\n",
       "      <td>145885</td>\n",
       "      <td>покупка жилья</td>\n",
       "      <td>15.41</td>\n",
       "      <td>17.59</td>\n",
       "      <td>15.41</td>\n",
       "    </tr>\n",
       "    <tr>\n",
       "      <td>3</td>\n",
       "      <td>3</td>\n",
       "      <td>4124</td>\n",
       "      <td>32</td>\n",
       "      <td>среднее</td>\n",
       "      <td>1</td>\n",
       "      <td>женат / замужем</td>\n",
       "      <td>0</td>\n",
       "      <td>M</td>\n",
       "      <td>сотрудник</td>\n",
       "      <td>0</td>\n",
       "      <td>267628</td>\n",
       "      <td>дополнительное образование</td>\n",
       "      <td>11.30</td>\n",
       "      <td>20.70</td>\n",
       "      <td>11.30</td>\n",
       "    </tr>\n",
       "    <tr>\n",
       "      <td>4</td>\n",
       "      <td>0</td>\n",
       "      <td>340266</td>\n",
       "      <td>53</td>\n",
       "      <td>среднее</td>\n",
       "      <td>1</td>\n",
       "      <td>гражданский брак</td>\n",
       "      <td>1</td>\n",
       "      <td>F</td>\n",
       "      <td>пенсионер</td>\n",
       "      <td>0</td>\n",
       "      <td>158616</td>\n",
       "      <td>сыграть свадьбу</td>\n",
       "      <td>932.24</td>\n",
       "      <td>-879.24</td>\n",
       "      <td>38.84</td>\n",
       "    </tr>\n",
       "    <tr>\n",
       "      <td>...</td>\n",
       "      <td>...</td>\n",
       "      <td>...</td>\n",
       "      <td>...</td>\n",
       "      <td>...</td>\n",
       "      <td>...</td>\n",
       "      <td>...</td>\n",
       "      <td>...</td>\n",
       "      <td>...</td>\n",
       "      <td>...</td>\n",
       "      <td>...</td>\n",
       "      <td>...</td>\n",
       "      <td>...</td>\n",
       "      <td>...</td>\n",
       "      <td>...</td>\n",
       "      <td>...</td>\n",
       "    </tr>\n",
       "    <tr>\n",
       "      <td>21447</td>\n",
       "      <td>1</td>\n",
       "      <td>4529</td>\n",
       "      <td>43</td>\n",
       "      <td>среднее</td>\n",
       "      <td>1</td>\n",
       "      <td>гражданский брак</td>\n",
       "      <td>1</td>\n",
       "      <td>F</td>\n",
       "      <td>компаньон</td>\n",
       "      <td>0</td>\n",
       "      <td>224791</td>\n",
       "      <td>операции с жильем</td>\n",
       "      <td>12.41</td>\n",
       "      <td>30.59</td>\n",
       "      <td>12.41</td>\n",
       "    </tr>\n",
       "    <tr>\n",
       "      <td>21448</td>\n",
       "      <td>0</td>\n",
       "      <td>343937</td>\n",
       "      <td>67</td>\n",
       "      <td>среднее</td>\n",
       "      <td>1</td>\n",
       "      <td>женат / замужем</td>\n",
       "      <td>0</td>\n",
       "      <td>F</td>\n",
       "      <td>пенсионер</td>\n",
       "      <td>0</td>\n",
       "      <td>155999</td>\n",
       "      <td>сделка с автомобилем</td>\n",
       "      <td>942.29</td>\n",
       "      <td>-875.29</td>\n",
       "      <td>39.26</td>\n",
       "    </tr>\n",
       "    <tr>\n",
       "      <td>21449</td>\n",
       "      <td>1</td>\n",
       "      <td>2113</td>\n",
       "      <td>38</td>\n",
       "      <td>среднее</td>\n",
       "      <td>1</td>\n",
       "      <td>гражданский брак</td>\n",
       "      <td>1</td>\n",
       "      <td>M</td>\n",
       "      <td>сотрудник</td>\n",
       "      <td>1</td>\n",
       "      <td>89672</td>\n",
       "      <td>недвижимость</td>\n",
       "      <td>5.79</td>\n",
       "      <td>32.21</td>\n",
       "      <td>5.79</td>\n",
       "    </tr>\n",
       "    <tr>\n",
       "      <td>21450</td>\n",
       "      <td>3</td>\n",
       "      <td>3112</td>\n",
       "      <td>38</td>\n",
       "      <td>среднее</td>\n",
       "      <td>1</td>\n",
       "      <td>женат / замужем</td>\n",
       "      <td>0</td>\n",
       "      <td>M</td>\n",
       "      <td>сотрудник</td>\n",
       "      <td>1</td>\n",
       "      <td>244093</td>\n",
       "      <td>на покупку своего автомобиля</td>\n",
       "      <td>8.53</td>\n",
       "      <td>29.47</td>\n",
       "      <td>8.53</td>\n",
       "    </tr>\n",
       "    <tr>\n",
       "      <td>21451</td>\n",
       "      <td>2</td>\n",
       "      <td>1984</td>\n",
       "      <td>40</td>\n",
       "      <td>среднее</td>\n",
       "      <td>1</td>\n",
       "      <td>женат / замужем</td>\n",
       "      <td>0</td>\n",
       "      <td>F</td>\n",
       "      <td>сотрудник</td>\n",
       "      <td>0</td>\n",
       "      <td>82047</td>\n",
       "      <td>на покупку автомобиля</td>\n",
       "      <td>5.44</td>\n",
       "      <td>34.56</td>\n",
       "      <td>5.44</td>\n",
       "    </tr>\n",
       "  </tbody>\n",
       "</table>\n",
       "<p>21452 rows × 15 columns</p>\n",
       "</div>"
      ],
      "text/plain": [
       "       children  days_employed  dob_years education  education_id  \\\n",
       "0             1           8437         42    высшее             0   \n",
       "1             1           4024         36   среднее             1   \n",
       "2             0           5623         33   среднее             1   \n",
       "3             3           4124         32   среднее             1   \n",
       "4             0         340266         53   среднее             1   \n",
       "...         ...            ...        ...       ...           ...   \n",
       "21447         1           4529         43   среднее             1   \n",
       "21448         0         343937         67   среднее             1   \n",
       "21449         1           2113         38   среднее             1   \n",
       "21450         3           3112         38   среднее             1   \n",
       "21451         2           1984         40   среднее             1   \n",
       "\n",
       "          family_status  family_status_id gender income_type  debt  \\\n",
       "0       женат / замужем                 0      F   сотрудник     0   \n",
       "1       женат / замужем                 0      F   сотрудник     0   \n",
       "2       женат / замужем                 0      M   сотрудник     0   \n",
       "3       женат / замужем                 0      M   сотрудник     0   \n",
       "4      гражданский брак                 1      F   пенсионер     0   \n",
       "...                 ...               ...    ...         ...   ...   \n",
       "21447  гражданский брак                 1      F   компаньон     0   \n",
       "21448   женат / замужем                 0      F   пенсионер     0   \n",
       "21449  гражданский брак                 1      M   сотрудник     1   \n",
       "21450   женат / замужем                 0      M   сотрудник     1   \n",
       "21451   женат / замужем                 0      F   сотрудник     0   \n",
       "\n",
       "       total_income                       purpose  years_employed  \\\n",
       "0            253875                 покупка жилья           23.12   \n",
       "1            112080       приобретение автомобиля           11.02   \n",
       "2            145885                 покупка жилья           15.41   \n",
       "3            267628    дополнительное образование           11.30   \n",
       "4            158616               сыграть свадьбу          932.24   \n",
       "...             ...                           ...             ...   \n",
       "21447        224791             операции с жильем           12.41   \n",
       "21448        155999          сделка с автомобилем          942.29   \n",
       "21449         89672                  недвижимость            5.79   \n",
       "21450        244093  на покупку своего автомобиля            8.53   \n",
       "21451         82047         на покупку автомобиля            5.44   \n",
       "\n",
       "       diff_dob_employed  years_employed_after_correct  \n",
       "0                  18.88                         23.12  \n",
       "1                  24.98                         11.02  \n",
       "2                  17.59                         15.41  \n",
       "3                  20.70                         11.30  \n",
       "4                -879.24                         38.84  \n",
       "...                  ...                           ...  \n",
       "21447              30.59                         12.41  \n",
       "21448            -875.29                         39.26  \n",
       "21449              32.21                          5.79  \n",
       "21450              29.47                          8.53  \n",
       "21451              34.56                          5.44  \n",
       "\n",
       "[21452 rows x 15 columns]"
      ]
     },
     "execution_count": 94,
     "metadata": {},
     "output_type": "execute_result"
    }
   ],
   "source": [
    "df"
   ]
  },
  {
   "cell_type": "code",
   "execution_count": 95,
   "metadata": {
    "colab": {
     "base_uri": "https://localhost:8080/"
    },
    "id": "rI7IXtLrqVmT",
    "outputId": "66c7bb54-5f1d-436d-8a1f-843ec3591dbc"
   },
   "outputs": [
    {
     "data": {
      "text/plain": [
       "50.37808219178082"
      ]
     },
     "execution_count": 95,
     "metadata": {},
     "output_type": "execute_result"
    }
   ],
   "source": [
    "df['years_employed_after_correct'].max()"
   ]
  },
  {
   "cell_type": "markdown",
   "metadata": {
    "id": "s3eJi1iIqLeJ"
   },
   "source": [
    "Теперь перезапишем столбец `diff_dob_employed`"
   ]
  },
  {
   "cell_type": "code",
   "execution_count": 96,
   "metadata": {
    "colab": {
     "base_uri": "https://localhost:8080/"
    },
    "id": "McJCNGN2qRRx",
    "outputId": "75c537dd-e35a-4bcb-9ecd-c3d9b607522f"
   },
   "outputs": [
    {
     "name": "stderr",
     "output_type": "stream",
     "text": [
      "/opt/conda/lib/python3.7/site-packages/ipykernel_launcher.py:1: SettingWithCopyWarning: \n",
      "A value is trying to be set on a copy of a slice from a DataFrame.\n",
      "Try using .loc[row_indexer,col_indexer] = value instead\n",
      "\n",
      "See the caveats in the documentation: http://pandas.pydata.org/pandas-docs/stable/user_guide/indexing.html#returning-a-view-versus-a-copy\n",
      "  \"\"\"Entry point for launching an IPython kernel.\n"
     ]
    }
   ],
   "source": [
    "df['diff_dob_employed'] = df['dob_years'] - df['years_employed_after_correct']"
   ]
  },
  {
   "cell_type": "code",
   "execution_count": 97,
   "metadata": {
    "colab": {
     "base_uri": "https://localhost:8080/",
     "height": 626
    },
    "id": "TqZJ_Lmeqw91",
    "outputId": "43b802c9-63e9-48e4-80d6-2c1a22635f35"
   },
   "outputs": [
    {
     "data": {
      "text/html": [
       "<div>\n",
       "<style scoped>\n",
       "    .dataframe tbody tr th:only-of-type {\n",
       "        vertical-align: middle;\n",
       "    }\n",
       "\n",
       "    .dataframe tbody tr th {\n",
       "        vertical-align: top;\n",
       "    }\n",
       "\n",
       "    .dataframe thead th {\n",
       "        text-align: right;\n",
       "    }\n",
       "</style>\n",
       "<table border=\"1\" class=\"dataframe\">\n",
       "  <thead>\n",
       "    <tr style=\"text-align: right;\">\n",
       "      <th></th>\n",
       "      <th>children</th>\n",
       "      <th>days_employed</th>\n",
       "      <th>dob_years</th>\n",
       "      <th>education</th>\n",
       "      <th>education_id</th>\n",
       "      <th>family_status</th>\n",
       "      <th>family_status_id</th>\n",
       "      <th>gender</th>\n",
       "      <th>income_type</th>\n",
       "      <th>debt</th>\n",
       "      <th>total_income</th>\n",
       "      <th>purpose</th>\n",
       "      <th>years_employed</th>\n",
       "      <th>diff_dob_employed</th>\n",
       "      <th>years_employed_after_correct</th>\n",
       "    </tr>\n",
       "  </thead>\n",
       "  <tbody>\n",
       "    <tr>\n",
       "      <td>0</td>\n",
       "      <td>1</td>\n",
       "      <td>8437</td>\n",
       "      <td>42</td>\n",
       "      <td>высшее</td>\n",
       "      <td>0</td>\n",
       "      <td>женат / замужем</td>\n",
       "      <td>0</td>\n",
       "      <td>F</td>\n",
       "      <td>сотрудник</td>\n",
       "      <td>0</td>\n",
       "      <td>253875</td>\n",
       "      <td>покупка жилья</td>\n",
       "      <td>23.12</td>\n",
       "      <td>18.88</td>\n",
       "      <td>23.12</td>\n",
       "    </tr>\n",
       "    <tr>\n",
       "      <td>1</td>\n",
       "      <td>1</td>\n",
       "      <td>4024</td>\n",
       "      <td>36</td>\n",
       "      <td>среднее</td>\n",
       "      <td>1</td>\n",
       "      <td>женат / замужем</td>\n",
       "      <td>0</td>\n",
       "      <td>F</td>\n",
       "      <td>сотрудник</td>\n",
       "      <td>0</td>\n",
       "      <td>112080</td>\n",
       "      <td>приобретение автомобиля</td>\n",
       "      <td>11.02</td>\n",
       "      <td>24.98</td>\n",
       "      <td>11.02</td>\n",
       "    </tr>\n",
       "    <tr>\n",
       "      <td>2</td>\n",
       "      <td>0</td>\n",
       "      <td>5623</td>\n",
       "      <td>33</td>\n",
       "      <td>среднее</td>\n",
       "      <td>1</td>\n",
       "      <td>женат / замужем</td>\n",
       "      <td>0</td>\n",
       "      <td>M</td>\n",
       "      <td>сотрудник</td>\n",
       "      <td>0</td>\n",
       "      <td>145885</td>\n",
       "      <td>покупка жилья</td>\n",
       "      <td>15.41</td>\n",
       "      <td>17.59</td>\n",
       "      <td>15.41</td>\n",
       "    </tr>\n",
       "    <tr>\n",
       "      <td>3</td>\n",
       "      <td>3</td>\n",
       "      <td>4124</td>\n",
       "      <td>32</td>\n",
       "      <td>среднее</td>\n",
       "      <td>1</td>\n",
       "      <td>женат / замужем</td>\n",
       "      <td>0</td>\n",
       "      <td>M</td>\n",
       "      <td>сотрудник</td>\n",
       "      <td>0</td>\n",
       "      <td>267628</td>\n",
       "      <td>дополнительное образование</td>\n",
       "      <td>11.30</td>\n",
       "      <td>20.70</td>\n",
       "      <td>11.30</td>\n",
       "    </tr>\n",
       "    <tr>\n",
       "      <td>4</td>\n",
       "      <td>0</td>\n",
       "      <td>340266</td>\n",
       "      <td>53</td>\n",
       "      <td>среднее</td>\n",
       "      <td>1</td>\n",
       "      <td>гражданский брак</td>\n",
       "      <td>1</td>\n",
       "      <td>F</td>\n",
       "      <td>пенсионер</td>\n",
       "      <td>0</td>\n",
       "      <td>158616</td>\n",
       "      <td>сыграть свадьбу</td>\n",
       "      <td>932.24</td>\n",
       "      <td>14.16</td>\n",
       "      <td>38.84</td>\n",
       "    </tr>\n",
       "    <tr>\n",
       "      <td>...</td>\n",
       "      <td>...</td>\n",
       "      <td>...</td>\n",
       "      <td>...</td>\n",
       "      <td>...</td>\n",
       "      <td>...</td>\n",
       "      <td>...</td>\n",
       "      <td>...</td>\n",
       "      <td>...</td>\n",
       "      <td>...</td>\n",
       "      <td>...</td>\n",
       "      <td>...</td>\n",
       "      <td>...</td>\n",
       "      <td>...</td>\n",
       "      <td>...</td>\n",
       "      <td>...</td>\n",
       "    </tr>\n",
       "    <tr>\n",
       "      <td>21447</td>\n",
       "      <td>1</td>\n",
       "      <td>4529</td>\n",
       "      <td>43</td>\n",
       "      <td>среднее</td>\n",
       "      <td>1</td>\n",
       "      <td>гражданский брак</td>\n",
       "      <td>1</td>\n",
       "      <td>F</td>\n",
       "      <td>компаньон</td>\n",
       "      <td>0</td>\n",
       "      <td>224791</td>\n",
       "      <td>операции с жильем</td>\n",
       "      <td>12.41</td>\n",
       "      <td>30.59</td>\n",
       "      <td>12.41</td>\n",
       "    </tr>\n",
       "    <tr>\n",
       "      <td>21448</td>\n",
       "      <td>0</td>\n",
       "      <td>343937</td>\n",
       "      <td>67</td>\n",
       "      <td>среднее</td>\n",
       "      <td>1</td>\n",
       "      <td>женат / замужем</td>\n",
       "      <td>0</td>\n",
       "      <td>F</td>\n",
       "      <td>пенсионер</td>\n",
       "      <td>0</td>\n",
       "      <td>155999</td>\n",
       "      <td>сделка с автомобилем</td>\n",
       "      <td>942.29</td>\n",
       "      <td>27.74</td>\n",
       "      <td>39.26</td>\n",
       "    </tr>\n",
       "    <tr>\n",
       "      <td>21449</td>\n",
       "      <td>1</td>\n",
       "      <td>2113</td>\n",
       "      <td>38</td>\n",
       "      <td>среднее</td>\n",
       "      <td>1</td>\n",
       "      <td>гражданский брак</td>\n",
       "      <td>1</td>\n",
       "      <td>M</td>\n",
       "      <td>сотрудник</td>\n",
       "      <td>1</td>\n",
       "      <td>89672</td>\n",
       "      <td>недвижимость</td>\n",
       "      <td>5.79</td>\n",
       "      <td>32.21</td>\n",
       "      <td>5.79</td>\n",
       "    </tr>\n",
       "    <tr>\n",
       "      <td>21450</td>\n",
       "      <td>3</td>\n",
       "      <td>3112</td>\n",
       "      <td>38</td>\n",
       "      <td>среднее</td>\n",
       "      <td>1</td>\n",
       "      <td>женат / замужем</td>\n",
       "      <td>0</td>\n",
       "      <td>M</td>\n",
       "      <td>сотрудник</td>\n",
       "      <td>1</td>\n",
       "      <td>244093</td>\n",
       "      <td>на покупку своего автомобиля</td>\n",
       "      <td>8.53</td>\n",
       "      <td>29.47</td>\n",
       "      <td>8.53</td>\n",
       "    </tr>\n",
       "    <tr>\n",
       "      <td>21451</td>\n",
       "      <td>2</td>\n",
       "      <td>1984</td>\n",
       "      <td>40</td>\n",
       "      <td>среднее</td>\n",
       "      <td>1</td>\n",
       "      <td>женат / замужем</td>\n",
       "      <td>0</td>\n",
       "      <td>F</td>\n",
       "      <td>сотрудник</td>\n",
       "      <td>0</td>\n",
       "      <td>82047</td>\n",
       "      <td>на покупку автомобиля</td>\n",
       "      <td>5.44</td>\n",
       "      <td>34.56</td>\n",
       "      <td>5.44</td>\n",
       "    </tr>\n",
       "  </tbody>\n",
       "</table>\n",
       "<p>21452 rows × 15 columns</p>\n",
       "</div>"
      ],
      "text/plain": [
       "       children  days_employed  dob_years education  education_id  \\\n",
       "0             1           8437         42    высшее             0   \n",
       "1             1           4024         36   среднее             1   \n",
       "2             0           5623         33   среднее             1   \n",
       "3             3           4124         32   среднее             1   \n",
       "4             0         340266         53   среднее             1   \n",
       "...         ...            ...        ...       ...           ...   \n",
       "21447         1           4529         43   среднее             1   \n",
       "21448         0         343937         67   среднее             1   \n",
       "21449         1           2113         38   среднее             1   \n",
       "21450         3           3112         38   среднее             1   \n",
       "21451         2           1984         40   среднее             1   \n",
       "\n",
       "          family_status  family_status_id gender income_type  debt  \\\n",
       "0       женат / замужем                 0      F   сотрудник     0   \n",
       "1       женат / замужем                 0      F   сотрудник     0   \n",
       "2       женат / замужем                 0      M   сотрудник     0   \n",
       "3       женат / замужем                 0      M   сотрудник     0   \n",
       "4      гражданский брак                 1      F   пенсионер     0   \n",
       "...                 ...               ...    ...         ...   ...   \n",
       "21447  гражданский брак                 1      F   компаньон     0   \n",
       "21448   женат / замужем                 0      F   пенсионер     0   \n",
       "21449  гражданский брак                 1      M   сотрудник     1   \n",
       "21450   женат / замужем                 0      M   сотрудник     1   \n",
       "21451   женат / замужем                 0      F   сотрудник     0   \n",
       "\n",
       "       total_income                       purpose  years_employed  \\\n",
       "0            253875                 покупка жилья           23.12   \n",
       "1            112080       приобретение автомобиля           11.02   \n",
       "2            145885                 покупка жилья           15.41   \n",
       "3            267628    дополнительное образование           11.30   \n",
       "4            158616               сыграть свадьбу          932.24   \n",
       "...             ...                           ...             ...   \n",
       "21447        224791             операции с жильем           12.41   \n",
       "21448        155999          сделка с автомобилем          942.29   \n",
       "21449         89672                  недвижимость            5.79   \n",
       "21450        244093  на покупку своего автомобиля            8.53   \n",
       "21451         82047         на покупку автомобиля            5.44   \n",
       "\n",
       "       diff_dob_employed  years_employed_after_correct  \n",
       "0                  18.88                         23.12  \n",
       "1                  24.98                         11.02  \n",
       "2                  17.59                         15.41  \n",
       "3                  20.70                         11.30  \n",
       "4                  14.16                         38.84  \n",
       "...                  ...                           ...  \n",
       "21447              30.59                         12.41  \n",
       "21448              27.74                         39.26  \n",
       "21449              32.21                          5.79  \n",
       "21450              29.47                          8.53  \n",
       "21451              34.56                          5.44  \n",
       "\n",
       "[21452 rows x 15 columns]"
      ]
     },
     "execution_count": 97,
     "metadata": {},
     "output_type": "execute_result"
    }
   ],
   "source": [
    "df"
   ]
  },
  {
   "cell_type": "code",
   "execution_count": 98,
   "metadata": {
    "colab": {
     "base_uri": "https://localhost:8080/",
     "height": 297
    },
    "id": "WcF5zhAHq0j3",
    "outputId": "5ef2c665-b9cc-4fa2-f8f2-06605b68cad5"
   },
   "outputs": [
    {
     "data": {
      "text/html": [
       "<div>\n",
       "<style scoped>\n",
       "    .dataframe tbody tr th:only-of-type {\n",
       "        vertical-align: middle;\n",
       "    }\n",
       "\n",
       "    .dataframe tbody tr th {\n",
       "        vertical-align: top;\n",
       "    }\n",
       "\n",
       "    .dataframe thead th {\n",
       "        text-align: right;\n",
       "    }\n",
       "</style>\n",
       "<table border=\"1\" class=\"dataframe\">\n",
       "  <thead>\n",
       "    <tr style=\"text-align: right;\">\n",
       "      <th></th>\n",
       "      <th>income_type</th>\n",
       "      <th>count</th>\n",
       "      <th>mean</th>\n",
       "      <th>median</th>\n",
       "      <th>min</th>\n",
       "    </tr>\n",
       "  </thead>\n",
       "  <tbody>\n",
       "    <tr>\n",
       "      <td>0</td>\n",
       "      <td>безработный</td>\n",
       "      <td>2</td>\n",
       "      <td>-3.83</td>\n",
       "      <td>-3.83</td>\n",
       "      <td>-7.53</td>\n",
       "    </tr>\n",
       "    <tr>\n",
       "      <td>1</td>\n",
       "      <td>в декрете</td>\n",
       "      <td>1</td>\n",
       "      <td>29.97</td>\n",
       "      <td>29.97</td>\n",
       "      <td>29.97</td>\n",
       "    </tr>\n",
       "    <tr>\n",
       "      <td>2</td>\n",
       "      <td>госслужащий</td>\n",
       "      <td>1457</td>\n",
       "      <td>31.69</td>\n",
       "      <td>29.59</td>\n",
       "      <td>11.86</td>\n",
       "    </tr>\n",
       "    <tr>\n",
       "      <td>3</td>\n",
       "      <td>компаньон</td>\n",
       "      <td>5077</td>\n",
       "      <td>34.22</td>\n",
       "      <td>32.99</td>\n",
       "      <td>12.74</td>\n",
       "    </tr>\n",
       "    <tr>\n",
       "      <td>4</td>\n",
       "      <td>пенсионер</td>\n",
       "      <td>3829</td>\n",
       "      <td>17.69</td>\n",
       "      <td>17.99</td>\n",
       "      <td>-18.45</td>\n",
       "    </tr>\n",
       "    <tr>\n",
       "      <td>5</td>\n",
       "      <td>предприниматель</td>\n",
       "      <td>1</td>\n",
       "      <td>25.58</td>\n",
       "      <td>25.58</td>\n",
       "      <td>25.58</td>\n",
       "    </tr>\n",
       "    <tr>\n",
       "      <td>6</td>\n",
       "      <td>сотрудник</td>\n",
       "      <td>11084</td>\n",
       "      <td>33.83</td>\n",
       "      <td>32.59</td>\n",
       "      <td>10.62</td>\n",
       "    </tr>\n",
       "    <tr>\n",
       "      <td>7</td>\n",
       "      <td>студент</td>\n",
       "      <td>1</td>\n",
       "      <td>20.42</td>\n",
       "      <td>20.42</td>\n",
       "      <td>20.42</td>\n",
       "    </tr>\n",
       "  </tbody>\n",
       "</table>\n",
       "</div>"
      ],
      "text/plain": [
       "       income_type  count  mean  median    min\n",
       "0      безработный      2 -3.83   -3.83  -7.53\n",
       "1        в декрете      1 29.97   29.97  29.97\n",
       "2      госслужащий   1457 31.69   29.59  11.86\n",
       "3        компаньон   5077 34.22   32.99  12.74\n",
       "4        пенсионер   3829 17.69   17.99 -18.45\n",
       "5  предприниматель      1 25.58   25.58  25.58\n",
       "6        сотрудник  11084 33.83   32.59  10.62\n",
       "7          студент      1 20.42   20.42  20.42"
      ]
     },
     "execution_count": 98,
     "metadata": {},
     "output_type": "execute_result"
    }
   ],
   "source": [
    "df.groupby('income_type')['diff_dob_employed'].agg(['count', 'mean', 'median', 'min']).reset_index()"
   ]
  },
  {
   "cell_type": "code",
   "execution_count": 99,
   "metadata": {
    "colab": {
     "base_uri": "https://localhost:8080/",
     "height": 643
    },
    "id": "NaAp-eEQrhxw",
    "outputId": "9f3e1b8d-5ab8-4126-89be-8f0a7802c06e"
   },
   "outputs": [
    {
     "data": {
      "text/html": [
       "<div>\n",
       "<style scoped>\n",
       "    .dataframe tbody tr th:only-of-type {\n",
       "        vertical-align: middle;\n",
       "    }\n",
       "\n",
       "    .dataframe tbody tr th {\n",
       "        vertical-align: top;\n",
       "    }\n",
       "\n",
       "    .dataframe thead th {\n",
       "        text-align: right;\n",
       "    }\n",
       "</style>\n",
       "<table border=\"1\" class=\"dataframe\">\n",
       "  <thead>\n",
       "    <tr style=\"text-align: right;\">\n",
       "      <th></th>\n",
       "      <th>children</th>\n",
       "      <th>days_employed</th>\n",
       "      <th>dob_years</th>\n",
       "      <th>education</th>\n",
       "      <th>education_id</th>\n",
       "      <th>family_status</th>\n",
       "      <th>family_status_id</th>\n",
       "      <th>gender</th>\n",
       "      <th>income_type</th>\n",
       "      <th>debt</th>\n",
       "      <th>total_income</th>\n",
       "      <th>purpose</th>\n",
       "      <th>years_employed</th>\n",
       "      <th>diff_dob_employed</th>\n",
       "      <th>years_employed_after_correct</th>\n",
       "    </tr>\n",
       "  </thead>\n",
       "  <tbody>\n",
       "    <tr>\n",
       "      <td>157</td>\n",
       "      <td>0</td>\n",
       "      <td>348414</td>\n",
       "      <td>38</td>\n",
       "      <td>среднее</td>\n",
       "      <td>1</td>\n",
       "      <td>женат / замужем</td>\n",
       "      <td>0</td>\n",
       "      <td>F</td>\n",
       "      <td>пенсионер</td>\n",
       "      <td>1</td>\n",
       "      <td>113560</td>\n",
       "      <td>сделка с автомобилем</td>\n",
       "      <td>954.56</td>\n",
       "      <td>-1.77</td>\n",
       "      <td>39.77</td>\n",
       "    </tr>\n",
       "    <tr>\n",
       "      <td>751</td>\n",
       "      <td>0</td>\n",
       "      <td>390755</td>\n",
       "      <td>41</td>\n",
       "      <td>среднее</td>\n",
       "      <td>1</td>\n",
       "      <td>женат / замужем</td>\n",
       "      <td>0</td>\n",
       "      <td>M</td>\n",
       "      <td>пенсионер</td>\n",
       "      <td>0</td>\n",
       "      <td>151898</td>\n",
       "      <td>операции со своей недвижимостью</td>\n",
       "      <td>1,070.56</td>\n",
       "      <td>-3.61</td>\n",
       "      <td>44.61</td>\n",
       "    </tr>\n",
       "    <tr>\n",
       "      <td>776</td>\n",
       "      <td>0</td>\n",
       "      <td>365336</td>\n",
       "      <td>38</td>\n",
       "      <td>среднее</td>\n",
       "      <td>1</td>\n",
       "      <td>женат / замужем</td>\n",
       "      <td>0</td>\n",
       "      <td>F</td>\n",
       "      <td>пенсионер</td>\n",
       "      <td>0</td>\n",
       "      <td>73859</td>\n",
       "      <td>покупка недвижимости</td>\n",
       "      <td>1,000.92</td>\n",
       "      <td>-3.71</td>\n",
       "      <td>41.71</td>\n",
       "    </tr>\n",
       "    <tr>\n",
       "      <td>1242</td>\n",
       "      <td>0</td>\n",
       "      <td>334764</td>\n",
       "      <td>22</td>\n",
       "      <td>среднее</td>\n",
       "      <td>1</td>\n",
       "      <td>Не женат / не замужем</td>\n",
       "      <td>4</td>\n",
       "      <td>F</td>\n",
       "      <td>пенсионер</td>\n",
       "      <td>0</td>\n",
       "      <td>89368</td>\n",
       "      <td>получение высшего образования</td>\n",
       "      <td>917.16</td>\n",
       "      <td>-16.22</td>\n",
       "      <td>38.22</td>\n",
       "    </tr>\n",
       "    <tr>\n",
       "      <td>1383</td>\n",
       "      <td>0</td>\n",
       "      <td>353802</td>\n",
       "      <td>37</td>\n",
       "      <td>среднее</td>\n",
       "      <td>1</td>\n",
       "      <td>вдовец / вдова</td>\n",
       "      <td>2</td>\n",
       "      <td>F</td>\n",
       "      <td>пенсионер</td>\n",
       "      <td>0</td>\n",
       "      <td>216452</td>\n",
       "      <td>строительство недвижимости</td>\n",
       "      <td>969.32</td>\n",
       "      <td>-3.39</td>\n",
       "      <td>40.39</td>\n",
       "    </tr>\n",
       "    <tr>\n",
       "      <td>...</td>\n",
       "      <td>...</td>\n",
       "      <td>...</td>\n",
       "      <td>...</td>\n",
       "      <td>...</td>\n",
       "      <td>...</td>\n",
       "      <td>...</td>\n",
       "      <td>...</td>\n",
       "      <td>...</td>\n",
       "      <td>...</td>\n",
       "      <td>...</td>\n",
       "      <td>...</td>\n",
       "      <td>...</td>\n",
       "      <td>...</td>\n",
       "      <td>...</td>\n",
       "      <td>...</td>\n",
       "    </tr>\n",
       "    <tr>\n",
       "      <td>19380</td>\n",
       "      <td>0</td>\n",
       "      <td>389397</td>\n",
       "      <td>26</td>\n",
       "      <td>высшее</td>\n",
       "      <td>0</td>\n",
       "      <td>женат / замужем</td>\n",
       "      <td>0</td>\n",
       "      <td>F</td>\n",
       "      <td>пенсионер</td>\n",
       "      <td>0</td>\n",
       "      <td>214963</td>\n",
       "      <td>покупка недвижимости</td>\n",
       "      <td>1,066.84</td>\n",
       "      <td>-18.45</td>\n",
       "      <td>44.45</td>\n",
       "    </tr>\n",
       "    <tr>\n",
       "      <td>19547</td>\n",
       "      <td>0</td>\n",
       "      <td>366182</td>\n",
       "      <td>41</td>\n",
       "      <td>среднее</td>\n",
       "      <td>1</td>\n",
       "      <td>гражданский брак</td>\n",
       "      <td>1</td>\n",
       "      <td>F</td>\n",
       "      <td>пенсионер</td>\n",
       "      <td>0</td>\n",
       "      <td>115807</td>\n",
       "      <td>свадьба</td>\n",
       "      <td>1,003.24</td>\n",
       "      <td>-0.80</td>\n",
       "      <td>41.80</td>\n",
       "    </tr>\n",
       "    <tr>\n",
       "      <td>20205</td>\n",
       "      <td>0</td>\n",
       "      <td>383832</td>\n",
       "      <td>37</td>\n",
       "      <td>высшее</td>\n",
       "      <td>0</td>\n",
       "      <td>женат / замужем</td>\n",
       "      <td>0</td>\n",
       "      <td>F</td>\n",
       "      <td>пенсионер</td>\n",
       "      <td>0</td>\n",
       "      <td>188236</td>\n",
       "      <td>на покупку автомобиля</td>\n",
       "      <td>1,051.59</td>\n",
       "      <td>-6.82</td>\n",
       "      <td>43.82</td>\n",
       "    </tr>\n",
       "    <tr>\n",
       "      <td>20493</td>\n",
       "      <td>0</td>\n",
       "      <td>333394</td>\n",
       "      <td>33</td>\n",
       "      <td>среднее</td>\n",
       "      <td>1</td>\n",
       "      <td>женат / замужем</td>\n",
       "      <td>0</td>\n",
       "      <td>M</td>\n",
       "      <td>пенсионер</td>\n",
       "      <td>0</td>\n",
       "      <td>163411</td>\n",
       "      <td>образование</td>\n",
       "      <td>913.41</td>\n",
       "      <td>-5.06</td>\n",
       "      <td>38.06</td>\n",
       "    </tr>\n",
       "    <tr>\n",
       "      <td>20760</td>\n",
       "      <td>1</td>\n",
       "      <td>398206</td>\n",
       "      <td>40</td>\n",
       "      <td>среднее</td>\n",
       "      <td>1</td>\n",
       "      <td>женат / замужем</td>\n",
       "      <td>0</td>\n",
       "      <td>F</td>\n",
       "      <td>пенсионер</td>\n",
       "      <td>0</td>\n",
       "      <td>39107</td>\n",
       "      <td>получение образования</td>\n",
       "      <td>1,090.98</td>\n",
       "      <td>-5.46</td>\n",
       "      <td>45.46</td>\n",
       "    </tr>\n",
       "  </tbody>\n",
       "</table>\n",
       "<p>62 rows × 15 columns</p>\n",
       "</div>"
      ],
      "text/plain": [
       "       children  days_employed  dob_years education  education_id  \\\n",
       "157           0         348414         38   среднее             1   \n",
       "751           0         390755         41   среднее             1   \n",
       "776           0         365336         38   среднее             1   \n",
       "1242          0         334764         22   среднее             1   \n",
       "1383          0         353802         37   среднее             1   \n",
       "...         ...            ...        ...       ...           ...   \n",
       "19380         0         389397         26    высшее             0   \n",
       "19547         0         366182         41   среднее             1   \n",
       "20205         0         383832         37    высшее             0   \n",
       "20493         0         333394         33   среднее             1   \n",
       "20760         1         398206         40   среднее             1   \n",
       "\n",
       "               family_status  family_status_id gender income_type  debt  \\\n",
       "157          женат / замужем                 0      F   пенсионер     1   \n",
       "751          женат / замужем                 0      M   пенсионер     0   \n",
       "776          женат / замужем                 0      F   пенсионер     0   \n",
       "1242   Не женат / не замужем                 4      F   пенсионер     0   \n",
       "1383          вдовец / вдова                 2      F   пенсионер     0   \n",
       "...                      ...               ...    ...         ...   ...   \n",
       "19380        женат / замужем                 0      F   пенсионер     0   \n",
       "19547       гражданский брак                 1      F   пенсионер     0   \n",
       "20205        женат / замужем                 0      F   пенсионер     0   \n",
       "20493        женат / замужем                 0      M   пенсионер     0   \n",
       "20760        женат / замужем                 0      F   пенсионер     0   \n",
       "\n",
       "       total_income                          purpose  years_employed  \\\n",
       "157          113560             сделка с автомобилем          954.56   \n",
       "751          151898  операции со своей недвижимостью        1,070.56   \n",
       "776           73859             покупка недвижимости        1,000.92   \n",
       "1242          89368    получение высшего образования          917.16   \n",
       "1383         216452       строительство недвижимости          969.32   \n",
       "...             ...                              ...             ...   \n",
       "19380        214963             покупка недвижимости        1,066.84   \n",
       "19547        115807                          свадьба        1,003.24   \n",
       "20205        188236            на покупку автомобиля        1,051.59   \n",
       "20493        163411                      образование          913.41   \n",
       "20760         39107            получение образования        1,090.98   \n",
       "\n",
       "       diff_dob_employed  years_employed_after_correct  \n",
       "157                -1.77                         39.77  \n",
       "751                -3.61                         44.61  \n",
       "776                -3.71                         41.71  \n",
       "1242              -16.22                         38.22  \n",
       "1383               -3.39                         40.39  \n",
       "...                  ...                           ...  \n",
       "19380             -18.45                         44.45  \n",
       "19547              -0.80                         41.80  \n",
       "20205              -6.82                         43.82  \n",
       "20493              -5.06                         38.06  \n",
       "20760              -5.46                         45.46  \n",
       "\n",
       "[62 rows x 15 columns]"
      ]
     },
     "execution_count": 99,
     "metadata": {},
     "output_type": "execute_result"
    }
   ],
   "source": [
    "df[df['diff_dob_employed'] < 0]"
   ]
  },
  {
   "cell_type": "markdown",
   "metadata": {
    "id": "G8QVHltnsSXA"
   },
   "source": [
    "Гипотеза не подтвердилась. В разнице все равно есть отрицательные значения."
   ]
  },
  {
   "cell_type": "code",
   "execution_count": 100,
   "metadata": {
    "colab": {
     "base_uri": "https://localhost:8080/"
    },
    "id": "vtAhY2rUsfU0",
    "outputId": "2b8e97fc-d04f-4a48-c9eb-b78042621753"
   },
   "outputs": [
    {
     "data": {
      "text/plain": [
       "45"
      ]
     },
     "execution_count": 100,
     "metadata": {},
     "output_type": "execute_result"
    }
   ],
   "source": [
    "df.loc[df['diff_dob_employed'] < 0, 'dob_years'].max()"
   ]
  },
  {
   "cell_type": "code",
   "execution_count": 101,
   "metadata": {
    "colab": {
     "base_uri": "https://localhost:8080/"
    },
    "id": "fCsNynGsswHE",
    "outputId": "c343bae0-d6c3-46b0-f13f-66417e0d2041"
   },
   "outputs": [
    {
     "data": {
      "text/plain": [
       "22"
      ]
     },
     "execution_count": 101,
     "metadata": {},
     "output_type": "execute_result"
    }
   ],
   "source": [
    "df.loc[df['diff_dob_employed'] < 0, 'dob_years'].min()"
   ]
  },
  {
   "cell_type": "markdown",
   "metadata": {
    "id": "3v7vc9EL05vq"
   },
   "source": [
    "Интересно, что эти значения только для группы \"пенсионеров\" с возрастом от 22 до 45 лет. Хотя пенсионный возраст в РФ для женщин начинается с 55 лет, а для мужчин с 60 лет. Скорее всего эти значения возрастов неверны и \"портят нам всю картину\"."
   ]
  },
  {
   "cell_type": "markdown",
   "metadata": {
    "id": "kWayRIIs2nrv"
   },
   "source": [
    "Заменим возраст пенсионеров на минимальный в соответствии с принятым в РФ по отдельности для мужчин и для женщин.\n",
    "Для этого напишем функцию."
   ]
  },
  {
   "cell_type": "code",
   "execution_count": 102,
   "metadata": {
    "id": "PMIIryOjDYFA"
   },
   "outputs": [],
   "source": [
    "def dob_years_pensioners_correct(row):\n",
    "  if ((row['dob_years'] < 55) and (row['income_type'] == 'пенсионер') and (row['gender'] == 'F')):\n",
    "    return 55\n",
    "  if ((row['dob_years'] < 60) and (row['income_type'] == 'пенсионер') and (row['gender'] == 'M')):\n",
    "    return 60\n",
    "  return row['dob_years']"
   ]
  },
  {
   "cell_type": "code",
   "execution_count": 103,
   "metadata": {
    "colab": {
     "base_uri": "https://localhost:8080/"
    },
    "id": "9WkPCFwYCVdz",
    "outputId": "e400f321-cdc1-4d26-b57d-4342e710529d",
    "scrolled": true
   },
   "outputs": [
    {
     "name": "stderr",
     "output_type": "stream",
     "text": [
      "/opt/conda/lib/python3.7/site-packages/ipykernel_launcher.py:1: SettingWithCopyWarning: \n",
      "A value is trying to be set on a copy of a slice from a DataFrame.\n",
      "Try using .loc[row_indexer,col_indexer] = value instead\n",
      "\n",
      "See the caveats in the documentation: http://pandas.pydata.org/pandas-docs/stable/user_guide/indexing.html#returning-a-view-versus-a-copy\n",
      "  \"\"\"Entry point for launching an IPython kernel.\n"
     ]
    }
   ],
   "source": [
    "df['dob_years_correct'] = df.apply(dob_years_pensioners_correct, axis=1)"
   ]
  },
  {
   "cell_type": "code",
   "execution_count": 104,
   "metadata": {
    "colab": {
     "base_uri": "https://localhost:8080/",
     "height": 643
    },
    "id": "0GXrY0CjFtOE",
    "outputId": "99540130-209d-43a8-f9f6-db37fefb117f"
   },
   "outputs": [
    {
     "data": {
      "text/html": [
       "<div>\n",
       "<style scoped>\n",
       "    .dataframe tbody tr th:only-of-type {\n",
       "        vertical-align: middle;\n",
       "    }\n",
       "\n",
       "    .dataframe tbody tr th {\n",
       "        vertical-align: top;\n",
       "    }\n",
       "\n",
       "    .dataframe thead th {\n",
       "        text-align: right;\n",
       "    }\n",
       "</style>\n",
       "<table border=\"1\" class=\"dataframe\">\n",
       "  <thead>\n",
       "    <tr style=\"text-align: right;\">\n",
       "      <th></th>\n",
       "      <th>children</th>\n",
       "      <th>days_employed</th>\n",
       "      <th>dob_years</th>\n",
       "      <th>education</th>\n",
       "      <th>education_id</th>\n",
       "      <th>family_status</th>\n",
       "      <th>family_status_id</th>\n",
       "      <th>gender</th>\n",
       "      <th>income_type</th>\n",
       "      <th>debt</th>\n",
       "      <th>total_income</th>\n",
       "      <th>purpose</th>\n",
       "      <th>years_employed</th>\n",
       "      <th>diff_dob_employed</th>\n",
       "      <th>years_employed_after_correct</th>\n",
       "      <th>dob_years_correct</th>\n",
       "    </tr>\n",
       "  </thead>\n",
       "  <tbody>\n",
       "    <tr>\n",
       "      <td>4</td>\n",
       "      <td>0</td>\n",
       "      <td>340266</td>\n",
       "      <td>53</td>\n",
       "      <td>среднее</td>\n",
       "      <td>1</td>\n",
       "      <td>гражданский брак</td>\n",
       "      <td>1</td>\n",
       "      <td>F</td>\n",
       "      <td>пенсионер</td>\n",
       "      <td>0</td>\n",
       "      <td>158616</td>\n",
       "      <td>сыграть свадьбу</td>\n",
       "      <td>932.24</td>\n",
       "      <td>14.16</td>\n",
       "      <td>38.84</td>\n",
       "      <td>55</td>\n",
       "    </tr>\n",
       "    <tr>\n",
       "      <td>12</td>\n",
       "      <td>0</td>\n",
       "      <td>361781</td>\n",
       "      <td>65</td>\n",
       "      <td>среднее</td>\n",
       "      <td>1</td>\n",
       "      <td>гражданский брак</td>\n",
       "      <td>1</td>\n",
       "      <td>M</td>\n",
       "      <td>пенсионер</td>\n",
       "      <td>0</td>\n",
       "      <td>130739</td>\n",
       "      <td>сыграть свадьбу</td>\n",
       "      <td>991.18</td>\n",
       "      <td>23.70</td>\n",
       "      <td>41.30</td>\n",
       "      <td>65</td>\n",
       "    </tr>\n",
       "    <tr>\n",
       "      <td>18</td>\n",
       "      <td>0</td>\n",
       "      <td>400281</td>\n",
       "      <td>53</td>\n",
       "      <td>среднее</td>\n",
       "      <td>1</td>\n",
       "      <td>вдовец / вдова</td>\n",
       "      <td>2</td>\n",
       "      <td>F</td>\n",
       "      <td>пенсионер</td>\n",
       "      <td>0</td>\n",
       "      <td>56823</td>\n",
       "      <td>на покупку подержанного автомобиля</td>\n",
       "      <td>1,096.66</td>\n",
       "      <td>7.31</td>\n",
       "      <td>45.69</td>\n",
       "      <td>55</td>\n",
       "    </tr>\n",
       "    <tr>\n",
       "      <td>24</td>\n",
       "      <td>1</td>\n",
       "      <td>338551</td>\n",
       "      <td>57</td>\n",
       "      <td>среднее</td>\n",
       "      <td>1</td>\n",
       "      <td>Не женат / не замужем</td>\n",
       "      <td>4</td>\n",
       "      <td>F</td>\n",
       "      <td>пенсионер</td>\n",
       "      <td>0</td>\n",
       "      <td>290547</td>\n",
       "      <td>операции с коммерческой недвижимостью</td>\n",
       "      <td>927.54</td>\n",
       "      <td>18.35</td>\n",
       "      <td>38.65</td>\n",
       "      <td>57</td>\n",
       "    </tr>\n",
       "    <tr>\n",
       "      <td>25</td>\n",
       "      <td>0</td>\n",
       "      <td>363548</td>\n",
       "      <td>67</td>\n",
       "      <td>среднее</td>\n",
       "      <td>1</td>\n",
       "      <td>женат / замужем</td>\n",
       "      <td>0</td>\n",
       "      <td>M</td>\n",
       "      <td>пенсионер</td>\n",
       "      <td>0</td>\n",
       "      <td>55112</td>\n",
       "      <td>покупка недвижимости</td>\n",
       "      <td>996.02</td>\n",
       "      <td>25.50</td>\n",
       "      <td>41.50</td>\n",
       "      <td>67</td>\n",
       "    </tr>\n",
       "    <tr>\n",
       "      <td>...</td>\n",
       "      <td>...</td>\n",
       "      <td>...</td>\n",
       "      <td>...</td>\n",
       "      <td>...</td>\n",
       "      <td>...</td>\n",
       "      <td>...</td>\n",
       "      <td>...</td>\n",
       "      <td>...</td>\n",
       "      <td>...</td>\n",
       "      <td>...</td>\n",
       "      <td>...</td>\n",
       "      <td>...</td>\n",
       "      <td>...</td>\n",
       "      <td>...</td>\n",
       "      <td>...</td>\n",
       "      <td>...</td>\n",
       "    </tr>\n",
       "    <tr>\n",
       "      <td>21432</td>\n",
       "      <td>0</td>\n",
       "      <td>338904</td>\n",
       "      <td>53</td>\n",
       "      <td>среднее</td>\n",
       "      <td>1</td>\n",
       "      <td>гражданский брак</td>\n",
       "      <td>1</td>\n",
       "      <td>M</td>\n",
       "      <td>пенсионер</td>\n",
       "      <td>0</td>\n",
       "      <td>75439</td>\n",
       "      <td>сыграть свадьбу</td>\n",
       "      <td>928.50</td>\n",
       "      <td>14.31</td>\n",
       "      <td>38.69</td>\n",
       "      <td>60</td>\n",
       "    </tr>\n",
       "    <tr>\n",
       "      <td>21435</td>\n",
       "      <td>0</td>\n",
       "      <td>386497</td>\n",
       "      <td>62</td>\n",
       "      <td>среднее</td>\n",
       "      <td>1</td>\n",
       "      <td>женат / замужем</td>\n",
       "      <td>0</td>\n",
       "      <td>M</td>\n",
       "      <td>пенсионер</td>\n",
       "      <td>0</td>\n",
       "      <td>72638</td>\n",
       "      <td>недвижимость</td>\n",
       "      <td>1,058.90</td>\n",
       "      <td>17.88</td>\n",
       "      <td>44.12</td>\n",
       "      <td>62</td>\n",
       "    </tr>\n",
       "    <tr>\n",
       "      <td>21436</td>\n",
       "      <td>0</td>\n",
       "      <td>362161</td>\n",
       "      <td>59</td>\n",
       "      <td>высшее</td>\n",
       "      <td>0</td>\n",
       "      <td>женат / замужем</td>\n",
       "      <td>0</td>\n",
       "      <td>M</td>\n",
       "      <td>пенсионер</td>\n",
       "      <td>0</td>\n",
       "      <td>73029</td>\n",
       "      <td>операции с недвижимостью</td>\n",
       "      <td>992.22</td>\n",
       "      <td>17.66</td>\n",
       "      <td>41.34</td>\n",
       "      <td>60</td>\n",
       "    </tr>\n",
       "    <tr>\n",
       "      <td>21445</td>\n",
       "      <td>0</td>\n",
       "      <td>373995</td>\n",
       "      <td>59</td>\n",
       "      <td>среднее</td>\n",
       "      <td>1</td>\n",
       "      <td>женат / замужем</td>\n",
       "      <td>0</td>\n",
       "      <td>F</td>\n",
       "      <td>пенсионер</td>\n",
       "      <td>0</td>\n",
       "      <td>153864</td>\n",
       "      <td>сделка с автомобилем</td>\n",
       "      <td>1,024.64</td>\n",
       "      <td>16.31</td>\n",
       "      <td>42.69</td>\n",
       "      <td>59</td>\n",
       "    </tr>\n",
       "    <tr>\n",
       "      <td>21448</td>\n",
       "      <td>0</td>\n",
       "      <td>343937</td>\n",
       "      <td>67</td>\n",
       "      <td>среднее</td>\n",
       "      <td>1</td>\n",
       "      <td>женат / замужем</td>\n",
       "      <td>0</td>\n",
       "      <td>F</td>\n",
       "      <td>пенсионер</td>\n",
       "      <td>0</td>\n",
       "      <td>155999</td>\n",
       "      <td>сделка с автомобилем</td>\n",
       "      <td>942.29</td>\n",
       "      <td>27.74</td>\n",
       "      <td>39.26</td>\n",
       "      <td>67</td>\n",
       "    </tr>\n",
       "  </tbody>\n",
       "</table>\n",
       "<p>3829 rows × 16 columns</p>\n",
       "</div>"
      ],
      "text/plain": [
       "       children  days_employed  dob_years education  education_id  \\\n",
       "4             0         340266         53   среднее             1   \n",
       "12            0         361781         65   среднее             1   \n",
       "18            0         400281         53   среднее             1   \n",
       "24            1         338551         57   среднее             1   \n",
       "25            0         363548         67   среднее             1   \n",
       "...         ...            ...        ...       ...           ...   \n",
       "21432         0         338904         53   среднее             1   \n",
       "21435         0         386497         62   среднее             1   \n",
       "21436         0         362161         59    высшее             0   \n",
       "21445         0         373995         59   среднее             1   \n",
       "21448         0         343937         67   среднее             1   \n",
       "\n",
       "               family_status  family_status_id gender income_type  debt  \\\n",
       "4           гражданский брак                 1      F   пенсионер     0   \n",
       "12          гражданский брак                 1      M   пенсионер     0   \n",
       "18            вдовец / вдова                 2      F   пенсионер     0   \n",
       "24     Не женат / не замужем                 4      F   пенсионер     0   \n",
       "25           женат / замужем                 0      M   пенсионер     0   \n",
       "...                      ...               ...    ...         ...   ...   \n",
       "21432       гражданский брак                 1      M   пенсионер     0   \n",
       "21435        женат / замужем                 0      M   пенсионер     0   \n",
       "21436        женат / замужем                 0      M   пенсионер     0   \n",
       "21445        женат / замужем                 0      F   пенсионер     0   \n",
       "21448        женат / замужем                 0      F   пенсионер     0   \n",
       "\n",
       "       total_income                                purpose  years_employed  \\\n",
       "4            158616                        сыграть свадьбу          932.24   \n",
       "12           130739                        сыграть свадьбу          991.18   \n",
       "18            56823     на покупку подержанного автомобиля        1,096.66   \n",
       "24           290547  операции с коммерческой недвижимостью          927.54   \n",
       "25            55112                   покупка недвижимости          996.02   \n",
       "...             ...                                    ...             ...   \n",
       "21432         75439                        сыграть свадьбу          928.50   \n",
       "21435         72638                           недвижимость        1,058.90   \n",
       "21436         73029               операции с недвижимостью          992.22   \n",
       "21445        153864                   сделка с автомобилем        1,024.64   \n",
       "21448        155999                   сделка с автомобилем          942.29   \n",
       "\n",
       "       diff_dob_employed  years_employed_after_correct  dob_years_correct  \n",
       "4                  14.16                         38.84                 55  \n",
       "12                 23.70                         41.30                 65  \n",
       "18                  7.31                         45.69                 55  \n",
       "24                 18.35                         38.65                 57  \n",
       "25                 25.50                         41.50                 67  \n",
       "...                  ...                           ...                ...  \n",
       "21432              14.31                         38.69                 60  \n",
       "21435              17.88                         44.12                 62  \n",
       "21436              17.66                         41.34                 60  \n",
       "21445              16.31                         42.69                 59  \n",
       "21448              27.74                         39.26                 67  \n",
       "\n",
       "[3829 rows x 16 columns]"
      ]
     },
     "execution_count": 104,
     "metadata": {},
     "output_type": "execute_result"
    }
   ],
   "source": [
    "df[df['income_type'] == 'пенсионер']"
   ]
  },
  {
   "cell_type": "code",
   "execution_count": 105,
   "metadata": {
    "colab": {
     "base_uri": "https://localhost:8080/",
     "height": 142
    },
    "id": "Thbd3QVCGBGj",
    "outputId": "0c385955-778d-4a8e-d793-aea265d5a05e"
   },
   "outputs": [
    {
     "data": {
      "text/html": [
       "<div>\n",
       "<style scoped>\n",
       "    .dataframe tbody tr th:only-of-type {\n",
       "        vertical-align: middle;\n",
       "    }\n",
       "\n",
       "    .dataframe tbody tr th {\n",
       "        vertical-align: top;\n",
       "    }\n",
       "\n",
       "    .dataframe thead th {\n",
       "        text-align: right;\n",
       "    }\n",
       "</style>\n",
       "<table border=\"1\" class=\"dataframe\">\n",
       "  <thead>\n",
       "    <tr style=\"text-align: right;\">\n",
       "      <th></th>\n",
       "      <th></th>\n",
       "      <th>count</th>\n",
       "      <th>mean</th>\n",
       "      <th>median</th>\n",
       "      <th>min</th>\n",
       "      <th>max</th>\n",
       "    </tr>\n",
       "    <tr>\n",
       "      <th>gender</th>\n",
       "      <th>income_type</th>\n",
       "      <th></th>\n",
       "      <th></th>\n",
       "      <th></th>\n",
       "      <th></th>\n",
       "      <th></th>\n",
       "    </tr>\n",
       "  </thead>\n",
       "  <tbody>\n",
       "    <tr>\n",
       "      <td>F</td>\n",
       "      <td>пенсионер</td>\n",
       "      <td>3132</td>\n",
       "      <td>60.22</td>\n",
       "      <td>60</td>\n",
       "      <td>55</td>\n",
       "      <td>74</td>\n",
       "    </tr>\n",
       "    <tr>\n",
       "      <td>M</td>\n",
       "      <td>пенсионер</td>\n",
       "      <td>697</td>\n",
       "      <td>62.40</td>\n",
       "      <td>60</td>\n",
       "      <td>60</td>\n",
       "      <td>74</td>\n",
       "    </tr>\n",
       "  </tbody>\n",
       "</table>\n",
       "</div>"
      ],
      "text/plain": [
       "                    count  mean  median  min  max\n",
       "gender income_type                               \n",
       "F      пенсионер     3132 60.22      60   55   74\n",
       "M      пенсионер      697 62.40      60   60   74"
      ]
     },
     "execution_count": 105,
     "metadata": {},
     "output_type": "execute_result"
    }
   ],
   "source": [
    "df[df['income_type'] == 'пенсионер'].groupby(['gender', 'income_type'])['dob_years_correct'].agg(['count', 'mean','median', 'min', 'max'])"
   ]
  },
  {
   "cell_type": "markdown",
   "metadata": {
    "id": "tQ_w2mNWGazL"
   },
   "source": [
    "Проверка суммм"
   ]
  },
  {
   "cell_type": "code",
   "execution_count": 106,
   "metadata": {
    "colab": {
     "base_uri": "https://localhost:8080/"
    },
    "id": "CKbbTH3yGc0D",
    "outputId": "c917f6a8-4b59-47fc-e7e2-cda29cf135ee"
   },
   "outputs": [
    {
     "data": {
      "text/plain": [
       "3829"
      ]
     },
     "execution_count": 106,
     "metadata": {},
     "output_type": "execute_result"
    }
   ],
   "source": [
    "df[df['income_type'] == 'пенсионер'].groupby(['gender', 'income_type'])['dob_years_correct'].count().sum()"
   ]
  },
  {
   "cell_type": "markdown",
   "metadata": {
    "id": "QVAfrD32G94T"
   },
   "source": [
    "Сумма строк по пенсионерам совпала с тем, что было до манипуляций.\n",
    "Теперь можно заново переписать столбец `diff_dob_employed`, но перед этим также необходимо поправить стаж у безработных"
   ]
  },
  {
   "cell_type": "code",
   "execution_count": 107,
   "metadata": {
    "colab": {
     "base_uri": "https://localhost:8080/",
     "height": 199
    },
    "id": "F8rk1A0RIfr_",
    "outputId": "6b263353-064e-4f9d-ea47-bd4eebebb168"
   },
   "outputs": [
    {
     "data": {
      "text/html": [
       "<div>\n",
       "<style scoped>\n",
       "    .dataframe tbody tr th:only-of-type {\n",
       "        vertical-align: middle;\n",
       "    }\n",
       "\n",
       "    .dataframe tbody tr th {\n",
       "        vertical-align: top;\n",
       "    }\n",
       "\n",
       "    .dataframe thead th {\n",
       "        text-align: right;\n",
       "    }\n",
       "</style>\n",
       "<table border=\"1\" class=\"dataframe\">\n",
       "  <thead>\n",
       "    <tr style=\"text-align: right;\">\n",
       "      <th></th>\n",
       "      <th>children</th>\n",
       "      <th>days_employed</th>\n",
       "      <th>dob_years</th>\n",
       "      <th>education</th>\n",
       "      <th>education_id</th>\n",
       "      <th>family_status</th>\n",
       "      <th>family_status_id</th>\n",
       "      <th>gender</th>\n",
       "      <th>income_type</th>\n",
       "      <th>debt</th>\n",
       "      <th>total_income</th>\n",
       "      <th>purpose</th>\n",
       "      <th>years_employed</th>\n",
       "      <th>diff_dob_employed</th>\n",
       "      <th>years_employed_after_correct</th>\n",
       "      <th>dob_years_correct</th>\n",
       "    </tr>\n",
       "  </thead>\n",
       "  <tbody>\n",
       "    <tr>\n",
       "      <td>3132</td>\n",
       "      <td>1</td>\n",
       "      <td>337524</td>\n",
       "      <td>31</td>\n",
       "      <td>среднее</td>\n",
       "      <td>1</td>\n",
       "      <td>женат / замужем</td>\n",
       "      <td>0</td>\n",
       "      <td>M</td>\n",
       "      <td>безработный</td>\n",
       "      <td>1</td>\n",
       "      <td>59956</td>\n",
       "      <td>покупка жилья для сдачи</td>\n",
       "      <td>924.72</td>\n",
       "      <td>-7.53</td>\n",
       "      <td>38.53</td>\n",
       "      <td>31</td>\n",
       "    </tr>\n",
       "    <tr>\n",
       "      <td>14765</td>\n",
       "      <td>0</td>\n",
       "      <td>395302</td>\n",
       "      <td>45</td>\n",
       "      <td>высшее</td>\n",
       "      <td>0</td>\n",
       "      <td>гражданский брак</td>\n",
       "      <td>1</td>\n",
       "      <td>F</td>\n",
       "      <td>безработный</td>\n",
       "      <td>0</td>\n",
       "      <td>202722</td>\n",
       "      <td>ремонт жилью</td>\n",
       "      <td>1,083.02</td>\n",
       "      <td>-0.13</td>\n",
       "      <td>45.13</td>\n",
       "      <td>45</td>\n",
       "    </tr>\n",
       "  </tbody>\n",
       "</table>\n",
       "</div>"
      ],
      "text/plain": [
       "       children  days_employed  dob_years education  education_id  \\\n",
       "3132          1         337524         31   среднее             1   \n",
       "14765         0         395302         45    высшее             0   \n",
       "\n",
       "          family_status  family_status_id gender  income_type  debt  \\\n",
       "3132    женат / замужем                 0      M  безработный     1   \n",
       "14765  гражданский брак                 1      F  безработный     0   \n",
       "\n",
       "       total_income                  purpose  years_employed  \\\n",
       "3132          59956  покупка жилья для сдачи          924.72   \n",
       "14765        202722             ремонт жилью        1,083.02   \n",
       "\n",
       "       diff_dob_employed  years_employed_after_correct  dob_years_correct  \n",
       "3132               -7.53                         38.53                 31  \n",
       "14765              -0.13                         45.13                 45  "
      ]
     },
     "execution_count": 107,
     "metadata": {},
     "output_type": "execute_result"
    }
   ],
   "source": [
    "df[df['income_type'] == 'безработный']"
   ]
  },
  {
   "cell_type": "markdown",
   "metadata": {
    "id": "VDedqMhHKMiT"
   },
   "source": [
    "так как таких значений всего 2. Заполним стаж по медианному значению, сгрппировав данные по полу, семейному положению, возрасту и образованию"
   ]
  },
  {
   "cell_type": "code",
   "execution_count": 108,
   "metadata": {
    "colab": {
     "base_uri": "https://localhost:8080/"
    },
    "id": "5MnMSdOwT-v1",
    "outputId": "f223076b-80a8-459f-959e-f55be7e36a35"
   },
   "outputs": [
    {
     "data": {
      "text/plain": [
       "count       82.00\n",
       "mean     5,728.06\n",
       "median   1,400.00\n",
       "Name: days_employed, dtype: float64"
      ]
     },
     "execution_count": 108,
     "metadata": {},
     "output_type": "execute_result"
    }
   ],
   "source": [
    "(\n",
    "    df.loc[\n",
    "           (df['gender'] == 'M') &\n",
    "           (df['dob_years'] == 31) &\n",
    "           (df['family_status_id'] == 0) &\n",
    "           (df['education_id'] == 1),\n",
    "           'days_employed'\n",
    "           ].agg(['count', 'mean', 'median'])\n",
    ")"
   ]
  },
  {
   "cell_type": "code",
   "execution_count": 109,
   "metadata": {
    "colab": {
     "base_uri": "https://localhost:8080/"
    },
    "id": "0OcHVateRx6p",
    "outputId": "d9017b3b-601a-4981-c51e-a7dbb09dd565"
   },
   "outputs": [
    {
     "name": "stderr",
     "output_type": "stream",
     "text": [
      "/opt/conda/lib/python3.7/site-packages/pandas/core/indexing.py:494: SettingWithCopyWarning: \n",
      "A value is trying to be set on a copy of a slice from a DataFrame.\n",
      "Try using .loc[row_indexer,col_indexer] = value instead\n",
      "\n",
      "See the caveats in the documentation: http://pandas.pydata.org/pandas-docs/stable/user_guide/indexing.html#returning-a-view-versus-a-copy\n",
      "  self.obj[item] = s\n"
     ]
    }
   ],
   "source": [
    "df.loc[3132, 'days_employed'] = 1400"
   ]
  },
  {
   "cell_type": "code",
   "execution_count": 110,
   "metadata": {
    "colab": {
     "base_uri": "https://localhost:8080/"
    },
    "id": "6AWb_ICd5iXb",
    "outputId": "c08952cd-6bdb-421e-e209-3ef4d7d770d0"
   },
   "outputs": [
    {
     "data": {
      "text/plain": [
       "1400"
      ]
     },
     "execution_count": 110,
     "metadata": {},
     "output_type": "execute_result"
    }
   ],
   "source": [
    "df.loc[3132, 'days_employed']"
   ]
  },
  {
   "cell_type": "code",
   "execution_count": 111,
   "metadata": {
    "colab": {
     "base_uri": "https://localhost:8080/"
    },
    "id": "96HYc4Od5kyF",
    "outputId": "c3c06b1c-6e6b-44d4-ca00-4ec5d99fb0ec"
   },
   "outputs": [
    {
     "data": {
      "text/plain": [
       "count        14.00\n",
       "mean     59,868.64\n",
       "median    4,115.00\n",
       "Name: days_employed, dtype: float64"
      ]
     },
     "execution_count": 111,
     "metadata": {},
     "output_type": "execute_result"
    }
   ],
   "source": [
    "(\n",
    "    df.loc[\n",
    "           (df['gender'] == 'F') &\n",
    "           (df['dob_years'] == 45) &\n",
    "           (df['family_status_id'] == 1) &\n",
    "           (df['education_id'] == 0),\n",
    "           'days_employed'\n",
    "           ].agg(['count', 'mean', 'median'])\n",
    ")"
   ]
  },
  {
   "cell_type": "code",
   "execution_count": 112,
   "metadata": {
    "colab": {
     "base_uri": "https://localhost:8080/"
    },
    "id": "862tpa4w5xZL",
    "outputId": "7727874c-72cc-4e54-de29-f9d3092ba76f"
   },
   "outputs": [],
   "source": [
    "df.loc[14765, 'days_employed'] = 4115"
   ]
  },
  {
   "cell_type": "code",
   "execution_count": 113,
   "metadata": {
    "colab": {
     "base_uri": "https://localhost:8080/"
    },
    "id": "YatMu3rg54y-",
    "outputId": "49ea0f5e-0529-46df-abeb-6e1ee889dc83"
   },
   "outputs": [
    {
     "data": {
      "text/plain": [
       "4115"
      ]
     },
     "execution_count": 113,
     "metadata": {},
     "output_type": "execute_result"
    }
   ],
   "source": [
    "df.loc[14765, 'days_employed']"
   ]
  },
  {
   "cell_type": "code",
   "execution_count": 114,
   "metadata": {
    "colab": {
     "base_uri": "https://localhost:8080/",
     "height": 199
    },
    "id": "yf9r_UNQ57Nh",
    "outputId": "adf46db1-e4d8-4dcd-ec19-f8cac9daf5f4"
   },
   "outputs": [
    {
     "data": {
      "text/html": [
       "<div>\n",
       "<style scoped>\n",
       "    .dataframe tbody tr th:only-of-type {\n",
       "        vertical-align: middle;\n",
       "    }\n",
       "\n",
       "    .dataframe tbody tr th {\n",
       "        vertical-align: top;\n",
       "    }\n",
       "\n",
       "    .dataframe thead th {\n",
       "        text-align: right;\n",
       "    }\n",
       "</style>\n",
       "<table border=\"1\" class=\"dataframe\">\n",
       "  <thead>\n",
       "    <tr style=\"text-align: right;\">\n",
       "      <th></th>\n",
       "      <th>children</th>\n",
       "      <th>days_employed</th>\n",
       "      <th>dob_years</th>\n",
       "      <th>education</th>\n",
       "      <th>education_id</th>\n",
       "      <th>family_status</th>\n",
       "      <th>family_status_id</th>\n",
       "      <th>gender</th>\n",
       "      <th>income_type</th>\n",
       "      <th>debt</th>\n",
       "      <th>total_income</th>\n",
       "      <th>purpose</th>\n",
       "      <th>years_employed</th>\n",
       "      <th>diff_dob_employed</th>\n",
       "      <th>years_employed_after_correct</th>\n",
       "      <th>dob_years_correct</th>\n",
       "    </tr>\n",
       "  </thead>\n",
       "  <tbody>\n",
       "    <tr>\n",
       "      <td>3132</td>\n",
       "      <td>1</td>\n",
       "      <td>1400</td>\n",
       "      <td>31</td>\n",
       "      <td>среднее</td>\n",
       "      <td>1</td>\n",
       "      <td>женат / замужем</td>\n",
       "      <td>0</td>\n",
       "      <td>M</td>\n",
       "      <td>безработный</td>\n",
       "      <td>1</td>\n",
       "      <td>59956</td>\n",
       "      <td>покупка жилья для сдачи</td>\n",
       "      <td>924.72</td>\n",
       "      <td>-7.53</td>\n",
       "      <td>38.53</td>\n",
       "      <td>31</td>\n",
       "    </tr>\n",
       "    <tr>\n",
       "      <td>14765</td>\n",
       "      <td>0</td>\n",
       "      <td>4115</td>\n",
       "      <td>45</td>\n",
       "      <td>высшее</td>\n",
       "      <td>0</td>\n",
       "      <td>гражданский брак</td>\n",
       "      <td>1</td>\n",
       "      <td>F</td>\n",
       "      <td>безработный</td>\n",
       "      <td>0</td>\n",
       "      <td>202722</td>\n",
       "      <td>ремонт жилью</td>\n",
       "      <td>1,083.02</td>\n",
       "      <td>-0.13</td>\n",
       "      <td>45.13</td>\n",
       "      <td>45</td>\n",
       "    </tr>\n",
       "  </tbody>\n",
       "</table>\n",
       "</div>"
      ],
      "text/plain": [
       "       children  days_employed  dob_years education  education_id  \\\n",
       "3132          1           1400         31   среднее             1   \n",
       "14765         0           4115         45    высшее             0   \n",
       "\n",
       "          family_status  family_status_id gender  income_type  debt  \\\n",
       "3132    женат / замужем                 0      M  безработный     1   \n",
       "14765  гражданский брак                 1      F  безработный     0   \n",
       "\n",
       "       total_income                  purpose  years_employed  \\\n",
       "3132          59956  покупка жилья для сдачи          924.72   \n",
       "14765        202722             ремонт жилью        1,083.02   \n",
       "\n",
       "       diff_dob_employed  years_employed_after_correct  dob_years_correct  \n",
       "3132               -7.53                         38.53                 31  \n",
       "14765              -0.13                         45.13                 45  "
      ]
     },
     "execution_count": 114,
     "metadata": {},
     "output_type": "execute_result"
    }
   ],
   "source": [
    "df[df['income_type'] == 'безработный']"
   ]
  },
  {
   "cell_type": "markdown",
   "metadata": {
    "id": "ZqEb5NBf6KeM"
   },
   "source": [
    "Стаж безработным поправили.\n",
    "Теперь можно проверить значения разницы стажа и лет."
   ]
  },
  {
   "cell_type": "code",
   "execution_count": 115,
   "metadata": {
    "colab": {
     "base_uri": "https://localhost:8080/"
    },
    "id": "XZdzd9xIHTJS",
    "outputId": "23881591-d73e-487c-c8a1-da66314f7f5f"
   },
   "outputs": [
    {
     "name": "stderr",
     "output_type": "stream",
     "text": [
      "/opt/conda/lib/python3.7/site-packages/ipykernel_launcher.py:1: SettingWithCopyWarning: \n",
      "A value is trying to be set on a copy of a slice from a DataFrame.\n",
      "Try using .loc[row_indexer,col_indexer] = value instead\n",
      "\n",
      "See the caveats in the documentation: http://pandas.pydata.org/pandas-docs/stable/user_guide/indexing.html#returning-a-view-versus-a-copy\n",
      "  \"\"\"Entry point for launching an IPython kernel.\n"
     ]
    }
   ],
   "source": [
    "df['diff_dob_employed'] = df['dob_years_correct'] - df['years_employed_after_correct']"
   ]
  },
  {
   "cell_type": "code",
   "execution_count": 116,
   "metadata": {
    "colab": {
     "base_uri": "https://localhost:8080/"
    },
    "id": "K_Xp_lhK6oKK",
    "outputId": "9c560fd0-f379-4c73-ed91-66b4cd52098e"
   },
   "outputs": [
    {
     "data": {
      "text/plain": [
       "9.158333333333331"
      ]
     },
     "execution_count": 116,
     "metadata": {},
     "output_type": "execute_result"
    }
   ],
   "source": [
    "df.loc[df['income_type'] == 'пенсионер' , 'diff_dob_employed'].min()"
   ]
  },
  {
   "cell_type": "markdown",
   "metadata": {
    "id": "BuhXBCiz63lT"
   },
   "source": [
    "Теперь все получилось, отрицательных значений нет. Перезапишем возраст"
   ]
  },
  {
   "cell_type": "code",
   "execution_count": 117,
   "metadata": {
    "colab": {
     "base_uri": "https://localhost:8080/"
    },
    "id": "rBGXLikC7JuW",
    "outputId": "52283250-5212-4461-a34e-8e8ba9a48dd6"
   },
   "outputs": [
    {
     "name": "stderr",
     "output_type": "stream",
     "text": [
      "/opt/conda/lib/python3.7/site-packages/ipykernel_launcher.py:1: SettingWithCopyWarning: \n",
      "A value is trying to be set on a copy of a slice from a DataFrame.\n",
      "Try using .loc[row_indexer,col_indexer] = value instead\n",
      "\n",
      "See the caveats in the documentation: http://pandas.pydata.org/pandas-docs/stable/user_guide/indexing.html#returning-a-view-versus-a-copy\n",
      "  \"\"\"Entry point for launching an IPython kernel.\n"
     ]
    }
   ],
   "source": [
    "df['dob_years'] = df['dob_years_correct']"
   ]
  },
  {
   "cell_type": "code",
   "execution_count": 118,
   "metadata": {
    "colab": {
     "base_uri": "https://localhost:8080/"
    },
    "id": "w5chR1DE7UQb",
    "outputId": "3815f9f7-1a44-4bbe-fe25-5a3379178012"
   },
   "outputs": [
    {
     "data": {
      "text/plain": [
       "count   21,452.00\n",
       "mean        43.70\n",
       "std         12.38\n",
       "min         19.00\n",
       "25%         34.00\n",
       "50%         43.00\n",
       "75%         55.00\n",
       "max         75.00\n",
       "Name: dob_years, dtype: float64"
      ]
     },
     "execution_count": 118,
     "metadata": {},
     "output_type": "execute_result"
    }
   ],
   "source": [
    "df['dob_years'].describe()"
   ]
  },
  {
   "cell_type": "code",
   "execution_count": 119,
   "metadata": {
    "colab": {
     "base_uri": "https://localhost:8080/"
    },
    "id": "PDKJjedQ7drp",
    "outputId": "ed029d85-e611-43c8-8b2e-6e74310b75cf"
   },
   "outputs": [
    {
     "data": {
      "text/plain": [
       "0"
      ]
     },
     "execution_count": 119,
     "metadata": {},
     "output_type": "execute_result"
    }
   ],
   "source": [
    "df['dob_years'].isna().sum()"
   ]
  },
  {
   "cell_type": "markdown",
   "metadata": {
    "id": "WxKAeCY67iSw"
   },
   "source": [
    "Теперь приведем стаж для пенсионеров к дням, поделив значения на 24."
   ]
  },
  {
   "cell_type": "code",
   "execution_count": 120,
   "metadata": {
    "id": "nVSERPRP8U6l"
   },
   "outputs": [],
   "source": [
    "def days_employed_change_pensioners(row):\n",
    "    if row['income_type'] == 'пенсионер':\n",
    "        return row['days_employed'] / 24\n",
    "    return row['days_employed']"
   ]
  },
  {
   "cell_type": "code",
   "execution_count": 121,
   "metadata": {
    "colab": {
     "base_uri": "https://localhost:8080/"
    },
    "id": "cYDQ-Bmk_zEf",
    "outputId": "1b99abeb-88e6-43c4-8a40-23f10a0fb1dd"
   },
   "outputs": [
    {
     "name": "stderr",
     "output_type": "stream",
     "text": [
      "/opt/conda/lib/python3.7/site-packages/ipykernel_launcher.py:1: SettingWithCopyWarning: \n",
      "A value is trying to be set on a copy of a slice from a DataFrame.\n",
      "Try using .loc[row_indexer,col_indexer] = value instead\n",
      "\n",
      "See the caveats in the documentation: http://pandas.pydata.org/pandas-docs/stable/user_guide/indexing.html#returning-a-view-versus-a-copy\n",
      "  \"\"\"Entry point for launching an IPython kernel.\n"
     ]
    }
   ],
   "source": [
    "df['days_employed_correct'] = df.apply(days_employed_change_pensioners, axis=1)"
   ]
  },
  {
   "cell_type": "code",
   "execution_count": 122,
   "metadata": {
    "id": "qTV0DuEJ7mIg"
   },
   "outputs": [],
   "source": [
    "t = df['dob_years'] - (df['days_employed_correct'] / 365)"
   ]
  },
  {
   "cell_type": "code",
   "execution_count": 123,
   "metadata": {
    "colab": {
     "base_uri": "https://localhost:8080/"
    },
    "id": "UDzeh5l98D5J",
    "outputId": "4cb60de4-e188-475f-8336-a33c361e53cb"
   },
   "outputs": [
    {
     "data": {
      "text/plain": [
       "count   21,452.00\n",
       "mean        31.12\n",
       "std         11.07\n",
       "min          9.16\n",
       "25%         22.45\n",
       "50%         29.53\n",
       "75%         38.84\n",
       "max         70.40\n",
       "dtype: float64"
      ]
     },
     "execution_count": 123,
     "metadata": {},
     "output_type": "execute_result"
    }
   ],
   "source": [
    "t.describe()"
   ]
  },
  {
   "cell_type": "markdown",
   "metadata": {
    "id": "190Od0Y-BDRv"
   },
   "source": [
    "Теперь видим, что нет отрицательных значений в разнице между возрастом и стажем.\n",
    "Значения стажа можно перезаписывать исправленными."
   ]
  },
  {
   "cell_type": "code",
   "execution_count": 124,
   "metadata": {
    "colab": {
     "base_uri": "https://localhost:8080/"
    },
    "id": "cn1ReeZBBW11",
    "outputId": "4d9ae7fe-345d-4c53-d80f-13641666f305"
   },
   "outputs": [
    {
     "name": "stderr",
     "output_type": "stream",
     "text": [
      "/opt/conda/lib/python3.7/site-packages/ipykernel_launcher.py:1: SettingWithCopyWarning: \n",
      "A value is trying to be set on a copy of a slice from a DataFrame.\n",
      "Try using .loc[row_indexer,col_indexer] = value instead\n",
      "\n",
      "See the caveats in the documentation: http://pandas.pydata.org/pandas-docs/stable/user_guide/indexing.html#returning-a-view-versus-a-copy\n",
      "  \"\"\"Entry point for launching an IPython kernel.\n"
     ]
    }
   ],
   "source": [
    "df['days_employed'] = df['days_employed_correct']"
   ]
  },
  {
   "cell_type": "code",
   "execution_count": 125,
   "metadata": {
    "id": "pMMmRYq-BiTj"
   },
   "outputs": [],
   "source": [
    "t = df['days_employed'] / 365"
   ]
  },
  {
   "cell_type": "code",
   "execution_count": 126,
   "metadata": {
    "colab": {
     "base_uri": "https://localhost:8080/"
    },
    "id": "LO2PuX0qBr2E",
    "outputId": "ea43a31c-9567-4465-e4a5-3aa70aaadda0"
   },
   "outputs": [
    {
     "data": {
      "text/plain": [
       "count   21,452.00\n",
       "mean        12.58\n",
       "std         14.65\n",
       "min          0.07\n",
       "25%          2.80\n",
       "50%          5.47\n",
       "75%         14.57\n",
       "max         50.38\n",
       "Name: days_employed, dtype: float64"
      ]
     },
     "execution_count": 126,
     "metadata": {},
     "output_type": "execute_result"
    }
   ],
   "source": [
    "t.describe()"
   ]
  },
  {
   "cell_type": "markdown",
   "metadata": {
    "id": "w70wTCBTB5c_"
   },
   "source": [
    "Все корректно, теперь можно удалить лишние столбцы"
   ]
  },
  {
   "cell_type": "code",
   "execution_count": 127,
   "metadata": {
    "colab": {
     "base_uri": "https://localhost:8080/"
    },
    "id": "ja2nOT2RCPtN",
    "outputId": "eb126509-1adb-441b-ccb3-5d7a95d8b466"
   },
   "outputs": [
    {
     "data": {
      "text/plain": [
       "Index(['children', 'days_employed', 'dob_years', 'education', 'education_id',\n",
       "       'family_status', 'family_status_id', 'gender', 'income_type', 'debt',\n",
       "       'total_income', 'purpose', 'years_employed', 'diff_dob_employed',\n",
       "       'years_employed_after_correct', 'dob_years_correct',\n",
       "       'days_employed_correct'],\n",
       "      dtype='object')"
      ]
     },
     "execution_count": 127,
     "metadata": {},
     "output_type": "execute_result"
    }
   ],
   "source": [
    "df.columns"
   ]
  },
  {
   "cell_type": "code",
   "execution_count": 128,
   "metadata": {
    "colab": {
     "base_uri": "https://localhost:8080/"
    },
    "id": "-KI-rB-aB9yR",
    "outputId": "00d222b6-6075-4eca-ad2f-1a6bae40086c"
   },
   "outputs": [
    {
     "name": "stderr",
     "output_type": "stream",
     "text": [
      "/opt/conda/lib/python3.7/site-packages/pandas/core/frame.py:4102: SettingWithCopyWarning: \n",
      "A value is trying to be set on a copy of a slice from a DataFrame\n",
      "\n",
      "See the caveats in the documentation: http://pandas.pydata.org/pandas-docs/stable/user_guide/indexing.html#returning-a-view-versus-a-copy\n",
      "  errors=errors,\n"
     ]
    }
   ],
   "source": [
    "df.drop(['years_employed', 'diff_dob_employed',\n",
    "       'years_employed_after_correct', 'dob_years_correct',\n",
    "       'days_employed_correct'], axis=1, inplace=True)"
   ]
  },
  {
   "cell_type": "code",
   "execution_count": 129,
   "metadata": {
    "colab": {
     "base_uri": "https://localhost:8080/",
     "height": 309
    },
    "id": "hlZGpnBKCiOk",
    "outputId": "8b0e9ac2-8833-46eb-c3b6-c58b10745190"
   },
   "outputs": [
    {
     "data": {
      "text/html": [
       "<div>\n",
       "<style scoped>\n",
       "    .dataframe tbody tr th:only-of-type {\n",
       "        vertical-align: middle;\n",
       "    }\n",
       "\n",
       "    .dataframe tbody tr th {\n",
       "        vertical-align: top;\n",
       "    }\n",
       "\n",
       "    .dataframe thead th {\n",
       "        text-align: right;\n",
       "    }\n",
       "</style>\n",
       "<table border=\"1\" class=\"dataframe\">\n",
       "  <thead>\n",
       "    <tr style=\"text-align: right;\">\n",
       "      <th></th>\n",
       "      <th>children</th>\n",
       "      <th>days_employed</th>\n",
       "      <th>dob_years</th>\n",
       "      <th>education</th>\n",
       "      <th>education_id</th>\n",
       "      <th>family_status</th>\n",
       "      <th>family_status_id</th>\n",
       "      <th>gender</th>\n",
       "      <th>income_type</th>\n",
       "      <th>debt</th>\n",
       "      <th>total_income</th>\n",
       "      <th>purpose</th>\n",
       "    </tr>\n",
       "  </thead>\n",
       "  <tbody>\n",
       "    <tr>\n",
       "      <td>0</td>\n",
       "      <td>1</td>\n",
       "      <td>8,437.00</td>\n",
       "      <td>42</td>\n",
       "      <td>высшее</td>\n",
       "      <td>0</td>\n",
       "      <td>женат / замужем</td>\n",
       "      <td>0</td>\n",
       "      <td>F</td>\n",
       "      <td>сотрудник</td>\n",
       "      <td>0</td>\n",
       "      <td>253875</td>\n",
       "      <td>покупка жилья</td>\n",
       "    </tr>\n",
       "    <tr>\n",
       "      <td>1</td>\n",
       "      <td>1</td>\n",
       "      <td>4,024.00</td>\n",
       "      <td>36</td>\n",
       "      <td>среднее</td>\n",
       "      <td>1</td>\n",
       "      <td>женат / замужем</td>\n",
       "      <td>0</td>\n",
       "      <td>F</td>\n",
       "      <td>сотрудник</td>\n",
       "      <td>0</td>\n",
       "      <td>112080</td>\n",
       "      <td>приобретение автомобиля</td>\n",
       "    </tr>\n",
       "    <tr>\n",
       "      <td>2</td>\n",
       "      <td>0</td>\n",
       "      <td>5,623.00</td>\n",
       "      <td>33</td>\n",
       "      <td>среднее</td>\n",
       "      <td>1</td>\n",
       "      <td>женат / замужем</td>\n",
       "      <td>0</td>\n",
       "      <td>M</td>\n",
       "      <td>сотрудник</td>\n",
       "      <td>0</td>\n",
       "      <td>145885</td>\n",
       "      <td>покупка жилья</td>\n",
       "    </tr>\n",
       "    <tr>\n",
       "      <td>3</td>\n",
       "      <td>3</td>\n",
       "      <td>4,124.00</td>\n",
       "      <td>32</td>\n",
       "      <td>среднее</td>\n",
       "      <td>1</td>\n",
       "      <td>женат / замужем</td>\n",
       "      <td>0</td>\n",
       "      <td>M</td>\n",
       "      <td>сотрудник</td>\n",
       "      <td>0</td>\n",
       "      <td>267628</td>\n",
       "      <td>дополнительное образование</td>\n",
       "    </tr>\n",
       "    <tr>\n",
       "      <td>4</td>\n",
       "      <td>0</td>\n",
       "      <td>14,177.75</td>\n",
       "      <td>55</td>\n",
       "      <td>среднее</td>\n",
       "      <td>1</td>\n",
       "      <td>гражданский брак</td>\n",
       "      <td>1</td>\n",
       "      <td>F</td>\n",
       "      <td>пенсионер</td>\n",
       "      <td>0</td>\n",
       "      <td>158616</td>\n",
       "      <td>сыграть свадьбу</td>\n",
       "    </tr>\n",
       "  </tbody>\n",
       "</table>\n",
       "</div>"
      ],
      "text/plain": [
       "   children  days_employed  dob_years education  education_id  \\\n",
       "0         1       8,437.00         42    высшее             0   \n",
       "1         1       4,024.00         36   среднее             1   \n",
       "2         0       5,623.00         33   среднее             1   \n",
       "3         3       4,124.00         32   среднее             1   \n",
       "4         0      14,177.75         55   среднее             1   \n",
       "\n",
       "      family_status  family_status_id gender income_type  debt  total_income  \\\n",
       "0   женат / замужем                 0      F   сотрудник     0        253875   \n",
       "1   женат / замужем                 0      F   сотрудник     0        112080   \n",
       "2   женат / замужем                 0      M   сотрудник     0        145885   \n",
       "3   женат / замужем                 0      M   сотрудник     0        267628   \n",
       "4  гражданский брак                 1      F   пенсионер     0        158616   \n",
       "\n",
       "                      purpose  \n",
       "0               покупка жилья  \n",
       "1     приобретение автомобиля  \n",
       "2               покупка жилья  \n",
       "3  дополнительное образование  \n",
       "4             сыграть свадьбу  "
      ]
     },
     "execution_count": 129,
     "metadata": {},
     "output_type": "execute_result"
    }
   ],
   "source": [
    "df.head()"
   ]
  },
  {
   "cell_type": "code",
   "execution_count": 130,
   "metadata": {
    "colab": {
     "base_uri": "https://localhost:8080/",
     "height": 297
    },
    "id": "Mr0jT47HCkP7",
    "outputId": "48b60b4d-6d24-4401-f5b7-bb2efcaf0f43"
   },
   "outputs": [
    {
     "data": {
      "text/html": [
       "<div>\n",
       "<style scoped>\n",
       "    .dataframe tbody tr th:only-of-type {\n",
       "        vertical-align: middle;\n",
       "    }\n",
       "\n",
       "    .dataframe tbody tr th {\n",
       "        vertical-align: top;\n",
       "    }\n",
       "\n",
       "    .dataframe thead th {\n",
       "        text-align: right;\n",
       "    }\n",
       "</style>\n",
       "<table border=\"1\" class=\"dataframe\">\n",
       "  <thead>\n",
       "    <tr style=\"text-align: right;\">\n",
       "      <th></th>\n",
       "      <th>children</th>\n",
       "      <th>days_employed</th>\n",
       "      <th>dob_years</th>\n",
       "      <th>education_id</th>\n",
       "      <th>family_status_id</th>\n",
       "      <th>debt</th>\n",
       "      <th>total_income</th>\n",
       "    </tr>\n",
       "  </thead>\n",
       "  <tbody>\n",
       "    <tr>\n",
       "      <td>count</td>\n",
       "      <td>21,452.00</td>\n",
       "      <td>21,452.00</td>\n",
       "      <td>21,452.00</td>\n",
       "      <td>21,452.00</td>\n",
       "      <td>21,452.00</td>\n",
       "      <td>21,452.00</td>\n",
       "      <td>21,452.00</td>\n",
       "    </tr>\n",
       "    <tr>\n",
       "      <td>mean</td>\n",
       "      <td>0.47</td>\n",
       "      <td>4,592.65</td>\n",
       "      <td>43.70</td>\n",
       "      <td>0.82</td>\n",
       "      <td>0.97</td>\n",
       "      <td>0.08</td>\n",
       "      <td>165,314.85</td>\n",
       "    </tr>\n",
       "    <tr>\n",
       "      <td>std</td>\n",
       "      <td>0.75</td>\n",
       "      <td>5,347.95</td>\n",
       "      <td>12.38</td>\n",
       "      <td>0.55</td>\n",
       "      <td>1.42</td>\n",
       "      <td>0.27</td>\n",
       "      <td>98,285.88</td>\n",
       "    </tr>\n",
       "    <tr>\n",
       "      <td>min</td>\n",
       "      <td>0.00</td>\n",
       "      <td>24.00</td>\n",
       "      <td>19.00</td>\n",
       "      <td>0.00</td>\n",
       "      <td>0.00</td>\n",
       "      <td>0.00</td>\n",
       "      <td>20,667.00</td>\n",
       "    </tr>\n",
       "    <tr>\n",
       "      <td>25%</td>\n",
       "      <td>0.00</td>\n",
       "      <td>1,023.00</td>\n",
       "      <td>34.00</td>\n",
       "      <td>1.00</td>\n",
       "      <td>0.00</td>\n",
       "      <td>0.00</td>\n",
       "      <td>107,608.25</td>\n",
       "    </tr>\n",
       "    <tr>\n",
       "      <td>50%</td>\n",
       "      <td>0.00</td>\n",
       "      <td>1,995.50</td>\n",
       "      <td>43.00</td>\n",
       "      <td>1.00</td>\n",
       "      <td>0.00</td>\n",
       "      <td>0.00</td>\n",
       "      <td>144,118.00</td>\n",
       "    </tr>\n",
       "    <tr>\n",
       "      <td>75%</td>\n",
       "      <td>1.00</td>\n",
       "      <td>5,319.25</td>\n",
       "      <td>55.00</td>\n",
       "      <td>1.00</td>\n",
       "      <td>1.00</td>\n",
       "      <td>0.00</td>\n",
       "      <td>196,818.00</td>\n",
       "    </tr>\n",
       "    <tr>\n",
       "      <td>max</td>\n",
       "      <td>5.00</td>\n",
       "      <td>18,388.00</td>\n",
       "      <td>75.00</td>\n",
       "      <td>4.00</td>\n",
       "      <td>4.00</td>\n",
       "      <td>1.00</td>\n",
       "      <td>2,265,604.00</td>\n",
       "    </tr>\n",
       "  </tbody>\n",
       "</table>\n",
       "</div>"
      ],
      "text/plain": [
       "       children  days_employed  dob_years  education_id  family_status_id  \\\n",
       "count 21,452.00      21,452.00  21,452.00     21,452.00         21,452.00   \n",
       "mean       0.47       4,592.65      43.70          0.82              0.97   \n",
       "std        0.75       5,347.95      12.38          0.55              1.42   \n",
       "min        0.00          24.00      19.00          0.00              0.00   \n",
       "25%        0.00       1,023.00      34.00          1.00              0.00   \n",
       "50%        0.00       1,995.50      43.00          1.00              0.00   \n",
       "75%        1.00       5,319.25      55.00          1.00              1.00   \n",
       "max        5.00      18,388.00      75.00          4.00              4.00   \n",
       "\n",
       "           debt  total_income  \n",
       "count 21,452.00     21,452.00  \n",
       "mean       0.08    165,314.85  \n",
       "std        0.27     98,285.88  \n",
       "min        0.00     20,667.00  \n",
       "25%        0.00    107,608.25  \n",
       "50%        0.00    144,118.00  \n",
       "75%        0.00    196,818.00  \n",
       "max        1.00  2,265,604.00  "
      ]
     },
     "execution_count": 130,
     "metadata": {},
     "output_type": "execute_result"
    }
   ],
   "source": [
    "df.describe()"
   ]
  },
  {
   "cell_type": "code",
   "execution_count": 131,
   "metadata": {
    "colab": {
     "base_uri": "https://localhost:8080/"
    },
    "id": "ZfXL5eTQCpq1",
    "outputId": "9b2fca69-6648-4a92-a2a7-217256e8a6c1"
   },
   "outputs": [
    {
     "name": "stdout",
     "output_type": "stream",
     "text": [
      "<class 'pandas.core.frame.DataFrame'>\n",
      "RangeIndex: 21452 entries, 0 to 21451\n",
      "Data columns (total 12 columns):\n",
      "children            21452 non-null int64\n",
      "days_employed       21452 non-null float64\n",
      "dob_years           21452 non-null int64\n",
      "education           21452 non-null object\n",
      "education_id        21452 non-null int64\n",
      "family_status       21452 non-null object\n",
      "family_status_id    21452 non-null int64\n",
      "gender              21452 non-null object\n",
      "income_type         21452 non-null object\n",
      "debt                21452 non-null int64\n",
      "total_income        21452 non-null int64\n",
      "purpose             21452 non-null object\n",
      "dtypes: float64(1), int64(6), object(5)\n",
      "memory usage: 2.0+ MB\n"
     ]
    }
   ],
   "source": [
    "df.info()"
   ]
  },
  {
   "cell_type": "code",
   "execution_count": 132,
   "metadata": {
    "colab": {
     "base_uri": "https://localhost:8080/"
    },
    "id": "WqEEmgceCxrZ",
    "outputId": "06bd1d1d-9f1e-434e-d909-c4e33dfa1903"
   },
   "outputs": [
    {
     "name": "stderr",
     "output_type": "stream",
     "text": [
      "/opt/conda/lib/python3.7/site-packages/ipykernel_launcher.py:1: SettingWithCopyWarning: \n",
      "A value is trying to be set on a copy of a slice from a DataFrame.\n",
      "Try using .loc[row_indexer,col_indexer] = value instead\n",
      "\n",
      "See the caveats in the documentation: http://pandas.pydata.org/pandas-docs/stable/user_guide/indexing.html#returning-a-view-versus-a-copy\n",
      "  \"\"\"Entry point for launching an IPython kernel.\n"
     ]
    }
   ],
   "source": [
    "df['days_employed'] = df['days_employed'].astype('int')"
   ]
  },
  {
   "cell_type": "code",
   "execution_count": 133,
   "metadata": {
    "colab": {
     "base_uri": "https://localhost:8080/"
    },
    "id": "IeAt_zmjC59v",
    "outputId": "0d4b5787-e60e-49ef-8a23-e6f83e8ea73b"
   },
   "outputs": [
    {
     "name": "stdout",
     "output_type": "stream",
     "text": [
      "<class 'pandas.core.frame.DataFrame'>\n",
      "RangeIndex: 21452 entries, 0 to 21451\n",
      "Data columns (total 12 columns):\n",
      "children            21452 non-null int64\n",
      "days_employed       21452 non-null int64\n",
      "dob_years           21452 non-null int64\n",
      "education           21452 non-null object\n",
      "education_id        21452 non-null int64\n",
      "family_status       21452 non-null object\n",
      "family_status_id    21452 non-null int64\n",
      "gender              21452 non-null object\n",
      "income_type         21452 non-null object\n",
      "debt                21452 non-null int64\n",
      "total_income        21452 non-null int64\n",
      "purpose             21452 non-null object\n",
      "dtypes: int64(7), object(5)\n",
      "memory usage: 2.0+ MB\n"
     ]
    }
   ],
   "source": [
    "df.info()"
   ]
  },
  {
   "cell_type": "markdown",
   "metadata": {
    "id": "hZ5WmmwJoOaT"
   },
   "source": [
    "**Вывод**"
   ]
  },
  {
   "cell_type": "markdown",
   "metadata": {
    "id": "mGdaJ-DxDCe9"
   },
   "source": [
    "В датасете допущено много ошибок. Среди них:\n",
    "* Неверный возраст пенсионеров - исправлен на минимальный в соответствии с законодательством РФ;\n",
    "* Значения стажа для пенсионеров занесены в часах, а не днях - исправлено;\n",
    "* Значения стажа для безработных больше, чем годы жизни этих объектов - исправлено на медианное значением по возрасту, семейному положению, образованию.\n",
    "\n",
    "Так как это учебное задание, то мы допускаем изменение значений, которые являются артефактными, на медианные или средние, чтобы потренироваться. Но в реальной жизни наши изменения будут вымыслом и фантазией, и в первую очередь необходимо устанавливать истинные причины таких нестыковок."
   ]
  },
  {
   "cell_type": "markdown",
   "metadata": {
    "id": "u8vNk-2CoOaU"
   },
   "source": [
    "### Лемматизация"
   ]
  },
  {
   "cell_type": "markdown",
   "metadata": {
    "id": "OzLHLR3PoOaU"
   },
   "source": [
    "Посмотрим значения, которые есть в столбце `purpose`"
   ]
  },
  {
   "cell_type": "code",
   "execution_count": 134,
   "metadata": {
    "colab": {
     "base_uri": "https://localhost:8080/"
    },
    "id": "e61mWcpNFAnk",
    "outputId": "d35601a9-b9ff-4c68-ba09-d77683568ec7"
   },
   "outputs": [
    {
     "data": {
      "text/plain": [
       "свадьба                                   791\n",
       "на проведение свадьбы                     768\n",
       "сыграть свадьбу                           765\n",
       "операции с недвижимостью                  675\n",
       "покупка коммерческой недвижимости         661\n",
       "операции с жильем                         652\n",
       "покупка жилья для сдачи                   651\n",
       "операции с коммерческой недвижимостью     650\n",
       "покупка жилья                             646\n",
       "жилье                                     646\n",
       "покупка жилья для семьи                   638\n",
       "строительство собственной недвижимости    635\n",
       "недвижимость                              633\n",
       "операции со своей недвижимостью           627\n",
       "строительство жилой недвижимости          624\n",
       "покупка своего жилья                      620\n",
       "покупка недвижимости                      620\n",
       "строительство недвижимости                619\n",
       "ремонт жилью                              607\n",
       "покупка жилой недвижимости                605\n",
       "на покупку своего автомобиля              505\n",
       "заняться высшим образованием              496\n",
       "автомобиль                                494\n",
       "сделка с подержанным автомобилем          486\n",
       "свой автомобиль                           478\n",
       "на покупку подержанного автомобиля        478\n",
       "автомобили                                478\n",
       "на покупку автомобиля                     471\n",
       "приобретение автомобиля                   461\n",
       "дополнительное образование                460\n",
       "сделка с автомобилем                      455\n",
       "высшее образование                        452\n",
       "образование                               447\n",
       "получение дополнительного образования     446\n",
       "получение образования                     442\n",
       "профильное образование                    436\n",
       "получение высшего образования             426\n",
       "заняться образованием                     408\n",
       "Name: purpose, dtype: int64"
      ]
     },
     "execution_count": 134,
     "metadata": {},
     "output_type": "execute_result"
    }
   ],
   "source": [
    "df['purpose'].value_counts()"
   ]
  },
  {
   "cell_type": "markdown",
   "metadata": {
    "id": "aHAA3cUTI_Zn"
   },
   "source": [
    "\"На глаз\" видно, что есть множество повторяющихся значений, которые написаны по-разному, а также в некоторых строках неправильные склонения. Вызовем Counter для подсчета различных значений."
   ]
  },
  {
   "cell_type": "code",
   "execution_count": 135,
   "metadata": {
    "colab": {
     "base_uri": "https://localhost:8080/"
    },
    "id": "2fjwJ-sqK2Wt",
    "outputId": "a78ff18a-8c56-4709-e610-d4626ecf872a"
   },
   "outputs": [
    {
     "data": {
      "text/plain": [
       "Counter({'покупка жилья': 646,\n",
       "         'приобретение автомобиля': 461,\n",
       "         'дополнительное образование': 460,\n",
       "         'сыграть свадьбу': 765,\n",
       "         'операции с жильем': 652,\n",
       "         'образование': 447,\n",
       "         'на проведение свадьбы': 768,\n",
       "         'покупка жилья для семьи': 638,\n",
       "         'покупка недвижимости': 620,\n",
       "         'покупка коммерческой недвижимости': 661,\n",
       "         'покупка жилой недвижимости': 605,\n",
       "         'строительство собственной недвижимости': 635,\n",
       "         'недвижимость': 633,\n",
       "         'строительство недвижимости': 619,\n",
       "         'на покупку подержанного автомобиля': 478,\n",
       "         'на покупку своего автомобиля': 505,\n",
       "         'операции с коммерческой недвижимостью': 650,\n",
       "         'строительство жилой недвижимости': 624,\n",
       "         'жилье': 646,\n",
       "         'операции со своей недвижимостью': 627,\n",
       "         'автомобили': 478,\n",
       "         'заняться образованием': 408,\n",
       "         'сделка с подержанным автомобилем': 486,\n",
       "         'получение образования': 442,\n",
       "         'автомобиль': 494,\n",
       "         'свадьба': 791,\n",
       "         'получение дополнительного образования': 446,\n",
       "         'покупка своего жилья': 620,\n",
       "         'операции с недвижимостью': 675,\n",
       "         'получение высшего образования': 426,\n",
       "         'свой автомобиль': 478,\n",
       "         'сделка с автомобилем': 455,\n",
       "         'профильное образование': 436,\n",
       "         'высшее образование': 452,\n",
       "         'покупка жилья для сдачи': 651,\n",
       "         'на покупку автомобиля': 471,\n",
       "         'ремонт жилью': 607,\n",
       "         'заняться высшим образованием': 496})"
      ]
     },
     "execution_count": 135,
     "metadata": {},
     "output_type": "execute_result"
    }
   ],
   "source": [
    "Counter(df['purpose'])"
   ]
  },
  {
   "cell_type": "markdown",
   "metadata": {
    "id": "AToreGuRKBla"
   },
   "source": [
    "Видим, что из-за различного написания Counter считает по отдельности одинаковые по смыслу значения. Для решения данной проблемы произведем лемматизацию."
   ]
  },
  {
   "cell_type": "code",
   "execution_count": 136,
   "metadata": {
    "id": "zH7Jy_VP7xWY"
   },
   "outputs": [],
   "source": [
    "m = Mystem()\n",
    "purpose_text = ' '.join(df['purpose'])"
   ]
  },
  {
   "cell_type": "code",
   "execution_count": 137,
   "metadata": {
    "id": "B4pkTNHOJa51"
   },
   "outputs": [],
   "source": [
    "lem_purpose_text = m.lemmatize(purpose_text)"
   ]
  },
  {
   "cell_type": "code",
   "execution_count": 138,
   "metadata": {
    "id": "Cue0UssvE6G_"
   },
   "outputs": [],
   "source": [
    "t = Counter(lem_purpose_text)"
   ]
  },
  {
   "cell_type": "code",
   "execution_count": 139,
   "metadata": {
    "colab": {
     "base_uri": "https://localhost:8080/"
    },
    "id": "1xfiTWSUAqlE",
    "outputId": "3f57f8d2-b738-4f24-8d84-c65331dfd4ae"
   },
   "outputs": [
    {
     "data": {
      "text/plain": [
       "[(' ', 55018),\n",
       " ('недвижимость', 6349),\n",
       " ('покупка', 5895),\n",
       " ('жилье', 4460),\n",
       " ('автомобиль', 4306),\n",
       " ('образование', 4013),\n",
       " ('с', 2918),\n",
       " ('операция', 2604),\n",
       " ('свадьба', 2324),\n",
       " ('свой', 2230),\n",
       " ('на', 2222),\n",
       " ('строительство', 1878),\n",
       " ('высокий', 1374),\n",
       " ('получение', 1314),\n",
       " ('коммерческий', 1311),\n",
       " ('для', 1289),\n",
       " ('жилой', 1229),\n",
       " ('сделка', 941),\n",
       " ('дополнительный', 906),\n",
       " ('заниматься', 904),\n",
       " ('подержать', 853),\n",
       " ('проведение', 768),\n",
       " ('сыграть', 765),\n",
       " ('сдача', 651),\n",
       " ('семья', 638),\n",
       " ('собственный', 635),\n",
       " ('со', 627),\n",
       " ('ремонт', 607),\n",
       " ('приобретение', 461),\n",
       " ('профильный', 436),\n",
       " ('подержанный', 111),\n",
       " ('\\n', 1)]"
      ]
     },
     "execution_count": 139,
     "metadata": {},
     "output_type": "execute_result"
    }
   ],
   "source": [
    "sorted(t.items(), key=lambda pair: pair[1], reverse=True)"
   ]
  },
  {
   "cell_type": "markdown",
   "metadata": {
    "id": "e9gksQmB_0xU"
   },
   "source": [
    "Теперь можно выделить основные цели кредитов:\n",
    "* Недвижимость;\n",
    "* Автомобиль;\n",
    "* Образование;\n",
    "* Свадьба."
   ]
  },
  {
   "cell_type": "markdown",
   "metadata": {
    "id": "E17kgC2poOaU"
   },
   "source": [
    "**Вывод**"
   ]
  },
  {
   "cell_type": "markdown",
   "metadata": {
    "id": "O4K_o2QdBxij"
   },
   "source": [
    "В столбце `purpose` содержится большое количество записей. Некоторые из которых одинаковые по смыслу.\n",
    "Оперируя подсчетами (Counter) смогли выявить основные цели кредитов."
   ]
  },
  {
   "cell_type": "markdown",
   "metadata": {
    "id": "uTDY7ntYoOaV"
   },
   "source": [
    "### Категоризация данных"
   ]
  },
  {
   "cell_type": "markdown",
   "metadata": {
    "id": "GHv6weYQCZ6t"
   },
   "source": [
    "Для удобства дальнейшего анализа создадим отдельный столбец, в котором выделим категории (основные цели) кредитов с помощью функции."
   ]
  },
  {
   "cell_type": "code",
   "execution_count": 140,
   "metadata": {
    "id": "iblpmG-2oOaV"
   },
   "outputs": [],
   "source": [
    "def category_func(row):\n",
    "    if ('недвиж' in row['purpose']) or ('жил' in row['purpose']):\n",
    "        return 'Недвижимость'\n",
    "    if 'автомобил' in row['purpose']:\n",
    "        return 'Автомобиль'\n",
    "    if 'образов' in row['purpose']:\n",
    "        return 'Образование'\n",
    "    if 'свадьб' in row['purpose']:\n",
    "        return 'Свадьба'\n",
    "    return 'Неизвестно'"
   ]
  },
  {
   "cell_type": "code",
   "execution_count": 141,
   "metadata": {
    "colab": {
     "base_uri": "https://localhost:8080/"
    },
    "id": "DCUIALDIFMFY",
    "outputId": "8e64496f-8cc9-4604-cd00-ef44edbb177f"
   },
   "outputs": [
    {
     "name": "stderr",
     "output_type": "stream",
     "text": [
      "/opt/conda/lib/python3.7/site-packages/ipykernel_launcher.py:1: SettingWithCopyWarning: \n",
      "A value is trying to be set on a copy of a slice from a DataFrame.\n",
      "Try using .loc[row_indexer,col_indexer] = value instead\n",
      "\n",
      "See the caveats in the documentation: http://pandas.pydata.org/pandas-docs/stable/user_guide/indexing.html#returning-a-view-versus-a-copy\n",
      "  \"\"\"Entry point for launching an IPython kernel.\n"
     ]
    }
   ],
   "source": [
    "df['category_purpose'] = df.apply(category_func, axis=1)"
   ]
  },
  {
   "cell_type": "code",
   "execution_count": 142,
   "metadata": {
    "colab": {
     "base_uri": "https://localhost:8080/"
    },
    "id": "hqB6313rFYSu",
    "outputId": "4e8c2628-cd44-48dc-ff62-5403b1c9e966"
   },
   "outputs": [
    {
     "data": {
      "text/plain": [
       "Недвижимость    10809\n",
       "Автомобиль       4306\n",
       "Образование      4013\n",
       "Свадьба          2324\n",
       "Name: category_purpose, dtype: int64"
      ]
     },
     "execution_count": 142,
     "metadata": {},
     "output_type": "execute_result"
    }
   ],
   "source": [
    "df['category_purpose'].value_counts()"
   ]
  },
  {
   "cell_type": "code",
   "execution_count": 143,
   "metadata": {
    "colab": {
     "base_uri": "https://localhost:8080/"
    },
    "id": "Fa6CtWz_F_bJ",
    "outputId": "5a16761e-f620-4d95-97a7-e870666c1b20"
   },
   "outputs": [
    {
     "data": {
      "text/plain": [
       "21452"
      ]
     },
     "execution_count": 143,
     "metadata": {},
     "output_type": "execute_result"
    }
   ],
   "source": [
    "df['category_purpose'].count()"
   ]
  },
  {
   "cell_type": "markdown",
   "metadata": {
    "id": "0VM6lQsnGDNq"
   },
   "source": [
    "Видим, что все строки заполнены категориями"
   ]
  },
  {
   "cell_type": "markdown",
   "metadata": {
    "id": "JtGED0BkTDDW"
   },
   "source": [
    "Также для ответа на вопрос \"Есть ли зависимость между уровнем дохода и возвратом кредита в срок?\" нам необходимо распределить участников по уровню дохода на равные группы по количеству таких участников. Для наглядности отберем таких 5 групп"
   ]
  },
  {
   "cell_type": "code",
   "execution_count": 144,
   "metadata": {
    "colab": {
     "base_uri": "https://localhost:8080/"
    },
    "id": "XvwKmC2-UaJC",
    "outputId": "a7adbcb4-a647-47b2-b5b2-de2938ebd84b"
   },
   "outputs": [
    {
     "name": "stderr",
     "output_type": "stream",
     "text": [
      "/opt/conda/lib/python3.7/site-packages/ipykernel_launcher.py:1: SettingWithCopyWarning: \n",
      "A value is trying to be set on a copy of a slice from a DataFrame.\n",
      "Try using .loc[row_indexer,col_indexer] = value instead\n",
      "\n",
      "See the caveats in the documentation: http://pandas.pydata.org/pandas-docs/stable/user_guide/indexing.html#returning-a-view-versus-a-copy\n",
      "  \"\"\"Entry point for launching an IPython kernel.\n"
     ]
    }
   ],
   "source": [
    "df['total_income_group'] = pd.qcut(df['total_income'], 5)"
   ]
  },
  {
   "cell_type": "code",
   "execution_count": 145,
   "metadata": {
    "colab": {
     "base_uri": "https://localhost:8080/"
    },
    "id": "USGARSm4U5rK",
    "outputId": "59ee8812-7991-4409-a155-a78d6a389b9c"
   },
   "outputs": [
    {
     "data": {
      "text/plain": [
       "(98535.2, 130615.0]      4719\n",
       "(214608.0, 2265604.0]    4291\n",
       "(20666.999, 98535.2]     4291\n",
       "(130615.0, 162161.0]     4234\n",
       "(162161.0, 214608.0]     3917\n",
       "Name: total_income_group, dtype: int64"
      ]
     },
     "execution_count": 145,
     "metadata": {},
     "output_type": "execute_result"
    }
   ],
   "source": [
    "df['total_income_group'].value_counts()"
   ]
  },
  {
   "cell_type": "markdown",
   "metadata": {
    "id": "gTXas5k9oOaV"
   },
   "source": [
    "**Вывод**"
   ]
  },
  {
   "cell_type": "markdown",
   "metadata": {
    "id": "2PNj5SLXoOaV"
   },
   "source": [
    "Для удобства объедниили цели кредитов по смыслу и выделили в определенные категории, создав отдельный столбец. Также для ответа на один из вопросов распределили участников по уровню дохода на примерно равные группы по количеству таких участников."
   ]
  },
  {
   "cell_type": "markdown",
   "metadata": {
    "id": "R4Bo5VWJoOaV"
   },
   "source": [
    "## Шаг 3. Ответьте на вопросы"
   ]
  },
  {
   "cell_type": "markdown",
   "metadata": {
    "id": "8XdFLZ1VoOaV"
   },
   "source": [
    "- Есть ли зависимость между наличием детей и возвратом кредита в срок?"
   ]
  },
  {
   "cell_type": "code",
   "execution_count": 146,
   "metadata": {
    "id": "QYPfD2oNoOaW"
   },
   "outputs": [],
   "source": [
    "t = df.groupby('children')['debt'].agg(['count', 'mean'])"
   ]
  },
  {
   "cell_type": "code",
   "execution_count": 147,
   "metadata": {
    "colab": {
     "base_uri": "https://localhost:8080/",
     "height": 266
    },
    "id": "wsvCOKE4H5MC",
    "outputId": "803d5294-657f-4746-8b38-47edd3163479"
   },
   "outputs": [
    {
     "data": {
      "text/html": [
       "<div>\n",
       "<style scoped>\n",
       "    .dataframe tbody tr th:only-of-type {\n",
       "        vertical-align: middle;\n",
       "    }\n",
       "\n",
       "    .dataframe tbody tr th {\n",
       "        vertical-align: top;\n",
       "    }\n",
       "\n",
       "    .dataframe thead th {\n",
       "        text-align: right;\n",
       "    }\n",
       "</style>\n",
       "<table border=\"1\" class=\"dataframe\">\n",
       "  <thead>\n",
       "    <tr style=\"text-align: right;\">\n",
       "      <th></th>\n",
       "      <th>count</th>\n",
       "      <th>mean</th>\n",
       "    </tr>\n",
       "    <tr>\n",
       "      <th>children</th>\n",
       "      <th></th>\n",
       "      <th></th>\n",
       "    </tr>\n",
       "  </thead>\n",
       "  <tbody>\n",
       "    <tr>\n",
       "      <td>5</td>\n",
       "      <td>9</td>\n",
       "      <td>0.00</td>\n",
       "    </tr>\n",
       "    <tr>\n",
       "      <td>0</td>\n",
       "      <td>14165</td>\n",
       "      <td>0.08</td>\n",
       "    </tr>\n",
       "    <tr>\n",
       "      <td>3</td>\n",
       "      <td>330</td>\n",
       "      <td>0.08</td>\n",
       "    </tr>\n",
       "    <tr>\n",
       "      <td>1</td>\n",
       "      <td>4855</td>\n",
       "      <td>0.09</td>\n",
       "    </tr>\n",
       "    <tr>\n",
       "      <td>2</td>\n",
       "      <td>2052</td>\n",
       "      <td>0.09</td>\n",
       "    </tr>\n",
       "    <tr>\n",
       "      <td>4</td>\n",
       "      <td>41</td>\n",
       "      <td>0.10</td>\n",
       "    </tr>\n",
       "  </tbody>\n",
       "</table>\n",
       "</div>"
      ],
      "text/plain": [
       "          count  mean\n",
       "children             \n",
       "5             9  0.00\n",
       "0         14165  0.08\n",
       "3           330  0.08\n",
       "1          4855  0.09\n",
       "2          2052  0.09\n",
       "4            41  0.10"
      ]
     },
     "execution_count": 147,
     "metadata": {},
     "output_type": "execute_result"
    }
   ],
   "source": [
    "t.sort_values(by='mean')"
   ]
  },
  {
   "cell_type": "code",
   "execution_count": 148,
   "metadata": {
    "colab": {
     "base_uri": "https://localhost:8080/"
    },
    "id": "7C1XLJ_aKL4i",
    "outputId": "14acd992-4b12-4b69-ce97-500dc950679c"
   },
   "outputs": [
    {
     "data": {
      "text/plain": [
       "Index(['count', 'mean'], dtype='object')"
      ]
     },
     "execution_count": 148,
     "metadata": {},
     "output_type": "execute_result"
    }
   ],
   "source": [
    "t.columns"
   ]
  },
  {
   "cell_type": "markdown",
   "metadata": {
    "id": "uI4U1L2PJnjY"
   },
   "source": [
    "Так как в данном датасете записей, где пять детей всего 9, то такие данные не учитываем."
   ]
  },
  {
   "cell_type": "code",
   "execution_count": 149,
   "metadata": {
    "id": "XihXagcdKAiW"
   },
   "outputs": [],
   "source": [
    "t = t.loc[:4]"
   ]
  },
  {
   "cell_type": "code",
   "execution_count": 150,
   "metadata": {
    "colab": {
     "base_uri": "https://localhost:8080/",
     "height": 235
    },
    "id": "dHPDLt8_Kd9W",
    "outputId": "a20e8e25-2ef6-49d4-dcf5-eba57e4bbe1e"
   },
   "outputs": [
    {
     "data": {
      "text/html": [
       "<div>\n",
       "<style scoped>\n",
       "    .dataframe tbody tr th:only-of-type {\n",
       "        vertical-align: middle;\n",
       "    }\n",
       "\n",
       "    .dataframe tbody tr th {\n",
       "        vertical-align: top;\n",
       "    }\n",
       "\n",
       "    .dataframe thead th {\n",
       "        text-align: right;\n",
       "    }\n",
       "</style>\n",
       "<table border=\"1\" class=\"dataframe\">\n",
       "  <thead>\n",
       "    <tr style=\"text-align: right;\">\n",
       "      <th></th>\n",
       "      <th>count</th>\n",
       "      <th>mean</th>\n",
       "    </tr>\n",
       "    <tr>\n",
       "      <th>children</th>\n",
       "      <th></th>\n",
       "      <th></th>\n",
       "    </tr>\n",
       "  </thead>\n",
       "  <tbody>\n",
       "    <tr>\n",
       "      <td>0</td>\n",
       "      <td>14165</td>\n",
       "      <td>0.08</td>\n",
       "    </tr>\n",
       "    <tr>\n",
       "      <td>3</td>\n",
       "      <td>330</td>\n",
       "      <td>0.08</td>\n",
       "    </tr>\n",
       "    <tr>\n",
       "      <td>1</td>\n",
       "      <td>4855</td>\n",
       "      <td>0.09</td>\n",
       "    </tr>\n",
       "    <tr>\n",
       "      <td>2</td>\n",
       "      <td>2052</td>\n",
       "      <td>0.09</td>\n",
       "    </tr>\n",
       "    <tr>\n",
       "      <td>4</td>\n",
       "      <td>41</td>\n",
       "      <td>0.10</td>\n",
       "    </tr>\n",
       "  </tbody>\n",
       "</table>\n",
       "</div>"
      ],
      "text/plain": [
       "          count  mean\n",
       "children             \n",
       "0         14165  0.08\n",
       "3           330  0.08\n",
       "1          4855  0.09\n",
       "2          2052  0.09\n",
       "4            41  0.10"
      ]
     },
     "execution_count": 150,
     "metadata": {},
     "output_type": "execute_result"
    }
   ],
   "source": [
    "t.sort_values(by='mean')"
   ]
  },
  {
   "cell_type": "markdown",
   "metadata": {},
   "source": [
    "***Сгруппируем данные по наличию детей***"
   ]
  },
  {
   "cell_type": "code",
   "execution_count": 162,
   "metadata": {},
   "outputs": [],
   "source": [
    "def have_children_func(row):\n",
    "    if row['children'] == 0:\n",
    "        return 'Нет детей'\n",
    "    if row['children'] > 0:\n",
    "        return 'Есть дети'\n",
    "    return 'Неизвестно'"
   ]
  },
  {
   "cell_type": "code",
   "execution_count": 163,
   "metadata": {},
   "outputs": [
    {
     "name": "stderr",
     "output_type": "stream",
     "text": [
      "/opt/conda/lib/python3.7/site-packages/ipykernel_launcher.py:1: SettingWithCopyWarning: \n",
      "A value is trying to be set on a copy of a slice from a DataFrame.\n",
      "Try using .loc[row_indexer,col_indexer] = value instead\n",
      "\n",
      "See the caveats in the documentation: http://pandas.pydata.org/pandas-docs/stable/user_guide/indexing.html#returning-a-view-versus-a-copy\n",
      "  \"\"\"Entry point for launching an IPython kernel.\n"
     ]
    }
   ],
   "source": [
    "df['have_children'] = df.apply(have_children_func, axis=1)"
   ]
  },
  {
   "cell_type": "code",
   "execution_count": 164,
   "metadata": {},
   "outputs": [
    {
     "data": {
      "text/plain": [
       "Нет детей    14165\n",
       "Есть дети     7287\n",
       "Name: have_children, dtype: int64"
      ]
     },
     "execution_count": 164,
     "metadata": {},
     "output_type": "execute_result"
    }
   ],
   "source": [
    "df['have_children'].value_counts()"
   ]
  },
  {
   "cell_type": "markdown",
   "metadata": {},
   "source": [
    "Проверка сумм"
   ]
  },
  {
   "cell_type": "code",
   "execution_count": 165,
   "metadata": {},
   "outputs": [
    {
     "data": {
      "text/plain": [
       "21452"
      ]
     },
     "execution_count": 165,
     "metadata": {},
     "output_type": "execute_result"
    }
   ],
   "source": [
    "df['have_children'].value_counts().sum()"
   ]
  },
  {
   "cell_type": "code",
   "execution_count": 168,
   "metadata": {},
   "outputs": [
    {
     "data": {
      "text/html": [
       "<div>\n",
       "<style scoped>\n",
       "    .dataframe tbody tr th:only-of-type {\n",
       "        vertical-align: middle;\n",
       "    }\n",
       "\n",
       "    .dataframe tbody tr th {\n",
       "        vertical-align: top;\n",
       "    }\n",
       "\n",
       "    .dataframe thead th {\n",
       "        text-align: right;\n",
       "    }\n",
       "</style>\n",
       "<table border=\"1\" class=\"dataframe\">\n",
       "  <thead>\n",
       "    <tr style=\"text-align: right;\">\n",
       "      <th></th>\n",
       "      <th>count</th>\n",
       "      <th>mean</th>\n",
       "    </tr>\n",
       "    <tr>\n",
       "      <th>have_children</th>\n",
       "      <th></th>\n",
       "      <th></th>\n",
       "    </tr>\n",
       "  </thead>\n",
       "  <tbody>\n",
       "    <tr>\n",
       "      <td>Есть дети</td>\n",
       "      <td>7287</td>\n",
       "      <td>0.09</td>\n",
       "    </tr>\n",
       "    <tr>\n",
       "      <td>Нет детей</td>\n",
       "      <td>14165</td>\n",
       "      <td>0.08</td>\n",
       "    </tr>\n",
       "  </tbody>\n",
       "</table>\n",
       "</div>"
      ],
      "text/plain": [
       "               count  mean\n",
       "have_children             \n",
       "Есть дети       7287  0.09\n",
       "Нет детей      14165  0.08"
      ]
     },
     "execution_count": 168,
     "metadata": {},
     "output_type": "execute_result"
    }
   ],
   "source": [
    "df.groupby('have_children')['debt'].agg(['count', 'mean'])"
   ]
  },
  {
   "cell_type": "markdown",
   "metadata": {},
   "source": [
    "**Теперь видно, что участники с детьми имеют больше просрочек, чем без детей**"
   ]
  },
  {
   "cell_type": "code",
   "execution_count": 151,
   "metadata": {
    "colab": {
     "base_uri": "https://localhost:8080/",
     "height": 296
    },
    "id": "3gGm-bMPIdUq",
    "outputId": "825f1357-8cd4-4cb9-a210-0f89ddde4ef2"
   },
   "outputs": [
    {
     "data": {
      "text/plain": [
       "<matplotlib.axes._subplots.AxesSubplot at 0x7fd468d69ed0>"
      ]
     },
     "execution_count": 151,
     "metadata": {},
     "output_type": "execute_result"
    },
    {
     "data": {
      "image/png": "[encoded data removed]",
      "text/plain": [
       "<Figure size 432x288 with 1 Axes>"
      ]
     },
     "metadata": {
      "needs_background": "light"
     },
     "output_type": "display_data"
    }
   ],
   "source": [
    "t['mean'].plot(ylim=0, grid=True)"
   ]
  },
  {
   "cell_type": "markdown",
   "metadata": {
    "id": "eU9aM8fOoOaW"
   },
   "source": [
    "**Вывод**"
   ]
  },
  {
   "cell_type": "markdown",
   "metadata": {
    "id": "c9366S2noOaW"
   },
   "source": [
    "Судя по графику и таблице сверху, можно предположить, что у граждан без детей меньше просрочек по займам. Чем больше детей - тем больше просрочек."
   ]
  },
  {
   "cell_type": "markdown",
   "metadata": {
    "id": "SMrQWzOfoOaW"
   },
   "source": [
    "- Есть ли зависимость между семейным положением и возвратом кредита в срок?"
   ]
  },
  {
   "cell_type": "code",
   "execution_count": 152,
   "metadata": {
    "id": "jURZ_N0EoOaW"
   },
   "outputs": [],
   "source": [
    "t = df.groupby('family_status')['debt'].agg(['count', 'mean'])"
   ]
  },
  {
   "cell_type": "code",
   "execution_count": 153,
   "metadata": {
    "colab": {
     "base_uri": "https://localhost:8080/",
     "height": 235
    },
    "id": "uNj-dJyoN2f7",
    "outputId": "0f9f453f-1a63-4c68-c755-488b7c5ee660"
   },
   "outputs": [
    {
     "data": {
      "text/html": [
       "<div>\n",
       "<style scoped>\n",
       "    .dataframe tbody tr th:only-of-type {\n",
       "        vertical-align: middle;\n",
       "    }\n",
       "\n",
       "    .dataframe tbody tr th {\n",
       "        vertical-align: top;\n",
       "    }\n",
       "\n",
       "    .dataframe thead th {\n",
       "        text-align: right;\n",
       "    }\n",
       "</style>\n",
       "<table border=\"1\" class=\"dataframe\">\n",
       "  <thead>\n",
       "    <tr style=\"text-align: right;\">\n",
       "      <th></th>\n",
       "      <th>count</th>\n",
       "      <th>mean</th>\n",
       "    </tr>\n",
       "    <tr>\n",
       "      <th>family_status</th>\n",
       "      <th></th>\n",
       "      <th></th>\n",
       "    </tr>\n",
       "  </thead>\n",
       "  <tbody>\n",
       "    <tr>\n",
       "      <td>вдовец / вдова</td>\n",
       "      <td>959</td>\n",
       "      <td>0.07</td>\n",
       "    </tr>\n",
       "    <tr>\n",
       "      <td>в разводе</td>\n",
       "      <td>1195</td>\n",
       "      <td>0.07</td>\n",
       "    </tr>\n",
       "    <tr>\n",
       "      <td>женат / замужем</td>\n",
       "      <td>12338</td>\n",
       "      <td>0.08</td>\n",
       "    </tr>\n",
       "    <tr>\n",
       "      <td>гражданский брак</td>\n",
       "      <td>4150</td>\n",
       "      <td>0.09</td>\n",
       "    </tr>\n",
       "    <tr>\n",
       "      <td>Не женат / не замужем</td>\n",
       "      <td>2810</td>\n",
       "      <td>0.10</td>\n",
       "    </tr>\n",
       "  </tbody>\n",
       "</table>\n",
       "</div>"
      ],
      "text/plain": [
       "                       count  mean\n",
       "family_status                     \n",
       "вдовец / вдова           959  0.07\n",
       "в разводе               1195  0.07\n",
       "женат / замужем        12338  0.08\n",
       "гражданский брак        4150  0.09\n",
       "Не женат / не замужем   2810  0.10"
      ]
     },
     "execution_count": 153,
     "metadata": {},
     "output_type": "execute_result"
    }
   ],
   "source": [
    "t.sort_values(by='mean')"
   ]
  },
  {
   "cell_type": "markdown",
   "metadata": {
    "id": "h_xpFDsaoOaX"
   },
   "source": [
    "**Вывод**"
   ]
  },
  {
   "cell_type": "markdown",
   "metadata": {
    "id": "4J4jaSxnoOaX"
   },
   "source": [
    "По таблице сверху видно, что меньше всего просрочек у вдов/вдовцов, в разводе. При этом больше всего просрочек у тех, кто не состоит/состоял в каких-либо отношениях. Скорее всего это также связано с возрастом."
   ]
  },
  {
   "cell_type": "code",
   "execution_count": 154,
   "metadata": {
    "id": "oMG7RslMPOMf"
   },
   "outputs": [],
   "source": [
    "t = df.groupby('family_status')[['debt', 'dob_years']].agg(['count', 'mean', 'median']).reset_index()"
   ]
  },
  {
   "cell_type": "code",
   "execution_count": 155,
   "metadata": {
    "id": "v9UkHb4KPxvs"
   },
   "outputs": [],
   "source": [
    "t.columns = ['_'.join(col).strip() for col in t.columns.values]"
   ]
  },
  {
   "cell_type": "code",
   "execution_count": 156,
   "metadata": {
    "colab": {
     "base_uri": "https://localhost:8080/",
     "height": 204
    },
    "id": "GFIZk0PDP910",
    "outputId": "75e4cb05-31d8-4aa7-e627-c7c3914fe1bb"
   },
   "outputs": [
    {
     "data": {
      "text/html": [
       "<div>\n",
       "<style scoped>\n",
       "    .dataframe tbody tr th:only-of-type {\n",
       "        vertical-align: middle;\n",
       "    }\n",
       "\n",
       "    .dataframe tbody tr th {\n",
       "        vertical-align: top;\n",
       "    }\n",
       "\n",
       "    .dataframe thead th {\n",
       "        text-align: right;\n",
       "    }\n",
       "</style>\n",
       "<table border=\"1\" class=\"dataframe\">\n",
       "  <thead>\n",
       "    <tr style=\"text-align: right;\">\n",
       "      <th></th>\n",
       "      <th>family_status_</th>\n",
       "      <th>debt_count</th>\n",
       "      <th>debt_mean</th>\n",
       "      <th>debt_median</th>\n",
       "      <th>dob_years_count</th>\n",
       "      <th>dob_years_mean</th>\n",
       "      <th>dob_years_median</th>\n",
       "    </tr>\n",
       "  </thead>\n",
       "  <tbody>\n",
       "    <tr>\n",
       "      <td>2</td>\n",
       "      <td>вдовец / вдова</td>\n",
       "      <td>959</td>\n",
       "      <td>0.07</td>\n",
       "      <td>0</td>\n",
       "      <td>959</td>\n",
       "      <td>57.04</td>\n",
       "      <td>58</td>\n",
       "    </tr>\n",
       "    <tr>\n",
       "      <td>1</td>\n",
       "      <td>в разводе</td>\n",
       "      <td>1195</td>\n",
       "      <td>0.07</td>\n",
       "      <td>0</td>\n",
       "      <td>1195</td>\n",
       "      <td>46.11</td>\n",
       "      <td>46</td>\n",
       "    </tr>\n",
       "    <tr>\n",
       "      <td>4</td>\n",
       "      <td>женат / замужем</td>\n",
       "      <td>12338</td>\n",
       "      <td>0.08</td>\n",
       "      <td>0</td>\n",
       "      <td>12338</td>\n",
       "      <td>43.94</td>\n",
       "      <td>43</td>\n",
       "    </tr>\n",
       "    <tr>\n",
       "      <td>3</td>\n",
       "      <td>гражданский брак</td>\n",
       "      <td>4150</td>\n",
       "      <td>0.09</td>\n",
       "      <td>0</td>\n",
       "      <td>4150</td>\n",
       "      <td>42.54</td>\n",
       "      <td>41</td>\n",
       "    </tr>\n",
       "    <tr>\n",
       "      <td>0</td>\n",
       "      <td>Не женат / не замужем</td>\n",
       "      <td>2810</td>\n",
       "      <td>0.10</td>\n",
       "      <td>0</td>\n",
       "      <td>2810</td>\n",
       "      <td>38.77</td>\n",
       "      <td>36</td>\n",
       "    </tr>\n",
       "  </tbody>\n",
       "</table>\n",
       "</div>"
      ],
      "text/plain": [
       "          family_status_  debt_count  debt_mean  debt_median  dob_years_count  \\\n",
       "2         вдовец / вдова         959       0.07            0              959   \n",
       "1              в разводе        1195       0.07            0             1195   \n",
       "4        женат / замужем       12338       0.08            0            12338   \n",
       "3       гражданский брак        4150       0.09            0             4150   \n",
       "0  Не женат / не замужем        2810       0.10            0             2810   \n",
       "\n",
       "   dob_years_mean  dob_years_median  \n",
       "2           57.04                58  \n",
       "1           46.11                46  \n",
       "4           43.94                43  \n",
       "3           42.54                41  \n",
       "0           38.77                36  "
      ]
     },
     "execution_count": 156,
     "metadata": {},
     "output_type": "execute_result"
    }
   ],
   "source": [
    "t.sort_values(by='debt_mean')"
   ]
  },
  {
   "cell_type": "markdown",
   "metadata": {
    "id": "2rivFaJBRFxl"
   },
   "source": [
    "В этой таблице теперь наглядно видно, что на эти результаты также влиет и возраст. У не женатых/не замужем больше всего просрочек, но они и самые молодые. У вдов/вдовцов меньше всего просрочек, но они и самые старые в этой выборке."
   ]
  },
  {
   "cell_type": "markdown",
   "metadata": {
    "id": "RleZ93uOoOaX"
   },
   "source": [
    "- Есть ли зависимость между уровнем дохода и возвратом кредита в срок?"
   ]
  },
  {
   "cell_type": "markdown",
   "metadata": {
    "id": "kTCKB53vW8sr"
   },
   "source": [
    "Для этого сначала построим сводную таблицу, а затем график."
   ]
  },
  {
   "cell_type": "code",
   "execution_count": 157,
   "metadata": {
    "id": "nRHwroH7oOaX"
   },
   "outputs": [],
   "source": [
    "t = df.groupby('total_income_group')['debt'].agg(['count','mean','sum'])"
   ]
  },
  {
   "cell_type": "code",
   "execution_count": 158,
   "metadata": {
    "colab": {
     "base_uri": "https://localhost:8080/",
     "height": 235
    },
    "id": "SuJQ-6ozXD8r",
    "outputId": "e03e0397-2ba1-4567-9fb7-67cae4d45171"
   },
   "outputs": [
    {
     "data": {
      "text/html": [
       "<div>\n",
       "<style scoped>\n",
       "    .dataframe tbody tr th:only-of-type {\n",
       "        vertical-align: middle;\n",
       "    }\n",
       "\n",
       "    .dataframe tbody tr th {\n",
       "        vertical-align: top;\n",
       "    }\n",
       "\n",
       "    .dataframe thead th {\n",
       "        text-align: right;\n",
       "    }\n",
       "</style>\n",
       "<table border=\"1\" class=\"dataframe\">\n",
       "  <thead>\n",
       "    <tr style=\"text-align: right;\">\n",
       "      <th></th>\n",
       "      <th>count</th>\n",
       "      <th>mean</th>\n",
       "      <th>sum</th>\n",
       "    </tr>\n",
       "    <tr>\n",
       "      <th>total_income_group</th>\n",
       "      <th></th>\n",
       "      <th></th>\n",
       "      <th></th>\n",
       "    </tr>\n",
       "  </thead>\n",
       "  <tbody>\n",
       "    <tr>\n",
       "      <td>(20666.999, 98535.2]</td>\n",
       "      <td>4291</td>\n",
       "      <td>0.08</td>\n",
       "      <td>344</td>\n",
       "    </tr>\n",
       "    <tr>\n",
       "      <td>(98535.2, 130615.0]</td>\n",
       "      <td>4719</td>\n",
       "      <td>0.08</td>\n",
       "      <td>386</td>\n",
       "    </tr>\n",
       "    <tr>\n",
       "      <td>(130615.0, 162161.0]</td>\n",
       "      <td>4234</td>\n",
       "      <td>0.09</td>\n",
       "      <td>370</td>\n",
       "    </tr>\n",
       "    <tr>\n",
       "      <td>(162161.0, 214608.0]</td>\n",
       "      <td>3917</td>\n",
       "      <td>0.09</td>\n",
       "      <td>341</td>\n",
       "    </tr>\n",
       "    <tr>\n",
       "      <td>(214608.0, 2265604.0]</td>\n",
       "      <td>4291</td>\n",
       "      <td>0.07</td>\n",
       "      <td>300</td>\n",
       "    </tr>\n",
       "  </tbody>\n",
       "</table>\n",
       "</div>"
      ],
      "text/plain": [
       "                       count  mean  sum\n",
       "total_income_group                     \n",
       "(20666.999, 98535.2]    4291  0.08  344\n",
       "(98535.2, 130615.0]     4719  0.08  386\n",
       "(130615.0, 162161.0]    4234  0.09  370\n",
       "(162161.0, 214608.0]    3917  0.09  341\n",
       "(214608.0, 2265604.0]   4291  0.07  300"
      ]
     },
     "execution_count": 158,
     "metadata": {},
     "output_type": "execute_result"
    }
   ],
   "source": [
    "t"
   ]
  },
  {
   "cell_type": "code",
   "execution_count": 159,
   "metadata": {
    "colab": {
     "base_uri": "https://localhost:8080/",
     "height": 376
    },
    "id": "64xPIqf1XS_c",
    "outputId": "fd2480ea-f471-4714-e30a-ff4223d0b0af"
   },
   "outputs": [
    {
     "data": {
      "text/plain": [
       "<matplotlib.axes._subplots.AxesSubplot at 0x7fd469690690>"
      ]
     },
     "execution_count": 159,
     "metadata": {},
     "output_type": "execute_result"
    },
    {
     "data": {
      "image/png": "[encoded data removed]",
      "text/plain": [
       "<Figure size 432x288 with 1 Axes>"
      ]
     },
     "metadata": {
      "needs_background": "light"
     },
     "output_type": "display_data"
    }
   ],
   "source": [
    "t['mean'].plot(ylim=0, grid=True, rot=45)"
   ]
  },
  {
   "cell_type": "markdown",
   "metadata": {
    "id": "4AK0gT5foOaX"
   },
   "source": [
    "**Вывод**"
   ]
  },
  {
   "cell_type": "markdown",
   "metadata": {
    "id": "2HdeQWWYoOaY"
   },
   "source": [
    "Чем выше доход, тем меньше просрочек по кредитам."
   ]
  },
  {
   "cell_type": "markdown",
   "metadata": {
    "id": "CZDIFe5ooOaY"
   },
   "source": [
    "- Как разные цели кредита влияют на его возврат в срок?"
   ]
  },
  {
   "cell_type": "code",
   "execution_count": 160,
   "metadata": {
    "id": "e07V9n4xoOaY"
   },
   "outputs": [],
   "source": [
    "t = df.groupby('category_purpose')['debt'].agg(['count','mean','sum'])"
   ]
  },
  {
   "cell_type": "code",
   "execution_count": 161,
   "metadata": {
    "colab": {
     "base_uri": "https://localhost:8080/",
     "height": 204
    },
    "id": "ZJqidd_FYIj5",
    "outputId": "d6e5999b-719c-4157-f43c-32787040e59f"
   },
   "outputs": [
    {
     "data": {
      "text/html": [
       "<div>\n",
       "<style scoped>\n",
       "    .dataframe tbody tr th:only-of-type {\n",
       "        vertical-align: middle;\n",
       "    }\n",
       "\n",
       "    .dataframe tbody tr th {\n",
       "        vertical-align: top;\n",
       "    }\n",
       "\n",
       "    .dataframe thead th {\n",
       "        text-align: right;\n",
       "    }\n",
       "</style>\n",
       "<table border=\"1\" class=\"dataframe\">\n",
       "  <thead>\n",
       "    <tr style=\"text-align: right;\">\n",
       "      <th></th>\n",
       "      <th>count</th>\n",
       "      <th>mean</th>\n",
       "      <th>sum</th>\n",
       "    </tr>\n",
       "    <tr>\n",
       "      <th>category_purpose</th>\n",
       "      <th></th>\n",
       "      <th></th>\n",
       "      <th></th>\n",
       "    </tr>\n",
       "  </thead>\n",
       "  <tbody>\n",
       "    <tr>\n",
       "      <td>Недвижимость</td>\n",
       "      <td>10809</td>\n",
       "      <td>0.07</td>\n",
       "      <td>782</td>\n",
       "    </tr>\n",
       "    <tr>\n",
       "      <td>Свадьба</td>\n",
       "      <td>2324</td>\n",
       "      <td>0.08</td>\n",
       "      <td>186</td>\n",
       "    </tr>\n",
       "    <tr>\n",
       "      <td>Образование</td>\n",
       "      <td>4013</td>\n",
       "      <td>0.09</td>\n",
       "      <td>370</td>\n",
       "    </tr>\n",
       "    <tr>\n",
       "      <td>Автомобиль</td>\n",
       "      <td>4306</td>\n",
       "      <td>0.09</td>\n",
       "      <td>403</td>\n",
       "    </tr>\n",
       "  </tbody>\n",
       "</table>\n",
       "</div>"
      ],
      "text/plain": [
       "                  count  mean  sum\n",
       "category_purpose                  \n",
       "Недвижимость      10809  0.07  782\n",
       "Свадьба            2324  0.08  186\n",
       "Образование        4013  0.09  370\n",
       "Автомобиль         4306  0.09  403"
      ]
     },
     "execution_count": 161,
     "metadata": {},
     "output_type": "execute_result"
    }
   ],
   "source": [
    "t.sort_values(by='mean')"
   ]
  },
  {
   "cell_type": "markdown",
   "metadata": {
    "id": "I4FMO7eSoOaY"
   },
   "source": [
    "**Вывод**"
   ]
  },
  {
   "cell_type": "markdown",
   "metadata": {
    "id": "53dcjW8toOaY"
   },
   "source": [
    "Меньше всего просрочек у тех, кто берет деньги на операции, связанные с недвижимостью. Также возвращают те, кто берет деньги на свадьбу. Больше всего просрочек у тех, кто берет деньги на покупку автомобиля или образование."
   ]
  },
  {
   "cell_type": "markdown",
   "metadata": {
    "id": "jTAnXl7ZoOaY"
   },
   "source": [
    "## Шаг 4. Общий вывод"
   ]
  },
  {
   "cell_type": "markdown",
   "metadata": {
    "id": "DDbt3cy5oOaZ"
   },
   "source": [
    "Ответив на вопросы, можно предположить, что чаще возвращают заемные деньги те, кто:\n",
    "* Не имеет детей;\n",
    "* Овдовел или в разводе;\n",
    "* Имеет высокий уровень дохода;\n",
    "* Берет кредит для проведения операций с недвижимостью."
   ]
  }
 ],
 "metadata": {
  "ExecuteTimeLog": [
   {
    "duration": 857,
    "start_time": "2021-07-21T20:08:54.395Z"
   },
   {
    "duration": 20,
    "start_time": "2021-07-21T20:08:55.254Z"
   },
   {
    "duration": 12,
    "start_time": "2021-07-21T20:08:55.276Z"
   },
   {
    "duration": 11,
    "start_time": "2021-07-21T20:08:55.290Z"
   },
   {
    "duration": 6,
    "start_time": "2021-07-21T20:08:55.302Z"
   },
   {
    "duration": 33,
    "start_time": "2021-07-21T20:08:55.310Z"
   },
   {
    "duration": 48,
    "start_time": "2021-07-21T20:08:55.345Z"
   },
   {
    "duration": 69,
    "start_time": "2021-07-21T20:08:55.395Z"
   },
   {
    "duration": 9,
    "start_time": "2021-07-21T20:08:55.467Z"
   },
   {
    "duration": 11,
    "start_time": "2021-07-21T20:08:55.478Z"
   },
   {
    "duration": 19,
    "start_time": "2021-07-21T20:08:55.491Z"
   },
   {
    "duration": 37,
    "start_time": "2021-07-21T20:08:55.512Z"
   },
   {
    "duration": 15,
    "start_time": "2021-07-21T20:08:55.551Z"
   },
   {
    "duration": 4,
    "start_time": "2021-07-21T20:08:55.567Z"
   },
   {
    "duration": 9,
    "start_time": "2021-07-21T20:08:55.572Z"
   },
   {
    "duration": 3,
    "start_time": "2021-07-21T20:08:55.583Z"
   },
   {
    "duration": 8,
    "start_time": "2021-07-21T20:08:55.588Z"
   },
   {
    "duration": 7,
    "start_time": "2021-07-21T20:08:55.598Z"
   },
   {
    "duration": 37,
    "start_time": "2021-07-21T20:08:55.606Z"
   },
   {
    "duration": 3,
    "start_time": "2021-07-21T20:08:55.645Z"
   },
   {
    "duration": 7,
    "start_time": "2021-07-21T20:08:55.649Z"
   },
   {
    "duration": 4,
    "start_time": "2021-07-21T20:08:55.658Z"
   },
   {
    "duration": 6,
    "start_time": "2021-07-21T20:08:55.664Z"
   },
   {
    "duration": 9,
    "start_time": "2021-07-21T20:08:55.672Z"
   },
   {
    "duration": 7,
    "start_time": "2021-07-21T20:08:55.683Z"
   },
   {
    "duration": 6,
    "start_time": "2021-07-21T20:08:55.692Z"
   },
   {
    "duration": 40,
    "start_time": "2021-07-21T20:08:55.701Z"
   },
   {
    "duration": 8,
    "start_time": "2021-07-21T20:08:55.743Z"
   },
   {
    "duration": 3,
    "start_time": "2021-07-21T20:08:55.753Z"
   },
   {
    "duration": 6,
    "start_time": "2021-07-21T20:08:55.758Z"
   },
   {
    "duration": 3,
    "start_time": "2021-07-21T20:08:55.766Z"
   },
   {
    "duration": 5,
    "start_time": "2021-07-21T20:08:55.771Z"
   },
   {
    "duration": 13,
    "start_time": "2021-07-21T20:08:55.777Z"
   },
   {
    "duration": 3,
    "start_time": "2021-07-21T20:08:55.792Z"
   },
   {
    "duration": 5,
    "start_time": "2021-07-21T20:08:55.797Z"
   },
   {
    "duration": 4,
    "start_time": "2021-07-21T20:08:55.841Z"
   },
   {
    "duration": 10,
    "start_time": "2021-07-21T20:08:55.847Z"
   },
   {
    "duration": 15,
    "start_time": "2021-07-21T20:08:55.858Z"
   },
   {
    "duration": 21,
    "start_time": "2021-07-21T20:08:55.875Z"
   },
   {
    "duration": 3,
    "start_time": "2021-07-21T20:08:55.898Z"
   },
   {
    "duration": 368,
    "start_time": "2021-07-21T20:08:55.902Z"
   },
   {
    "duration": 21,
    "start_time": "2021-07-21T20:08:56.271Z"
   },
   {
    "duration": 17,
    "start_time": "2021-07-21T20:08:56.293Z"
   },
   {
    "duration": 25,
    "start_time": "2021-07-21T20:08:56.317Z"
   },
   {
    "duration": 5,
    "start_time": "2021-07-21T20:08:56.343Z"
   },
   {
    "duration": 4,
    "start_time": "2021-07-21T20:08:56.350Z"
   },
   {
    "duration": 6,
    "start_time": "2021-07-21T20:08:56.356Z"
   },
   {
    "duration": 15,
    "start_time": "2021-07-21T20:08:56.364Z"
   },
   {
    "duration": 25,
    "start_time": "2021-07-21T20:08:56.380Z"
   },
   {
    "duration": 42,
    "start_time": "2021-07-21T20:08:56.407Z"
   },
   {
    "duration": 3,
    "start_time": "2021-07-21T20:08:56.450Z"
   },
   {
    "duration": 9,
    "start_time": "2021-07-21T20:08:56.455Z"
   },
   {
    "duration": 4,
    "start_time": "2021-07-21T20:08:56.466Z"
   },
   {
    "duration": 11,
    "start_time": "2021-07-21T20:08:56.471Z"
   },
   {
    "duration": 3,
    "start_time": "2021-07-21T20:08:56.483Z"
   },
   {
    "duration": 11,
    "start_time": "2021-07-21T20:08:56.488Z"
   },
   {
    "duration": 55,
    "start_time": "2021-07-21T20:08:56.501Z"
   },
   {
    "duration": 11,
    "start_time": "2021-07-21T20:08:56.558Z"
   },
   {
    "duration": 18,
    "start_time": "2021-07-21T20:08:56.571Z"
   },
   {
    "duration": 11,
    "start_time": "2021-07-21T20:08:56.591Z"
   },
   {
    "duration": 49,
    "start_time": "2021-07-21T20:08:56.604Z"
   },
   {
    "duration": 23,
    "start_time": "2021-07-21T20:08:56.655Z"
   },
   {
    "duration": 6,
    "start_time": "2021-07-21T20:08:56.680Z"
   },
   {
    "duration": 10,
    "start_time": "2021-07-21T20:08:56.688Z"
   },
   {
    "duration": 49,
    "start_time": "2021-07-21T20:08:56.700Z"
   },
   {
    "duration": 10,
    "start_time": "2021-07-21T20:08:56.751Z"
   },
   {
    "duration": 20,
    "start_time": "2021-07-21T20:08:56.762Z"
   },
   {
    "duration": 4,
    "start_time": "2021-07-21T20:08:56.783Z"
   },
   {
    "duration": 6,
    "start_time": "2021-07-21T20:08:56.789Z"
   },
   {
    "duration": 57,
    "start_time": "2021-07-21T20:08:56.797Z"
   },
   {
    "duration": 14,
    "start_time": "2021-07-21T20:08:56.856Z"
   },
   {
    "duration": 6,
    "start_time": "2021-07-21T20:08:56.871Z"
   },
   {
    "duration": 9,
    "start_time": "2021-07-21T20:08:56.879Z"
   },
   {
    "duration": 5,
    "start_time": "2021-07-21T20:08:56.890Z"
   },
   {
    "duration": 385,
    "start_time": "2021-07-21T20:08:56.897Z"
   },
   {
    "duration": 23,
    "start_time": "2021-07-21T20:08:57.284Z"
   },
   {
    "duration": 4,
    "start_time": "2021-07-21T20:08:57.308Z"
   },
   {
    "duration": 29,
    "start_time": "2021-07-21T20:08:57.314Z"
   },
   {
    "duration": 23,
    "start_time": "2021-07-21T20:08:57.345Z"
   },
   {
    "duration": 15,
    "start_time": "2021-07-21T20:08:57.370Z"
   },
   {
    "duration": 21,
    "start_time": "2021-07-21T20:08:57.392Z"
   },
   {
    "duration": 30,
    "start_time": "2021-07-21T20:08:57.415Z"
   },
   {
    "duration": 7,
    "start_time": "2021-07-21T20:08:57.447Z"
   },
   {
    "duration": 6,
    "start_time": "2021-07-21T20:08:57.456Z"
   },
   {
    "duration": 693,
    "start_time": "2021-07-21T20:08:57.463Z"
   },
   {
    "duration": 24,
    "start_time": "2021-07-21T20:08:58.158Z"
   },
   {
    "duration": 16,
    "start_time": "2021-07-21T20:08:58.183Z"
   },
   {
    "duration": 9,
    "start_time": "2021-07-21T20:08:58.200Z"
   },
   {
    "duration": 40,
    "start_time": "2021-07-21T20:08:58.211Z"
   },
   {
    "duration": 9,
    "start_time": "2021-07-21T20:08:58.252Z"
   },
   {
    "duration": 5,
    "start_time": "2021-07-21T20:08:58.263Z"
   },
   {
    "duration": 7,
    "start_time": "2021-07-21T20:08:58.269Z"
   },
   {
    "duration": 9,
    "start_time": "2021-07-21T20:08:58.278Z"
   },
   {
    "duration": 4,
    "start_time": "2021-07-21T20:08:58.288Z"
   },
   {
    "duration": 5,
    "start_time": "2021-07-21T20:08:58.294Z"
   },
   {
    "duration": 50,
    "start_time": "2021-07-21T20:08:58.300Z"
   },
   {
    "duration": 7,
    "start_time": "2021-07-21T20:08:58.352Z"
   },
   {
    "duration": 7,
    "start_time": "2021-07-21T20:08:58.360Z"
   },
   {
    "duration": 4,
    "start_time": "2021-07-21T20:08:58.369Z"
   },
   {
    "duration": 11,
    "start_time": "2021-07-21T20:08:58.375Z"
   },
   {
    "duration": 4,
    "start_time": "2021-07-21T20:08:58.387Z"
   },
   {
    "duration": 4,
    "start_time": "2021-07-21T20:08:58.392Z"
   },
   {
    "duration": 362,
    "start_time": "2021-07-21T20:08:58.398Z"
   },
   {
    "duration": 3,
    "start_time": "2021-07-21T20:08:58.762Z"
   },
   {
    "duration": 9,
    "start_time": "2021-07-21T20:08:58.767Z"
   },
   {
    "duration": 3,
    "start_time": "2021-07-21T20:08:58.778Z"
   },
   {
    "duration": 4,
    "start_time": "2021-07-21T20:08:58.783Z"
   },
   {
    "duration": 10,
    "start_time": "2021-07-21T20:08:58.788Z"
   },
   {
    "duration": 3,
    "start_time": "2021-07-21T20:08:58.800Z"
   },
   {
    "duration": 37,
    "start_time": "2021-07-21T20:08:58.804Z"
   },
   {
    "duration": 11,
    "start_time": "2021-07-21T20:08:58.843Z"
   },
   {
    "duration": 31,
    "start_time": "2021-07-21T20:08:58.855Z"
   },
   {
    "duration": 10,
    "start_time": "2021-07-21T20:08:58.887Z"
   },
   {
    "duration": 5,
    "start_time": "2021-07-21T20:08:58.899Z"
   },
   {
    "duration": 38,
    "start_time": "2021-07-21T20:08:58.905Z"
   },
   {
    "duration": 7,
    "start_time": "2021-07-21T20:08:58.945Z"
   },
   {
    "duration": 8,
    "start_time": "2021-07-21T20:08:58.954Z"
   },
   {
    "duration": 6,
    "start_time": "2021-07-21T20:08:58.964Z"
   },
   {
    "duration": 2262,
    "start_time": "2021-07-21T20:08:58.972Z"
   },
   {
    "duration": 12,
    "start_time": "2021-07-21T20:09:01.236Z"
   },
   {
    "duration": 16,
    "start_time": "2021-07-21T20:09:01.250Z"
   },
   {
    "duration": 11,
    "start_time": "2021-07-21T20:09:01.267Z"
   },
   {
    "duration": 405,
    "start_time": "2021-07-21T20:09:01.280Z"
   },
   {
    "duration": 7,
    "start_time": "2021-07-21T20:09:01.687Z"
   },
   {
    "duration": 6,
    "start_time": "2021-07-21T20:09:01.696Z"
   },
   {
    "duration": 15,
    "start_time": "2021-07-21T20:09:01.704Z"
   },
   {
    "duration": 26,
    "start_time": "2021-07-21T20:09:01.721Z"
   },
   {
    "duration": 9,
    "start_time": "2021-07-21T20:09:01.749Z"
   },
   {
    "duration": 7,
    "start_time": "2021-07-21T20:09:01.760Z"
   },
   {
    "duration": 5,
    "start_time": "2021-07-21T20:09:01.769Z"
   },
   {
    "duration": 4,
    "start_time": "2021-07-21T20:09:01.776Z"
   },
   {
    "duration": 9,
    "start_time": "2021-07-21T20:09:01.782Z"
   },
   {
    "duration": 310,
    "start_time": "2021-07-21T20:09:01.792Z"
   },
   {
    "duration": 9,
    "start_time": "2021-07-21T20:09:02.104Z"
   },
   {
    "duration": 9,
    "start_time": "2021-07-21T20:09:02.114Z"
   },
   {
    "duration": 16,
    "start_time": "2021-07-21T20:09:02.141Z"
   },
   {
    "duration": 3,
    "start_time": "2021-07-21T20:09:02.159Z"
   },
   {
    "duration": 18,
    "start_time": "2021-07-21T20:09:02.164Z"
   },
   {
    "duration": 10,
    "start_time": "2021-07-21T20:09:02.184Z"
   },
   {
    "duration": 11,
    "start_time": "2021-07-21T20:09:02.195Z"
   },
   {
    "duration": 186,
    "start_time": "2021-07-21T20:09:02.208Z"
   },
   {
    "duration": 8,
    "start_time": "2021-07-21T20:09:02.396Z"
   },
   {
    "duration": 8,
    "start_time": "2021-07-21T20:09:02.406Z"
   },
   {
    "duration": 11,
    "start_time": "2021-07-21T20:10:57.352Z"
   },
   {
    "duration": 11,
    "start_time": "2021-07-21T20:11:03.072Z"
   },
   {
    "duration": 153,
    "start_time": "2021-07-22T08:20:37.853Z"
   },
   {
    "duration": 475,
    "start_time": "2021-07-22T08:24:33.684Z"
   },
   {
    "duration": 1196,
    "start_time": "2021-07-22T08:24:50.067Z"
   },
   {
    "duration": 39,
    "start_time": "2021-07-22T08:24:51.265Z"
   },
   {
    "duration": 16,
    "start_time": "2021-07-22T08:24:51.306Z"
   },
   {
    "duration": 184,
    "start_time": "2021-07-22T08:24:51.325Z"
   },
   {
    "duration": 5,
    "start_time": "2021-07-22T08:24:51.512Z"
   },
   {
    "duration": 5,
    "start_time": "2021-07-22T08:24:51.520Z"
   },
   {
    "duration": 77,
    "start_time": "2021-07-22T08:24:58.053Z"
   },
   {
    "duration": 287,
    "start_time": "2021-07-22T08:42:33.282Z"
   },
   {
    "duration": 301,
    "start_time": "2021-07-22T08:43:52.888Z"
   },
   {
    "duration": 26,
    "start_time": "2021-07-22T08:43:53.193Z"
   },
   {
    "duration": 14,
    "start_time": "2021-07-22T08:43:53.222Z"
   },
   {
    "duration": 12,
    "start_time": "2021-07-22T08:43:53.239Z"
   },
   {
    "duration": 8,
    "start_time": "2021-07-22T08:43:53.287Z"
   },
   {
    "duration": 5,
    "start_time": "2021-07-22T08:43:53.298Z"
   },
   {
    "duration": 114,
    "start_time": "2021-07-22T08:43:53.306Z"
   },
   {
    "duration": 87,
    "start_time": "2021-07-22T08:43:53.423Z"
   },
   {
    "duration": 303,
    "start_time": "2021-07-22T09:01:38.837Z"
   },
   {
    "duration": 46,
    "start_time": "2021-07-22T09:01:39.143Z"
   },
   {
    "duration": 16,
    "start_time": "2021-07-22T09:01:39.194Z"
   },
   {
    "duration": 12,
    "start_time": "2021-07-22T09:01:39.213Z"
   },
   {
    "duration": 6,
    "start_time": "2021-07-22T09:01:39.228Z"
   },
   {
    "duration": 49,
    "start_time": "2021-07-22T09:01:39.236Z"
   },
   {
    "duration": 132,
    "start_time": "2021-07-22T09:01:39.288Z"
   },
   {
    "duration": 92,
    "start_time": "2021-07-22T09:01:39.426Z"
   },
   {
    "duration": 15,
    "start_time": "2021-07-22T09:01:39.521Z"
   },
   {
    "duration": 14,
    "start_time": "2021-07-22T09:01:39.539Z"
   },
   {
    "duration": 53,
    "start_time": "2021-07-22T09:01:39.555Z"
   },
   {
    "duration": 24,
    "start_time": "2021-07-22T09:01:39.610Z"
   },
   {
    "duration": 22,
    "start_time": "2021-07-22T09:01:39.636Z"
   },
   {
    "duration": 27,
    "start_time": "2021-07-22T09:01:39.661Z"
   },
   {
    "duration": 14,
    "start_time": "2021-07-22T09:01:39.692Z"
   },
   {
    "duration": 5,
    "start_time": "2021-07-22T09:01:39.709Z"
   },
   {
    "duration": 12,
    "start_time": "2021-07-22T09:01:39.717Z"
   },
   {
    "duration": 8,
    "start_time": "2021-07-22T09:01:39.731Z"
   },
   {
    "duration": 52,
    "start_time": "2021-07-22T09:01:39.741Z"
   },
   {
    "duration": 5,
    "start_time": "2021-07-22T09:01:39.795Z"
   },
   {
    "duration": 15,
    "start_time": "2021-07-22T09:01:39.803Z"
   },
   {
    "duration": 6,
    "start_time": "2021-07-22T09:01:39.821Z"
   },
   {
    "duration": 8,
    "start_time": "2021-07-22T09:01:39.832Z"
   },
   {
    "duration": 66,
    "start_time": "2021-07-22T09:01:39.843Z"
   },
   {
    "duration": 13,
    "start_time": "2021-07-22T09:01:39.911Z"
   },
   {
    "duration": 8,
    "start_time": "2021-07-22T09:01:39.927Z"
   },
   {
    "duration": 7,
    "start_time": "2021-07-22T09:01:39.938Z"
   },
   {
    "duration": 26,
    "start_time": "2021-07-22T09:01:39.986Z"
   },
   {
    "duration": 9,
    "start_time": "2021-07-22T09:01:40.014Z"
   },
   {
    "duration": 9,
    "start_time": "2021-07-22T09:01:40.026Z"
   },
   {
    "duration": 7,
    "start_time": "2021-07-22T09:01:40.037Z"
   },
   {
    "duration": 46,
    "start_time": "2021-07-22T09:01:40.046Z"
   },
   {
    "duration": 37,
    "start_time": "2021-07-22T09:01:40.095Z"
   },
   {
    "duration": 5,
    "start_time": "2021-07-22T09:01:40.134Z"
   },
   {
    "duration": 7,
    "start_time": "2021-07-22T09:01:40.141Z"
   },
   {
    "duration": 8,
    "start_time": "2021-07-22T09:01:40.151Z"
   },
   {
    "duration": 31,
    "start_time": "2021-07-22T09:01:40.162Z"
   },
   {
    "duration": 33,
    "start_time": "2021-07-22T09:01:40.200Z"
   },
   {
    "duration": 62,
    "start_time": "2021-07-22T09:01:40.235Z"
   },
   {
    "duration": 3,
    "start_time": "2021-07-22T09:01:40.300Z"
   },
   {
    "duration": 636,
    "start_time": "2021-07-22T09:01:40.306Z"
   },
   {
    "duration": 53,
    "start_time": "2021-07-22T09:01:40.944Z"
   },
   {
    "duration": 28,
    "start_time": "2021-07-22T09:01:41.000Z"
   },
   {
    "duration": 21,
    "start_time": "2021-07-22T09:01:41.031Z"
   },
   {
    "duration": 10,
    "start_time": "2021-07-22T09:01:41.085Z"
   },
   {
    "duration": 4,
    "start_time": "2021-07-22T09:01:41.099Z"
   },
   {
    "duration": 7,
    "start_time": "2021-07-22T09:01:41.106Z"
   },
   {
    "duration": 22,
    "start_time": "2021-07-22T09:01:41.115Z"
   },
   {
    "duration": 63,
    "start_time": "2021-07-22T09:01:41.140Z"
   },
   {
    "duration": 32,
    "start_time": "2021-07-22T09:01:41.205Z"
   },
   {
    "duration": 5,
    "start_time": "2021-07-22T09:01:41.239Z"
   },
   {
    "duration": 53,
    "start_time": "2021-07-22T09:01:41.247Z"
   },
   {
    "duration": 6,
    "start_time": "2021-07-22T09:01:41.303Z"
   },
   {
    "duration": 17,
    "start_time": "2021-07-22T09:01:41.311Z"
   },
   {
    "duration": 4,
    "start_time": "2021-07-22T09:01:41.330Z"
   },
   {
    "duration": 55,
    "start_time": "2021-07-22T09:01:41.336Z"
   },
   {
    "duration": 32,
    "start_time": "2021-07-22T09:01:41.394Z"
   },
   {
    "duration": 16,
    "start_time": "2021-07-22T09:01:41.429Z"
   },
   {
    "duration": 71,
    "start_time": "2021-07-22T09:01:41.448Z"
   },
   {
    "duration": 18,
    "start_time": "2021-07-22T09:01:41.522Z"
   },
   {
    "duration": 50,
    "start_time": "2021-07-22T09:01:41.542Z"
   },
   {
    "duration": 51,
    "start_time": "2021-07-22T09:01:41.596Z"
   },
   {
    "duration": 7,
    "start_time": "2021-07-22T09:01:41.650Z"
   },
   {
    "duration": 13,
    "start_time": "2021-07-22T09:01:41.688Z"
   },
   {
    "duration": 30,
    "start_time": "2021-07-22T09:01:41.705Z"
   },
   {
    "duration": 12,
    "start_time": "2021-07-22T09:01:41.737Z"
   },
   {
    "duration": 42,
    "start_time": "2021-07-22T09:01:41.787Z"
   },
   {
    "duration": 5,
    "start_time": "2021-07-22T09:01:41.841Z"
   },
   {
    "duration": 36,
    "start_time": "2021-07-22T09:01:41.852Z"
   },
   {
    "duration": 41,
    "start_time": "2021-07-22T09:01:41.893Z"
   },
   {
    "duration": 50,
    "start_time": "2021-07-22T09:01:41.936Z"
   },
   {
    "duration": 13,
    "start_time": "2021-07-22T09:01:41.990Z"
   },
   {
    "duration": 11,
    "start_time": "2021-07-22T09:01:42.005Z"
   },
   {
    "duration": 10,
    "start_time": "2021-07-22T09:01:42.018Z"
   },
   {
    "duration": 821,
    "start_time": "2021-07-22T09:01:42.031Z"
   },
   {
    "duration": 49,
    "start_time": "2021-07-22T09:01:42.855Z"
   },
   {
    "duration": 6,
    "start_time": "2021-07-22T09:01:42.906Z"
   },
   {
    "duration": 11,
    "start_time": "2021-07-22T09:01:42.914Z"
   },
   {
    "duration": 64,
    "start_time": "2021-07-22T09:01:42.928Z"
   },
   {
    "duration": 28,
    "start_time": "2021-07-22T09:01:42.997Z"
   },
   {
    "duration": 59,
    "start_time": "2021-07-22T09:01:43.027Z"
   },
   {
    "duration": 10,
    "start_time": "2021-07-22T09:01:43.089Z"
   },
   {
    "duration": 6,
    "start_time": "2021-07-22T09:01:43.103Z"
   },
   {
    "duration": 5,
    "start_time": "2021-07-22T09:01:43.111Z"
   },
   {
    "duration": 1338,
    "start_time": "2021-07-22T09:01:43.118Z"
   },
   {
    "duration": 51,
    "start_time": "2021-07-22T09:01:44.458Z"
   },
   {
    "duration": 26,
    "start_time": "2021-07-22T09:01:44.512Z"
   },
   {
    "duration": 17,
    "start_time": "2021-07-22T09:01:44.541Z"
   },
   {
    "duration": 20,
    "start_time": "2021-07-22T09:01:44.587Z"
   },
   {
    "duration": 31,
    "start_time": "2021-07-22T09:01:44.610Z"
   },
   {
    "duration": 17,
    "start_time": "2021-07-22T09:01:44.643Z"
   },
   {
    "duration": 11,
    "start_time": "2021-07-22T09:01:44.662Z"
   },
   {
    "duration": 19,
    "start_time": "2021-07-22T09:01:44.689Z"
   },
   {
    "duration": 6,
    "start_time": "2021-07-22T09:01:44.710Z"
   },
   {
    "duration": 14,
    "start_time": "2021-07-22T09:01:44.718Z"
   },
   {
    "duration": 25,
    "start_time": "2021-07-22T09:01:44.734Z"
   },
   {
    "duration": 7,
    "start_time": "2021-07-22T09:01:44.788Z"
   },
   {
    "duration": 23,
    "start_time": "2021-07-22T09:01:44.799Z"
   },
   {
    "duration": 13,
    "start_time": "2021-07-22T09:01:44.824Z"
   },
   {
    "duration": 14,
    "start_time": "2021-07-22T09:01:44.840Z"
   },
   {
    "duration": 5,
    "start_time": "2021-07-22T09:01:44.857Z"
   },
   {
    "duration": 23,
    "start_time": "2021-07-22T09:01:44.865Z"
   },
   {
    "duration": 637,
    "start_time": "2021-07-22T09:01:44.891Z"
   },
   {
    "duration": 5,
    "start_time": "2021-07-22T09:01:45.530Z"
   },
   {
    "duration": 13,
    "start_time": "2021-07-22T09:01:45.538Z"
   },
   {
    "duration": 5,
    "start_time": "2021-07-22T09:01:45.553Z"
   },
   {
    "duration": 28,
    "start_time": "2021-07-22T09:01:45.560Z"
   },
   {
    "duration": 17,
    "start_time": "2021-07-22T09:01:45.592Z"
   },
   {
    "duration": 7,
    "start_time": "2021-07-22T09:01:45.612Z"
   },
   {
    "duration": 14,
    "start_time": "2021-07-22T09:01:45.622Z"
   },
   {
    "duration": 65,
    "start_time": "2021-07-22T09:01:45.640Z"
   },
   {
    "duration": 44,
    "start_time": "2021-07-22T09:01:45.708Z"
   },
   {
    "duration": 36,
    "start_time": "2021-07-22T09:01:45.755Z"
   },
   {
    "duration": 8,
    "start_time": "2021-07-22T09:01:45.793Z"
   },
   {
    "duration": 19,
    "start_time": "2021-07-22T09:01:45.803Z"
   },
   {
    "duration": 10,
    "start_time": "2021-07-22T09:01:45.825Z"
   },
   {
    "duration": 50,
    "start_time": "2021-07-22T09:01:45.837Z"
   },
   {
    "duration": 12,
    "start_time": "2021-07-22T09:01:45.890Z"
   },
   {
    "duration": 3489,
    "start_time": "2021-07-22T09:01:45.904Z"
   },
   {
    "duration": 19,
    "start_time": "2021-07-22T09:01:49.397Z"
   },
   {
    "duration": 10,
    "start_time": "2021-07-22T09:01:49.419Z"
   },
   {
    "duration": 6,
    "start_time": "2021-07-22T09:01:49.431Z"
   },
   {
    "duration": 785,
    "start_time": "2021-07-22T09:01:49.439Z"
   },
   {
    "duration": 10,
    "start_time": "2021-07-22T09:01:50.226Z"
   },
   {
    "duration": 11,
    "start_time": "2021-07-22T09:01:50.238Z"
   },
   {
    "duration": 50,
    "start_time": "2021-07-22T09:01:50.251Z"
   },
   {
    "duration": 11,
    "start_time": "2021-07-22T09:01:50.303Z"
   },
   {
    "duration": 13,
    "start_time": "2021-07-22T09:01:50.316Z"
   },
   {
    "duration": 11,
    "start_time": "2021-07-22T09:01:50.331Z"
   },
   {
    "duration": 9,
    "start_time": "2021-07-22T09:01:50.345Z"
   },
   {
    "duration": 9,
    "start_time": "2021-07-22T09:01:50.387Z"
   },
   {
    "duration": 12,
    "start_time": "2021-07-22T09:01:50.399Z"
   },
   {
    "duration": 480,
    "start_time": "2021-07-22T09:01:50.413Z"
   },
   {
    "duration": 12,
    "start_time": "2021-07-22T09:01:50.897Z"
   },
   {
    "duration": 14,
    "start_time": "2021-07-22T09:01:50.911Z"
   },
   {
    "duration": 65,
    "start_time": "2021-07-22T09:01:50.927Z"
   },
   {
    "duration": 6,
    "start_time": "2021-07-22T09:01:50.995Z"
   },
   {
    "duration": 28,
    "start_time": "2021-07-22T09:01:51.003Z"
   },
   {
    "duration": 29,
    "start_time": "2021-07-22T09:01:51.034Z"
   },
   {
    "duration": 20,
    "start_time": "2021-07-22T09:01:51.066Z"
   },
   {
    "duration": 324,
    "start_time": "2021-07-22T09:01:51.088Z"
   },
   {
    "duration": 11,
    "start_time": "2021-07-22T09:01:51.414Z"
   },
   {
    "duration": 11,
    "start_time": "2021-07-22T09:01:51.428Z"
   },
   {
    "duration": 4,
    "start_time": "2021-07-22T09:09:02.915Z"
   },
   {
    "duration": 3458,
    "start_time": "2021-07-22T09:10:17.364Z"
   },
   {
    "duration": 12,
    "start_time": "2021-07-22T09:10:45.578Z"
   },
   {
    "duration": 9,
    "start_time": "2021-07-22T09:11:02.410Z"
   },
   {
    "duration": 107,
    "start_time": "2021-07-22T09:12:47.514Z"
   },
   {
    "duration": 111,
    "start_time": "2021-07-22T09:12:52.592Z"
   },
   {
    "duration": 24,
    "start_time": "2021-07-22T09:13:56.172Z"
   }
  ],
  "colab": {
   "collapsed_sections": [],
   "name": "reliability-research-borrowers.ipynb",
   "provenance": []
  },
  "kernelspec": {
   "display_name": "Python 3 (ipykernel)",
   "language": "python",
   "name": "python3"
  },
  "language_info": {
   "codemirror_mode": {
    "name": "ipython",
    "version": 3
   },
   "file_extension": ".py",
   "mimetype": "text/x-python",
   "name": "python",
   "nbconvert_exporter": "python",
   "pygments_lexer": "ipython3",
   "version": "3.9.7"
  },
  "toc": {
   "base_numbering": 1,
   "nav_menu": {},
   "number_sections": true,
   "sideBar": true,
   "skip_h1_title": true,
   "title_cell": "Table of Contents",
   "title_sidebar": "Contents",
   "toc_cell": false,
   "toc_position": {},
   "toc_section_display": true,
   "toc_window_display": false
  }
 },
 "nbformat": 4,
 "nbformat_minor": 1
}
